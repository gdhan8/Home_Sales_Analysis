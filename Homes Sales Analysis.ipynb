{
 "cells": [
  {
   "cell_type": "markdown",
   "id": "89bf643a",
   "metadata": {},
   "source": [
    "# Home Sales Analysis Project:\n",
    "## Previous 6 Months of Town Homes Sold in Dumfries - Woodbridge, Virginia Area"
   ]
  },
  {
   "cell_type": "markdown",
   "id": "c1870d4b",
   "metadata": {},
   "source": [
    "Publicly available information on homes sold and homes for sale from April 2022 to October 2022 was compiled into a .csv file. The area for the home data collected was specific to Dumfries / Woodbridge Virginia Area. Initial collection of the dataset resulted in some duplicate values and Null/NaNs (incomplete data). Limited data pre-processing was able to mitigate duplicates and incomplete data issues. The project utilized pandas, numpy, and plotly.express packages for cursory data analysis and visualization. "
   ]
  },
  {
   "cell_type": "code",
   "execution_count": 33,
   "id": "d2a829bb",
   "metadata": {},
   "outputs": [],
   "source": [
    "import pandas as pd\n",
    "import numpy as np\n",
    "import plotly.express as px\n",
    "from sklearn.linear_model import LinearRegression"
   ]
  },
  {
   "cell_type": "markdown",
   "id": "0bc61b37",
   "metadata": {},
   "source": [
    "# Import Local Housing For Sale and Sold Data"
   ]
  },
  {
   "cell_type": "markdown",
   "id": "3f932579",
   "metadata": {},
   "source": [
    "- Housing data was scraped on October 9th, 2022\n",
    "- Specific to Dumfries / Woodbridge Virginia Area\n",
    "- Sold in the last 6 months and For Sale Data was compiled\n",
    "- Dataset contains duplicates, Nulls/NaNs \n",
    "- Uneven geo-search area, primarily focused on 22025 ZIPCODE\n"
   ]
  },
  {
   "cell_type": "code",
   "execution_count": 34,
   "id": "da7ebc92",
   "metadata": {},
   "outputs": [
    {
     "data": {
      "text/html": [
       "<div>\n",
       "<style scoped>\n",
       "    .dataframe tbody tr th:only-of-type {\n",
       "        vertical-align: middle;\n",
       "    }\n",
       "\n",
       "    .dataframe tbody tr th {\n",
       "        vertical-align: top;\n",
       "    }\n",
       "\n",
       "    .dataframe thead th {\n",
       "        text-align: right;\n",
       "    }\n",
       "</style>\n",
       "<table border=\"1\" class=\"dataframe\">\n",
       "  <thead>\n",
       "    <tr style=\"text-align: right;\">\n",
       "      <th></th>\n",
       "      <th>zid</th>\n",
       "      <th>statusType</th>\n",
       "      <th>statusText</th>\n",
       "      <th>timeOnZillow</th>\n",
       "      <th>price</th>\n",
       "      <th>pricePerSqFt</th>\n",
       "      <th>zestimate</th>\n",
       "      <th>zestimatePerSqFt</th>\n",
       "      <th>rentZestimate</th>\n",
       "      <th>area</th>\n",
       "      <th>lotSize</th>\n",
       "      <th>lotAreaUnit</th>\n",
       "      <th>beds</th>\n",
       "      <th>baths</th>\n",
       "      <th>address</th>\n",
       "      <th>addressStreet</th>\n",
       "      <th>addressCity</th>\n",
       "      <th>addressState</th>\n",
       "      <th>addressZipcode</th>\n",
       "      <th>latitude</th>\n",
       "      <th>longitude</th>\n",
       "      <th>brokerName</th>\n",
       "      <th>isZillowOwned</th>\n",
       "      <th>detailUrl</th>\n",
       "      <th>image</th>\n",
       "      <th>sourceUrl</th>\n",
       "      <th>Unnamed: 26</th>\n",
       "      <th>Unnamed: 27</th>\n",
       "      <th>Unnamed: 28</th>\n",
       "      <th>Unnamed: 29</th>\n",
       "      <th>Unnamed: 30</th>\n",
       "      <th>Unnamed: 31</th>\n",
       "      <th>Unnamed: 32</th>\n",
       "      <th>Unnamed: 33</th>\n",
       "      <th>Unnamed: 34</th>\n",
       "      <th>Unnamed: 35</th>\n",
       "      <th>Unnamed: 36</th>\n",
       "      <th>Unnamed: 37</th>\n",
       "      <th>Unnamed: 38</th>\n",
       "      <th>Unnamed: 39</th>\n",
       "      <th>Unnamed: 40</th>\n",
       "      <th>Unnamed: 41</th>\n",
       "      <th>Unnamed: 42</th>\n",
       "      <th>Unnamed: 43</th>\n",
       "      <th>Unnamed: 44</th>\n",
       "      <th>Unnamed: 45</th>\n",
       "      <th>Unnamed: 46</th>\n",
       "      <th>Unnamed: 47</th>\n",
       "      <th>Unnamed: 48</th>\n",
       "      <th>Unnamed: 49</th>\n",
       "      <th>Unnamed: 50</th>\n",
       "      <th>Unnamed: 51</th>\n",
       "      <th>Unnamed: 52</th>\n",
       "      <th>Unnamed: 53</th>\n",
       "      <th>Unnamed: 54</th>\n",
       "      <th>Unnamed: 55</th>\n",
       "      <th>Unnamed: 56</th>\n",
       "      <th>Unnamed: 57</th>\n",
       "      <th>Unnamed: 58</th>\n",
       "      <th>Unnamed: 59</th>\n",
       "      <th>Unnamed: 60</th>\n",
       "      <th>Unnamed: 61</th>\n",
       "      <th>Unnamed: 62</th>\n",
       "      <th>Unnamed: 63</th>\n",
       "      <th>Unnamed: 64</th>\n",
       "      <th>Unnamed: 65</th>\n",
       "      <th>Unnamed: 66</th>\n",
       "      <th>Unnamed: 67</th>\n",
       "      <th>Unnamed: 68</th>\n",
       "      <th>Unnamed: 69</th>\n",
       "      <th>Unnamed: 70</th>\n",
       "      <th>Unnamed: 71</th>\n",
       "      <th>Unnamed: 72</th>\n",
       "      <th>Unnamed: 73</th>\n",
       "      <th>Unnamed: 74</th>\n",
       "      <th>Unnamed: 75</th>\n",
       "      <th>Unnamed: 76</th>\n",
       "      <th>Unnamed: 77</th>\n",
       "      <th>Unnamed: 78</th>\n",
       "      <th>Unnamed: 79</th>\n",
       "      <th>Unnamed: 80</th>\n",
       "      <th>Unnamed: 81</th>\n",
       "      <th>Unnamed: 82</th>\n",
       "      <th>Unnamed: 83</th>\n",
       "      <th>Unnamed: 84</th>\n",
       "      <th>Unnamed: 85</th>\n",
       "      <th>Unnamed: 86</th>\n",
       "      <th>Unnamed: 87</th>\n",
       "      <th>Unnamed: 88</th>\n",
       "      <th>Unnamed: 89</th>\n",
       "      <th>Unnamed: 90</th>\n",
       "      <th>Unnamed: 91</th>\n",
       "      <th>Unnamed: 92</th>\n",
       "    </tr>\n",
       "  </thead>\n",
       "  <tbody>\n",
       "    <tr>\n",
       "      <th>0</th>\n",
       "      <td>12467099</td>\n",
       "      <td>FOR_SALE</td>\n",
       "      <td>Townhouse for sale</td>\n",
       "      <td>NaN</td>\n",
       "      <td>356900</td>\n",
       "      <td>172.0</td>\n",
       "      <td>374000.0</td>\n",
       "      <td>180.0</td>\n",
       "      <td>2279.0</td>\n",
       "      <td>2076.0</td>\n",
       "      <td>1542.0</td>\n",
       "      <td>sqft</td>\n",
       "      <td>3.0</td>\n",
       "      <td>3.0</td>\n",
       "      <td>13138 Vineyard Way, Woodbridge, VA 22191</td>\n",
       "      <td>13138 Vineyard Way</td>\n",
       "      <td>Woodbridge</td>\n",
       "      <td>VA</td>\n",
       "      <td>22191</td>\n",
       "      <td>38.666454</td>\n",
       "      <td>-77.256530</td>\n",
       "      <td>Save More Realty LLC</td>\n",
       "      <td>False</td>\n",
       "      <td>https://www.zillow.com/homedetails/13138-Viney...</td>\n",
       "      <td>https://photos.zillowstatic.com/fp/b87dc554233...</td>\n",
       "      <td>https://www.zillow.com/homes/for_sale/2_p/?sea...</td>\n",
       "      <td>NaN</td>\n",
       "      <td>NaN</td>\n",
       "      <td>NaN</td>\n",
       "      <td>NaN</td>\n",
       "      <td>NaN</td>\n",
       "      <td>NaN</td>\n",
       "      <td>NaN</td>\n",
       "      <td>NaN</td>\n",
       "      <td>NaN</td>\n",
       "      <td>NaN</td>\n",
       "      <td>NaN</td>\n",
       "      <td>NaN</td>\n",
       "      <td>NaN</td>\n",
       "      <td>NaN</td>\n",
       "      <td>NaN</td>\n",
       "      <td>NaN</td>\n",
       "      <td>NaN</td>\n",
       "      <td>NaN</td>\n",
       "      <td>NaN</td>\n",
       "      <td>NaN</td>\n",
       "      <td>NaN</td>\n",
       "      <td>NaN</td>\n",
       "      <td>NaN</td>\n",
       "      <td>NaN</td>\n",
       "      <td>NaN</td>\n",
       "      <td>NaN</td>\n",
       "      <td>NaN</td>\n",
       "      <td>NaN</td>\n",
       "      <td>NaN</td>\n",
       "      <td>NaN</td>\n",
       "      <td>NaN</td>\n",
       "      <td>NaN</td>\n",
       "      <td>NaN</td>\n",
       "      <td>NaN</td>\n",
       "      <td>NaN</td>\n",
       "      <td>NaN</td>\n",
       "      <td>NaN</td>\n",
       "      <td>NaN</td>\n",
       "      <td>NaN</td>\n",
       "      <td>NaN</td>\n",
       "      <td>NaN</td>\n",
       "      <td>NaN</td>\n",
       "      <td>NaN</td>\n",
       "      <td>NaN</td>\n",
       "      <td>NaN</td>\n",
       "      <td>NaN</td>\n",
       "      <td>NaN</td>\n",
       "      <td>NaN</td>\n",
       "      <td>NaN</td>\n",
       "      <td>NaN</td>\n",
       "      <td>NaN</td>\n",
       "      <td>NaN</td>\n",
       "      <td>NaN</td>\n",
       "      <td>NaN</td>\n",
       "      <td>NaN</td>\n",
       "      <td>NaN</td>\n",
       "      <td>NaN</td>\n",
       "      <td>NaN</td>\n",
       "      <td>NaN</td>\n",
       "      <td>NaN</td>\n",
       "      <td>NaN</td>\n",
       "      <td>NaN</td>\n",
       "      <td>NaN</td>\n",
       "      <td>NaN</td>\n",
       "      <td>NaN</td>\n",
       "      <td>NaN</td>\n",
       "      <td>NaN</td>\n",
       "    </tr>\n",
       "    <tr>\n",
       "      <th>1</th>\n",
       "      <td>12504316</td>\n",
       "      <td>FOR_SALE</td>\n",
       "      <td>Townhouse for sale</td>\n",
       "      <td>NaN</td>\n",
       "      <td>449900</td>\n",
       "      <td>210.0</td>\n",
       "      <td>463600.0</td>\n",
       "      <td>216.0</td>\n",
       "      <td>2499.0</td>\n",
       "      <td>2144.0</td>\n",
       "      <td>1673.0</td>\n",
       "      <td>sqft</td>\n",
       "      <td>4.0</td>\n",
       "      <td>4.0</td>\n",
       "      <td>2235 Sluice Channel Pl, Woodbridge, VA 22192</td>\n",
       "      <td>2235 Sluice Channel Pl</td>\n",
       "      <td>Woodbridge</td>\n",
       "      <td>VA</td>\n",
       "      <td>22192</td>\n",
       "      <td>38.672756</td>\n",
       "      <td>-77.280815</td>\n",
       "      <td>Redfin Corporation</td>\n",
       "      <td>False</td>\n",
       "      <td>https://www.zillow.com/homedetails/2235-Sluice...</td>\n",
       "      <td>https://photos.zillowstatic.com/fp/c490e29bcbb...</td>\n",
       "      <td>https://www.zillow.com/homes/for_sale/?searchQ...</td>\n",
       "      <td>NaN</td>\n",
       "      <td>NaN</td>\n",
       "      <td>NaN</td>\n",
       "      <td>NaN</td>\n",
       "      <td>NaN</td>\n",
       "      <td>NaN</td>\n",
       "      <td>NaN</td>\n",
       "      <td>NaN</td>\n",
       "      <td>NaN</td>\n",
       "      <td>NaN</td>\n",
       "      <td>NaN</td>\n",
       "      <td>NaN</td>\n",
       "      <td>NaN</td>\n",
       "      <td>NaN</td>\n",
       "      <td>NaN</td>\n",
       "      <td>NaN</td>\n",
       "      <td>NaN</td>\n",
       "      <td>NaN</td>\n",
       "      <td>NaN</td>\n",
       "      <td>NaN</td>\n",
       "      <td>NaN</td>\n",
       "      <td>NaN</td>\n",
       "      <td>NaN</td>\n",
       "      <td>NaN</td>\n",
       "      <td>NaN</td>\n",
       "      <td>NaN</td>\n",
       "      <td>NaN</td>\n",
       "      <td>NaN</td>\n",
       "      <td>NaN</td>\n",
       "      <td>NaN</td>\n",
       "      <td>NaN</td>\n",
       "      <td>NaN</td>\n",
       "      <td>NaN</td>\n",
       "      <td>NaN</td>\n",
       "      <td>NaN</td>\n",
       "      <td>NaN</td>\n",
       "      <td>NaN</td>\n",
       "      <td>NaN</td>\n",
       "      <td>NaN</td>\n",
       "      <td>NaN</td>\n",
       "      <td>NaN</td>\n",
       "      <td>NaN</td>\n",
       "      <td>NaN</td>\n",
       "      <td>NaN</td>\n",
       "      <td>NaN</td>\n",
       "      <td>NaN</td>\n",
       "      <td>NaN</td>\n",
       "      <td>NaN</td>\n",
       "      <td>NaN</td>\n",
       "      <td>NaN</td>\n",
       "      <td>NaN</td>\n",
       "      <td>NaN</td>\n",
       "      <td>NaN</td>\n",
       "      <td>NaN</td>\n",
       "      <td>NaN</td>\n",
       "      <td>NaN</td>\n",
       "      <td>NaN</td>\n",
       "      <td>NaN</td>\n",
       "      <td>NaN</td>\n",
       "      <td>NaN</td>\n",
       "      <td>NaN</td>\n",
       "      <td>NaN</td>\n",
       "      <td>NaN</td>\n",
       "      <td>NaN</td>\n",
       "      <td>NaN</td>\n",
       "      <td>NaN</td>\n",
       "      <td>NaN</td>\n",
       "    </tr>\n",
       "    <tr>\n",
       "      <th>2</th>\n",
       "      <td>12457475</td>\n",
       "      <td>FOR_SALE</td>\n",
       "      <td>House for sale</td>\n",
       "      <td>12 days</td>\n",
       "      <td>485000</td>\n",
       "      <td>224.0</td>\n",
       "      <td>NaN</td>\n",
       "      <td>NaN</td>\n",
       "      <td>NaN</td>\n",
       "      <td>2168.0</td>\n",
       "      <td>10502.0</td>\n",
       "      <td>sqft</td>\n",
       "      <td>5.0</td>\n",
       "      <td>3.0</td>\n",
       "      <td>14557 Eastman St, Woodbridge, VA 22193</td>\n",
       "      <td>14557 Eastman St</td>\n",
       "      <td>Woodbridge</td>\n",
       "      <td>VA</td>\n",
       "      <td>22193</td>\n",
       "      <td>38.637375</td>\n",
       "      <td>-77.345250</td>\n",
       "      <td>Casals, Realtors</td>\n",
       "      <td>False</td>\n",
       "      <td>https://www.zillow.com/homedetails/14557-Eastm...</td>\n",
       "      <td>https://photos.zillowstatic.com/fp/ff20e020e23...</td>\n",
       "      <td>https://www.zillow.com/homedetails/3329-Wyndal...</td>\n",
       "      <td>NaN</td>\n",
       "      <td>NaN</td>\n",
       "      <td>NaN</td>\n",
       "      <td>NaN</td>\n",
       "      <td>NaN</td>\n",
       "      <td>NaN</td>\n",
       "      <td>NaN</td>\n",
       "      <td>NaN</td>\n",
       "      <td>NaN</td>\n",
       "      <td>NaN</td>\n",
       "      <td>NaN</td>\n",
       "      <td>NaN</td>\n",
       "      <td>NaN</td>\n",
       "      <td>NaN</td>\n",
       "      <td>NaN</td>\n",
       "      <td>NaN</td>\n",
       "      <td>NaN</td>\n",
       "      <td>NaN</td>\n",
       "      <td>NaN</td>\n",
       "      <td>NaN</td>\n",
       "      <td>NaN</td>\n",
       "      <td>NaN</td>\n",
       "      <td>NaN</td>\n",
       "      <td>NaN</td>\n",
       "      <td>NaN</td>\n",
       "      <td>NaN</td>\n",
       "      <td>NaN</td>\n",
       "      <td>NaN</td>\n",
       "      <td>NaN</td>\n",
       "      <td>NaN</td>\n",
       "      <td>NaN</td>\n",
       "      <td>NaN</td>\n",
       "      <td>NaN</td>\n",
       "      <td>NaN</td>\n",
       "      <td>NaN</td>\n",
       "      <td>NaN</td>\n",
       "      <td>NaN</td>\n",
       "      <td>NaN</td>\n",
       "      <td>NaN</td>\n",
       "      <td>NaN</td>\n",
       "      <td>NaN</td>\n",
       "      <td>NaN</td>\n",
       "      <td>NaN</td>\n",
       "      <td>NaN</td>\n",
       "      <td>NaN</td>\n",
       "      <td>NaN</td>\n",
       "      <td>NaN</td>\n",
       "      <td>NaN</td>\n",
       "      <td>NaN</td>\n",
       "      <td>NaN</td>\n",
       "      <td>NaN</td>\n",
       "      <td>NaN</td>\n",
       "      <td>NaN</td>\n",
       "      <td>NaN</td>\n",
       "      <td>NaN</td>\n",
       "      <td>NaN</td>\n",
       "      <td>NaN</td>\n",
       "      <td>NaN</td>\n",
       "      <td>NaN</td>\n",
       "      <td>NaN</td>\n",
       "      <td>NaN</td>\n",
       "      <td>NaN</td>\n",
       "      <td>NaN</td>\n",
       "      <td>NaN</td>\n",
       "      <td>NaN</td>\n",
       "      <td>NaN</td>\n",
       "      <td>NaN</td>\n",
       "    </tr>\n",
       "    <tr>\n",
       "      <th>3</th>\n",
       "      <td>12499132</td>\n",
       "      <td>FOR_SALE</td>\n",
       "      <td>Townhouse for sale</td>\n",
       "      <td>40 days</td>\n",
       "      <td>299000</td>\n",
       "      <td>158.0</td>\n",
       "      <td>307600.0</td>\n",
       "      <td>162.0</td>\n",
       "      <td>2469.0</td>\n",
       "      <td>1894.0</td>\n",
       "      <td>NaN</td>\n",
       "      <td>NaN</td>\n",
       "      <td>3.0</td>\n",
       "      <td>3.0</td>\n",
       "      <td>12600 Kempston Ln, Woodbridge, VA 22192</td>\n",
       "      <td>12600 Kempston Ln</td>\n",
       "      <td>Woodbridge</td>\n",
       "      <td>VA</td>\n",
       "      <td>22192</td>\n",
       "      <td>38.681744</td>\n",
       "      <td>-77.331160</td>\n",
       "      <td>Samson Properties</td>\n",
       "      <td>False</td>\n",
       "      <td>https://www.zillow.com/homedetails/12600-Kemps...</td>\n",
       "      <td>https://photos.zillowstatic.com/fp/b20f70639ce...</td>\n",
       "      <td>https://www.zillow.com/homes/for_sale/2_p/?sea...</td>\n",
       "      <td>NaN</td>\n",
       "      <td>NaN</td>\n",
       "      <td>NaN</td>\n",
       "      <td>NaN</td>\n",
       "      <td>NaN</td>\n",
       "      <td>NaN</td>\n",
       "      <td>NaN</td>\n",
       "      <td>NaN</td>\n",
       "      <td>NaN</td>\n",
       "      <td>NaN</td>\n",
       "      <td>NaN</td>\n",
       "      <td>NaN</td>\n",
       "      <td>NaN</td>\n",
       "      <td>NaN</td>\n",
       "      <td>NaN</td>\n",
       "      <td>NaN</td>\n",
       "      <td>NaN</td>\n",
       "      <td>NaN</td>\n",
       "      <td>NaN</td>\n",
       "      <td>NaN</td>\n",
       "      <td>NaN</td>\n",
       "      <td>NaN</td>\n",
       "      <td>NaN</td>\n",
       "      <td>NaN</td>\n",
       "      <td>NaN</td>\n",
       "      <td>NaN</td>\n",
       "      <td>NaN</td>\n",
       "      <td>NaN</td>\n",
       "      <td>NaN</td>\n",
       "      <td>NaN</td>\n",
       "      <td>NaN</td>\n",
       "      <td>NaN</td>\n",
       "      <td>NaN</td>\n",
       "      <td>NaN</td>\n",
       "      <td>NaN</td>\n",
       "      <td>NaN</td>\n",
       "      <td>NaN</td>\n",
       "      <td>NaN</td>\n",
       "      <td>NaN</td>\n",
       "      <td>NaN</td>\n",
       "      <td>NaN</td>\n",
       "      <td>NaN</td>\n",
       "      <td>NaN</td>\n",
       "      <td>NaN</td>\n",
       "      <td>NaN</td>\n",
       "      <td>NaN</td>\n",
       "      <td>NaN</td>\n",
       "      <td>NaN</td>\n",
       "      <td>NaN</td>\n",
       "      <td>NaN</td>\n",
       "      <td>NaN</td>\n",
       "      <td>NaN</td>\n",
       "      <td>NaN</td>\n",
       "      <td>NaN</td>\n",
       "      <td>NaN</td>\n",
       "      <td>NaN</td>\n",
       "      <td>NaN</td>\n",
       "      <td>NaN</td>\n",
       "      <td>NaN</td>\n",
       "      <td>NaN</td>\n",
       "      <td>NaN</td>\n",
       "      <td>NaN</td>\n",
       "      <td>NaN</td>\n",
       "      <td>NaN</td>\n",
       "      <td>NaN</td>\n",
       "      <td>NaN</td>\n",
       "      <td>NaN</td>\n",
       "    </tr>\n",
       "    <tr>\n",
       "      <th>4</th>\n",
       "      <td>12485423</td>\n",
       "      <td>FOR_SALE</td>\n",
       "      <td>Townhouse for sale</td>\n",
       "      <td>29 days</td>\n",
       "      <td>475000</td>\n",
       "      <td>242.0</td>\n",
       "      <td>NaN</td>\n",
       "      <td>NaN</td>\n",
       "      <td>NaN</td>\n",
       "      <td>1960.0</td>\n",
       "      <td>1599.0</td>\n",
       "      <td>sqft</td>\n",
       "      <td>3.0</td>\n",
       "      <td>4.0</td>\n",
       "      <td>11578 Hill Meade Ln, Woodbridge, VA 22192</td>\n",
       "      <td>11578 Hill Meade Ln</td>\n",
       "      <td>Woodbridge</td>\n",
       "      <td>VA</td>\n",
       "      <td>22192</td>\n",
       "      <td>38.704990</td>\n",
       "      <td>-77.304890</td>\n",
       "      <td>TTR Sotheby's International Realty</td>\n",
       "      <td>False</td>\n",
       "      <td>https://www.zillow.com/homedetails/11578-Hill-...</td>\n",
       "      <td>https://photos.zillowstatic.com/fp/5b7c291a480...</td>\n",
       "      <td>https://www.zillow.com/homes/for_sale/?searchQ...</td>\n",
       "      <td>NaN</td>\n",
       "      <td>NaN</td>\n",
       "      <td>NaN</td>\n",
       "      <td>NaN</td>\n",
       "      <td>NaN</td>\n",
       "      <td>NaN</td>\n",
       "      <td>NaN</td>\n",
       "      <td>NaN</td>\n",
       "      <td>NaN</td>\n",
       "      <td>NaN</td>\n",
       "      <td>NaN</td>\n",
       "      <td>NaN</td>\n",
       "      <td>NaN</td>\n",
       "      <td>NaN</td>\n",
       "      <td>NaN</td>\n",
       "      <td>NaN</td>\n",
       "      <td>NaN</td>\n",
       "      <td>NaN</td>\n",
       "      <td>NaN</td>\n",
       "      <td>NaN</td>\n",
       "      <td>NaN</td>\n",
       "      <td>NaN</td>\n",
       "      <td>NaN</td>\n",
       "      <td>NaN</td>\n",
       "      <td>NaN</td>\n",
       "      <td>NaN</td>\n",
       "      <td>NaN</td>\n",
       "      <td>NaN</td>\n",
       "      <td>NaN</td>\n",
       "      <td>NaN</td>\n",
       "      <td>NaN</td>\n",
       "      <td>NaN</td>\n",
       "      <td>NaN</td>\n",
       "      <td>NaN</td>\n",
       "      <td>NaN</td>\n",
       "      <td>NaN</td>\n",
       "      <td>NaN</td>\n",
       "      <td>NaN</td>\n",
       "      <td>NaN</td>\n",
       "      <td>NaN</td>\n",
       "      <td>NaN</td>\n",
       "      <td>NaN</td>\n",
       "      <td>NaN</td>\n",
       "      <td>NaN</td>\n",
       "      <td>NaN</td>\n",
       "      <td>NaN</td>\n",
       "      <td>NaN</td>\n",
       "      <td>NaN</td>\n",
       "      <td>NaN</td>\n",
       "      <td>NaN</td>\n",
       "      <td>NaN</td>\n",
       "      <td>NaN</td>\n",
       "      <td>NaN</td>\n",
       "      <td>NaN</td>\n",
       "      <td>NaN</td>\n",
       "      <td>NaN</td>\n",
       "      <td>NaN</td>\n",
       "      <td>NaN</td>\n",
       "      <td>NaN</td>\n",
       "      <td>NaN</td>\n",
       "      <td>NaN</td>\n",
       "      <td>NaN</td>\n",
       "      <td>NaN</td>\n",
       "      <td>NaN</td>\n",
       "      <td>NaN</td>\n",
       "      <td>NaN</td>\n",
       "      <td>NaN</td>\n",
       "    </tr>\n",
       "  </tbody>\n",
       "</table>\n",
       "</div>"
      ],
      "text/plain": [
       "        zid statusType          statusText timeOnZillow   price  pricePerSqFt  \\\n",
       "0  12467099   FOR_SALE  Townhouse for sale          NaN  356900         172.0   \n",
       "1  12504316   FOR_SALE  Townhouse for sale          NaN  449900         210.0   \n",
       "2  12457475   FOR_SALE      House for sale     12 days   485000         224.0   \n",
       "3  12499132   FOR_SALE  Townhouse for sale     40 days   299000         158.0   \n",
       "4  12485423   FOR_SALE  Townhouse for sale     29 days   475000         242.0   \n",
       "\n",
       "   zestimate  zestimatePerSqFt  rentZestimate    area  lotSize lotAreaUnit  \\\n",
       "0   374000.0             180.0         2279.0  2076.0   1542.0        sqft   \n",
       "1   463600.0             216.0         2499.0  2144.0   1673.0        sqft   \n",
       "2        NaN               NaN            NaN  2168.0  10502.0        sqft   \n",
       "3   307600.0             162.0         2469.0  1894.0      NaN         NaN   \n",
       "4        NaN               NaN            NaN  1960.0   1599.0        sqft   \n",
       "\n",
       "   beds  baths                                       address  \\\n",
       "0   3.0    3.0      13138 Vineyard Way, Woodbridge, VA 22191   \n",
       "1   4.0    4.0  2235 Sluice Channel Pl, Woodbridge, VA 22192   \n",
       "2   5.0    3.0        14557 Eastman St, Woodbridge, VA 22193   \n",
       "3   3.0    3.0       12600 Kempston Ln, Woodbridge, VA 22192   \n",
       "4   3.0    4.0     11578 Hill Meade Ln, Woodbridge, VA 22192   \n",
       "\n",
       "            addressStreet addressCity addressState  addressZipcode   latitude  \\\n",
       "0      13138 Vineyard Way  Woodbridge           VA           22191  38.666454   \n",
       "1  2235 Sluice Channel Pl  Woodbridge           VA           22192  38.672756   \n",
       "2        14557 Eastman St  Woodbridge           VA           22193  38.637375   \n",
       "3       12600 Kempston Ln  Woodbridge           VA           22192  38.681744   \n",
       "4     11578 Hill Meade Ln  Woodbridge           VA           22192  38.704990   \n",
       "\n",
       "   longitude                          brokerName  isZillowOwned  \\\n",
       "0 -77.256530                Save More Realty LLC          False   \n",
       "1 -77.280815                  Redfin Corporation          False   \n",
       "2 -77.345250                    Casals, Realtors          False   \n",
       "3 -77.331160                   Samson Properties          False   \n",
       "4 -77.304890  TTR Sotheby's International Realty          False   \n",
       "\n",
       "                                           detailUrl  \\\n",
       "0  https://www.zillow.com/homedetails/13138-Viney...   \n",
       "1  https://www.zillow.com/homedetails/2235-Sluice...   \n",
       "2  https://www.zillow.com/homedetails/14557-Eastm...   \n",
       "3  https://www.zillow.com/homedetails/12600-Kemps...   \n",
       "4  https://www.zillow.com/homedetails/11578-Hill-...   \n",
       "\n",
       "                                               image  \\\n",
       "0  https://photos.zillowstatic.com/fp/b87dc554233...   \n",
       "1  https://photos.zillowstatic.com/fp/c490e29bcbb...   \n",
       "2  https://photos.zillowstatic.com/fp/ff20e020e23...   \n",
       "3  https://photos.zillowstatic.com/fp/b20f70639ce...   \n",
       "4  https://photos.zillowstatic.com/fp/5b7c291a480...   \n",
       "\n",
       "                                           sourceUrl Unnamed: 26 Unnamed: 27  \\\n",
       "0  https://www.zillow.com/homes/for_sale/2_p/?sea...         NaN         NaN   \n",
       "1  https://www.zillow.com/homes/for_sale/?searchQ...         NaN         NaN   \n",
       "2  https://www.zillow.com/homedetails/3329-Wyndal...         NaN         NaN   \n",
       "3  https://www.zillow.com/homes/for_sale/2_p/?sea...         NaN         NaN   \n",
       "4  https://www.zillow.com/homes/for_sale/?searchQ...         NaN         NaN   \n",
       "\n",
       "  Unnamed: 28 Unnamed: 29 Unnamed: 30 Unnamed: 31 Unnamed: 32 Unnamed: 33  \\\n",
       "0         NaN         NaN         NaN         NaN         NaN         NaN   \n",
       "1         NaN         NaN         NaN         NaN         NaN         NaN   \n",
       "2         NaN         NaN         NaN         NaN         NaN         NaN   \n",
       "3         NaN         NaN         NaN         NaN         NaN         NaN   \n",
       "4         NaN         NaN         NaN         NaN         NaN         NaN   \n",
       "\n",
       "  Unnamed: 34 Unnamed: 35 Unnamed: 36 Unnamed: 37 Unnamed: 38 Unnamed: 39  \\\n",
       "0         NaN         NaN         NaN         NaN         NaN         NaN   \n",
       "1         NaN         NaN         NaN         NaN         NaN         NaN   \n",
       "2         NaN         NaN         NaN         NaN         NaN         NaN   \n",
       "3         NaN         NaN         NaN         NaN         NaN         NaN   \n",
       "4         NaN         NaN         NaN         NaN         NaN         NaN   \n",
       "\n",
       "  Unnamed: 40 Unnamed: 41 Unnamed: 42 Unnamed: 43 Unnamed: 44 Unnamed: 45  \\\n",
       "0         NaN         NaN         NaN         NaN         NaN         NaN   \n",
       "1         NaN         NaN         NaN         NaN         NaN         NaN   \n",
       "2         NaN         NaN         NaN         NaN         NaN         NaN   \n",
       "3         NaN         NaN         NaN         NaN         NaN         NaN   \n",
       "4         NaN         NaN         NaN         NaN         NaN         NaN   \n",
       "\n",
       "  Unnamed: 46 Unnamed: 47 Unnamed: 48 Unnamed: 49 Unnamed: 50 Unnamed: 51  \\\n",
       "0         NaN         NaN         NaN         NaN         NaN         NaN   \n",
       "1         NaN         NaN         NaN         NaN         NaN         NaN   \n",
       "2         NaN         NaN         NaN         NaN         NaN         NaN   \n",
       "3         NaN         NaN         NaN         NaN         NaN         NaN   \n",
       "4         NaN         NaN         NaN         NaN         NaN         NaN   \n",
       "\n",
       "  Unnamed: 52 Unnamed: 53 Unnamed: 54 Unnamed: 55 Unnamed: 56 Unnamed: 57  \\\n",
       "0         NaN         NaN         NaN         NaN         NaN         NaN   \n",
       "1         NaN         NaN         NaN         NaN         NaN         NaN   \n",
       "2         NaN         NaN         NaN         NaN         NaN         NaN   \n",
       "3         NaN         NaN         NaN         NaN         NaN         NaN   \n",
       "4         NaN         NaN         NaN         NaN         NaN         NaN   \n",
       "\n",
       "  Unnamed: 58 Unnamed: 59 Unnamed: 60 Unnamed: 61 Unnamed: 62 Unnamed: 63  \\\n",
       "0         NaN         NaN         NaN         NaN         NaN         NaN   \n",
       "1         NaN         NaN         NaN         NaN         NaN         NaN   \n",
       "2         NaN         NaN         NaN         NaN         NaN         NaN   \n",
       "3         NaN         NaN         NaN         NaN         NaN         NaN   \n",
       "4         NaN         NaN         NaN         NaN         NaN         NaN   \n",
       "\n",
       "  Unnamed: 64 Unnamed: 65 Unnamed: 66 Unnamed: 67 Unnamed: 68 Unnamed: 69  \\\n",
       "0         NaN         NaN         NaN         NaN         NaN         NaN   \n",
       "1         NaN         NaN         NaN         NaN         NaN         NaN   \n",
       "2         NaN         NaN         NaN         NaN         NaN         NaN   \n",
       "3         NaN         NaN         NaN         NaN         NaN         NaN   \n",
       "4         NaN         NaN         NaN         NaN         NaN         NaN   \n",
       "\n",
       "  Unnamed: 70 Unnamed: 71 Unnamed: 72 Unnamed: 73 Unnamed: 74 Unnamed: 75  \\\n",
       "0         NaN         NaN         NaN         NaN         NaN         NaN   \n",
       "1         NaN         NaN         NaN         NaN         NaN         NaN   \n",
       "2         NaN         NaN         NaN         NaN         NaN         NaN   \n",
       "3         NaN         NaN         NaN         NaN         NaN         NaN   \n",
       "4         NaN         NaN         NaN         NaN         NaN         NaN   \n",
       "\n",
       "  Unnamed: 76 Unnamed: 77 Unnamed: 78 Unnamed: 79 Unnamed: 80 Unnamed: 81  \\\n",
       "0         NaN         NaN         NaN         NaN         NaN         NaN   \n",
       "1         NaN         NaN         NaN         NaN         NaN         NaN   \n",
       "2         NaN         NaN         NaN         NaN         NaN         NaN   \n",
       "3         NaN         NaN         NaN         NaN         NaN         NaN   \n",
       "4         NaN         NaN         NaN         NaN         NaN         NaN   \n",
       "\n",
       "  Unnamed: 82 Unnamed: 83 Unnamed: 84 Unnamed: 85 Unnamed: 86 Unnamed: 87  \\\n",
       "0         NaN         NaN         NaN         NaN         NaN         NaN   \n",
       "1         NaN         NaN         NaN         NaN         NaN         NaN   \n",
       "2         NaN         NaN         NaN         NaN         NaN         NaN   \n",
       "3         NaN         NaN         NaN         NaN         NaN         NaN   \n",
       "4         NaN         NaN         NaN         NaN         NaN         NaN   \n",
       "\n",
       "  Unnamed: 88 Unnamed: 89 Unnamed: 90 Unnamed: 91 Unnamed: 92  \n",
       "0         NaN         NaN         NaN         NaN         NaN  \n",
       "1         NaN         NaN         NaN         NaN         NaN  \n",
       "2         NaN         NaN         NaN         NaN         NaN  \n",
       "3         NaN         NaN         NaN         NaN         NaN  \n",
       "4         NaN         NaN         NaN         NaN         NaN  "
      ]
     },
     "execution_count": 34,
     "metadata": {},
     "output_type": "execute_result"
    }
   ],
   "source": [
    "df = pd.read_csv('/Users/gdhan/Documents/Data Science/Data/DumfriesVaZillowOct9.csv')\n",
    "pd.set_option('display.max_columns', None)\n",
    "df.head()"
   ]
  },
  {
   "cell_type": "markdown",
   "id": "9b57aeeb",
   "metadata": {},
   "source": [
    "# Data Cleaning"
   ]
  },
  {
   "cell_type": "code",
   "execution_count": 35,
   "id": "8d325a08",
   "metadata": {},
   "outputs": [
    {
     "name": "stdout",
     "output_type": "stream",
     "text": [
      "571\n"
     ]
    }
   ],
   "source": [
    "#Narrow the data to the first 26 columns, drop unused columns\n",
    "df = df.iloc[:,:26]\n",
    "print(len(df))"
   ]
  },
  {
   "cell_type": "code",
   "execution_count": 36,
   "id": "2796de75",
   "metadata": {},
   "outputs": [
    {
     "name": "stdout",
     "output_type": "stream",
     "text": [
      "526\n"
     ]
    }
   ],
   "source": [
    "#Remove NaN in 'price', 'area', 'beds', 'baths', 'addressZipcode'\n",
    "df=df.dropna(subset=['price', 'area', 'beds', 'baths', 'addressZipcode', 'lotSize', 'latitude', 'longitude'])\n",
    "print(len(df))"
   ]
  },
  {
   "cell_type": "code",
   "execution_count": 37,
   "id": "a5b67442",
   "metadata": {},
   "outputs": [
    {
     "name": "stdout",
     "output_type": "stream",
     "text": [
      "431\n"
     ]
    }
   ],
   "source": [
    "#Remove duplicates\n",
    "df=df.drop_duplicates(subset=['zid'])\n",
    "print(len(df))"
   ]
  },
  {
   "cell_type": "code",
   "execution_count": 38,
   "id": "3839dc4e",
   "metadata": {},
   "outputs": [
    {
     "data": {
      "text/html": [
       "<div>\n",
       "<style scoped>\n",
       "    .dataframe tbody tr th:only-of-type {\n",
       "        vertical-align: middle;\n",
       "    }\n",
       "\n",
       "    .dataframe tbody tr th {\n",
       "        vertical-align: top;\n",
       "    }\n",
       "\n",
       "    .dataframe thead th {\n",
       "        text-align: right;\n",
       "    }\n",
       "</style>\n",
       "<table border=\"1\" class=\"dataframe\">\n",
       "  <thead>\n",
       "    <tr style=\"text-align: right;\">\n",
       "      <th></th>\n",
       "      <th>zid</th>\n",
       "      <th>price</th>\n",
       "      <th>pricePerSqFt</th>\n",
       "      <th>zestimate</th>\n",
       "      <th>zestimatePerSqFt</th>\n",
       "      <th>rentZestimate</th>\n",
       "      <th>area</th>\n",
       "      <th>lotSize</th>\n",
       "      <th>beds</th>\n",
       "      <th>baths</th>\n",
       "      <th>addressZipcode</th>\n",
       "      <th>latitude</th>\n",
       "      <th>longitude</th>\n",
       "    </tr>\n",
       "  </thead>\n",
       "  <tbody>\n",
       "    <tr>\n",
       "      <th>count</th>\n",
       "      <td>4.310000e+02</td>\n",
       "      <td>431.000000</td>\n",
       "      <td>431.000000</td>\n",
       "      <td>397.000000</td>\n",
       "      <td>397.000000</td>\n",
       "      <td>403.000000</td>\n",
       "      <td>431.000000</td>\n",
       "      <td>431.000000</td>\n",
       "      <td>431.000000</td>\n",
       "      <td>431.000000</td>\n",
       "      <td>431.000000</td>\n",
       "      <td>431.000000</td>\n",
       "      <td>431.000000</td>\n",
       "    </tr>\n",
       "    <tr>\n",
       "      <th>mean</th>\n",
       "      <td>3.768066e+07</td>\n",
       "      <td>484798.011601</td>\n",
       "      <td>218.148492</td>\n",
       "      <td>487238.267003</td>\n",
       "      <td>219.846348</td>\n",
       "      <td>2458.920596</td>\n",
       "      <td>2318.278422</td>\n",
       "      <td>3743.319233</td>\n",
       "      <td>3.709977</td>\n",
       "      <td>3.401392</td>\n",
       "      <td>22113.881671</td>\n",
       "      <td>38.625996</td>\n",
       "      <td>-77.330940</td>\n",
       "    </tr>\n",
       "    <tr>\n",
       "      <th>std</th>\n",
       "      <td>4.797454e+07</td>\n",
       "      <td>132547.295250</td>\n",
       "      <td>40.067980</td>\n",
       "      <td>132813.619395</td>\n",
       "      <td>42.259767</td>\n",
       "      <td>473.487888</td>\n",
       "      <td>865.379590</td>\n",
       "      <td>3678.995952</td>\n",
       "      <td>0.847359</td>\n",
       "      <td>0.829765</td>\n",
       "      <td>209.755699</td>\n",
       "      <td>0.027827</td>\n",
       "      <td>0.028576</td>\n",
       "    </tr>\n",
       "    <tr>\n",
       "      <th>min</th>\n",
       "      <td>1.244411e+07</td>\n",
       "      <td>230000.000000</td>\n",
       "      <td>131.000000</td>\n",
       "      <td>243900.000000</td>\n",
       "      <td>124.000000</td>\n",
       "      <td>1451.000000</td>\n",
       "      <td>640.000000</td>\n",
       "      <td>0.250000</td>\n",
       "      <td>2.000000</td>\n",
       "      <td>1.000000</td>\n",
       "      <td>20112.000000</td>\n",
       "      <td>38.558304</td>\n",
       "      <td>-77.388500</td>\n",
       "    </tr>\n",
       "    <tr>\n",
       "      <th>25%</th>\n",
       "      <td>1.247329e+07</td>\n",
       "      <td>389900.000000</td>\n",
       "      <td>191.500000</td>\n",
       "      <td>390000.000000</td>\n",
       "      <td>193.000000</td>\n",
       "      <td>2100.000000</td>\n",
       "      <td>1728.000000</td>\n",
       "      <td>1350.000000</td>\n",
       "      <td>3.000000</td>\n",
       "      <td>3.000000</td>\n",
       "      <td>22025.000000</td>\n",
       "      <td>38.611683</td>\n",
       "      <td>-77.353045</td>\n",
       "    </tr>\n",
       "    <tr>\n",
       "      <th>50%</th>\n",
       "      <td>1.249227e+07</td>\n",
       "      <td>449900.000000</td>\n",
       "      <td>216.000000</td>\n",
       "      <td>449900.000000</td>\n",
       "      <td>216.000000</td>\n",
       "      <td>2300.000000</td>\n",
       "      <td>2040.000000</td>\n",
       "      <td>1921.000000</td>\n",
       "      <td>4.000000</td>\n",
       "      <td>4.000000</td>\n",
       "      <td>22192.000000</td>\n",
       "      <td>38.622925</td>\n",
       "      <td>-77.335846</td>\n",
       "    </tr>\n",
       "    <tr>\n",
       "      <th>75%</th>\n",
       "      <td>5.201019e+07</td>\n",
       "      <td>582500.000000</td>\n",
       "      <td>237.000000</td>\n",
       "      <td>592300.000000</td>\n",
       "      <td>239.000000</td>\n",
       "      <td>2799.000000</td>\n",
       "      <td>2856.500000</td>\n",
       "      <td>7704.000000</td>\n",
       "      <td>4.000000</td>\n",
       "      <td>4.000000</td>\n",
       "      <td>22193.000000</td>\n",
       "      <td>38.638834</td>\n",
       "      <td>-77.312795</td>\n",
       "    </tr>\n",
       "    <tr>\n",
       "      <th>max</th>\n",
       "      <td>3.312533e+08</td>\n",
       "      <td>850000.000000</td>\n",
       "      <td>526.000000</td>\n",
       "      <td>853100.000000</td>\n",
       "      <td>528.000000</td>\n",
       "      <td>3932.000000</td>\n",
       "      <td>5444.000000</td>\n",
       "      <td>10873.000000</td>\n",
       "      <td>8.000000</td>\n",
       "      <td>6.000000</td>\n",
       "      <td>22193.000000</td>\n",
       "      <td>38.719635</td>\n",
       "      <td>-77.215840</td>\n",
       "    </tr>\n",
       "  </tbody>\n",
       "</table>\n",
       "</div>"
      ],
      "text/plain": [
       "                zid          price  pricePerSqFt      zestimate  \\\n",
       "count  4.310000e+02     431.000000    431.000000     397.000000   \n",
       "mean   3.768066e+07  484798.011601    218.148492  487238.267003   \n",
       "std    4.797454e+07  132547.295250     40.067980  132813.619395   \n",
       "min    1.244411e+07  230000.000000    131.000000  243900.000000   \n",
       "25%    1.247329e+07  389900.000000    191.500000  390000.000000   \n",
       "50%    1.249227e+07  449900.000000    216.000000  449900.000000   \n",
       "75%    5.201019e+07  582500.000000    237.000000  592300.000000   \n",
       "max    3.312533e+08  850000.000000    526.000000  853100.000000   \n",
       "\n",
       "       zestimatePerSqFt  rentZestimate         area       lotSize        beds  \\\n",
       "count        397.000000     403.000000   431.000000    431.000000  431.000000   \n",
       "mean         219.846348    2458.920596  2318.278422   3743.319233    3.709977   \n",
       "std           42.259767     473.487888   865.379590   3678.995952    0.847359   \n",
       "min          124.000000    1451.000000   640.000000      0.250000    2.000000   \n",
       "25%          193.000000    2100.000000  1728.000000   1350.000000    3.000000   \n",
       "50%          216.000000    2300.000000  2040.000000   1921.000000    4.000000   \n",
       "75%          239.000000    2799.000000  2856.500000   7704.000000    4.000000   \n",
       "max          528.000000    3932.000000  5444.000000  10873.000000    8.000000   \n",
       "\n",
       "            baths  addressZipcode    latitude   longitude  \n",
       "count  431.000000      431.000000  431.000000  431.000000  \n",
       "mean     3.401392    22113.881671   38.625996  -77.330940  \n",
       "std      0.829765      209.755699    0.027827    0.028576  \n",
       "min      1.000000    20112.000000   38.558304  -77.388500  \n",
       "25%      3.000000    22025.000000   38.611683  -77.353045  \n",
       "50%      4.000000    22192.000000   38.622925  -77.335846  \n",
       "75%      4.000000    22193.000000   38.638834  -77.312795  \n",
       "max      6.000000    22193.000000   38.719635  -77.215840  "
      ]
     },
     "execution_count": 38,
     "metadata": {},
     "output_type": "execute_result"
    }
   ],
   "source": [
    "df.describe()\n",
    "#min value of price seems off\n",
    "#incomplete zestimates\n",
    "#incomplete areas,\n",
    "#incomplete lotsizes, apply the average\n",
    "#470 count is the number"
   ]
  },
  {
   "cell_type": "code",
   "execution_count": 39,
   "id": "0d40a42d",
   "metadata": {},
   "outputs": [
    {
     "data": {
      "text/plain": [
       "statusText\n",
       "Coming soon           10820.0\n",
       "House for sale        10873.0\n",
       "New construction       4099.0\n",
       "Sold                  10738.0\n",
       "Townhouse for sale     3515.0\n",
       "Name: lotSize, dtype: float64"
      ]
     },
     "execution_count": 39,
     "metadata": {},
     "output_type": "execute_result"
    }
   ],
   "source": [
    "df.groupby(['statusText']).lotSize.max()"
   ]
  },
  {
   "cell_type": "code",
   "execution_count": 40,
   "id": "8b75cd9b",
   "metadata": {},
   "outputs": [
    {
     "data": {
      "text/plain": [
       "statusType\n",
       "FOR_SALE    477593.230126\n",
       "SOLD        493766.463542\n",
       "Name: price, dtype: float64"
      ]
     },
     "execution_count": 40,
     "metadata": {},
     "output_type": "execute_result"
    }
   ],
   "source": [
    "df.groupby(['statusType']).price.mean()"
   ]
  },
  {
   "cell_type": "markdown",
   "id": "c99822fa",
   "metadata": {},
   "source": [
    "# Data Filtering"
   ]
  },
  {
   "cell_type": "code",
   "execution_count": 41,
   "id": "4fae44c0",
   "metadata": {},
   "outputs": [],
   "source": [
    "#focus on sold townhomes in 22025 zipcode: \n",
    "#1. filter to sold, \n",
    "#2. filter to (like) townhomes\n",
    "#3. filter to specific zipcode of interest 22025"
   ]
  },
  {
   "cell_type": "code",
   "execution_count": 42,
   "id": "4d2aaee1",
   "metadata": {},
   "outputs": [
    {
     "data": {
      "text/html": [
       "<div>\n",
       "<style scoped>\n",
       "    .dataframe tbody tr th:only-of-type {\n",
       "        vertical-align: middle;\n",
       "    }\n",
       "\n",
       "    .dataframe tbody tr th {\n",
       "        vertical-align: top;\n",
       "    }\n",
       "\n",
       "    .dataframe thead th {\n",
       "        text-align: right;\n",
       "    }\n",
       "</style>\n",
       "<table border=\"1\" class=\"dataframe\">\n",
       "  <thead>\n",
       "    <tr style=\"text-align: right;\">\n",
       "      <th></th>\n",
       "      <th>zid</th>\n",
       "      <th>price</th>\n",
       "      <th>pricePerSqFt</th>\n",
       "      <th>zestimate</th>\n",
       "      <th>zestimatePerSqFt</th>\n",
       "      <th>rentZestimate</th>\n",
       "      <th>area</th>\n",
       "      <th>lotSize</th>\n",
       "      <th>beds</th>\n",
       "      <th>baths</th>\n",
       "      <th>addressZipcode</th>\n",
       "      <th>latitude</th>\n",
       "      <th>longitude</th>\n",
       "    </tr>\n",
       "  </thead>\n",
       "  <tbody>\n",
       "    <tr>\n",
       "      <th>count</th>\n",
       "      <td>7.500000e+01</td>\n",
       "      <td>75.000000</td>\n",
       "      <td>75.000000</td>\n",
       "      <td>67.000000</td>\n",
       "      <td>67.000000</td>\n",
       "      <td>68.000000</td>\n",
       "      <td>75.000000</td>\n",
       "      <td>75.000000</td>\n",
       "      <td>75.000000</td>\n",
       "      <td>75.000000</td>\n",
       "      <td>75.000000</td>\n",
       "      <td>75.000000</td>\n",
       "      <td>75.000000</td>\n",
       "    </tr>\n",
       "    <tr>\n",
       "      <th>mean</th>\n",
       "      <td>2.622513e+07</td>\n",
       "      <td>372158.946667</td>\n",
       "      <td>222.986667</td>\n",
       "      <td>367480.492537</td>\n",
       "      <td>222.179104</td>\n",
       "      <td>2116.205882</td>\n",
       "      <td>1689.880000</td>\n",
       "      <td>1731.157333</td>\n",
       "      <td>3.186667</td>\n",
       "      <td>3.333333</td>\n",
       "      <td>22132.973333</td>\n",
       "      <td>38.631625</td>\n",
       "      <td>-77.314230</td>\n",
       "    </tr>\n",
       "    <tr>\n",
       "      <th>std</th>\n",
       "      <td>3.191120e+07</td>\n",
       "      <td>51946.311260</td>\n",
       "      <td>27.192752</td>\n",
       "      <td>52395.805960</td>\n",
       "      <td>30.265455</td>\n",
       "      <td>238.519473</td>\n",
       "      <td>288.150437</td>\n",
       "      <td>449.217725</td>\n",
       "      <td>0.484722</td>\n",
       "      <td>0.703914</td>\n",
       "      <td>79.831236</td>\n",
       "      <td>0.042898</td>\n",
       "      <td>0.028427</td>\n",
       "    </tr>\n",
       "    <tr>\n",
       "      <th>min</th>\n",
       "      <td>1.244678e+07</td>\n",
       "      <td>273999.000000</td>\n",
       "      <td>164.000000</td>\n",
       "      <td>251200.000000</td>\n",
       "      <td>126.000000</td>\n",
       "      <td>1649.000000</td>\n",
       "      <td>1120.000000</td>\n",
       "      <td>1176.000000</td>\n",
       "      <td>2.000000</td>\n",
       "      <td>2.000000</td>\n",
       "      <td>22025.000000</td>\n",
       "      <td>38.558304</td>\n",
       "      <td>-77.369000</td>\n",
       "    </tr>\n",
       "    <tr>\n",
       "      <th>25%</th>\n",
       "      <td>1.247520e+07</td>\n",
       "      <td>337450.000000</td>\n",
       "      <td>210.000000</td>\n",
       "      <td>332553.000000</td>\n",
       "      <td>205.000000</td>\n",
       "      <td>1975.000000</td>\n",
       "      <td>1454.500000</td>\n",
       "      <td>1420.000000</td>\n",
       "      <td>3.000000</td>\n",
       "      <td>3.000000</td>\n",
       "      <td>22026.000000</td>\n",
       "      <td>38.601135</td>\n",
       "      <td>-77.327610</td>\n",
       "    </tr>\n",
       "    <tr>\n",
       "      <th>50%</th>\n",
       "      <td>1.249155e+07</td>\n",
       "      <td>365000.000000</td>\n",
       "      <td>222.000000</td>\n",
       "      <td>361015.000000</td>\n",
       "      <td>223.000000</td>\n",
       "      <td>2134.000000</td>\n",
       "      <td>1719.000000</td>\n",
       "      <td>1599.000000</td>\n",
       "      <td>3.000000</td>\n",
       "      <td>3.000000</td>\n",
       "      <td>22192.000000</td>\n",
       "      <td>38.628387</td>\n",
       "      <td>-77.315400</td>\n",
       "    </tr>\n",
       "    <tr>\n",
       "      <th>75%</th>\n",
       "      <td>5.199192e+07</td>\n",
       "      <td>399995.000000</td>\n",
       "      <td>239.000000</td>\n",
       "      <td>399250.000000</td>\n",
       "      <td>238.000000</td>\n",
       "      <td>2272.250000</td>\n",
       "      <td>1940.000000</td>\n",
       "      <td>1883.500000</td>\n",
       "      <td>3.000000</td>\n",
       "      <td>4.000000</td>\n",
       "      <td>22193.000000</td>\n",
       "      <td>38.667310</td>\n",
       "      <td>-77.304170</td>\n",
       "    </tr>\n",
       "    <tr>\n",
       "      <th>max</th>\n",
       "      <td>2.496994e+08</td>\n",
       "      <td>485000.000000</td>\n",
       "      <td>291.000000</td>\n",
       "      <td>500100.000000</td>\n",
       "      <td>291.000000</td>\n",
       "      <td>2699.000000</td>\n",
       "      <td>2180.000000</td>\n",
       "      <td>3202.000000</td>\n",
       "      <td>5.000000</td>\n",
       "      <td>4.000000</td>\n",
       "      <td>22193.000000</td>\n",
       "      <td>38.705654</td>\n",
       "      <td>-77.215840</td>\n",
       "    </tr>\n",
       "  </tbody>\n",
       "</table>\n",
       "</div>"
      ],
      "text/plain": [
       "                zid          price  pricePerSqFt      zestimate  \\\n",
       "count  7.500000e+01      75.000000     75.000000      67.000000   \n",
       "mean   2.622513e+07  372158.946667    222.986667  367480.492537   \n",
       "std    3.191120e+07   51946.311260     27.192752   52395.805960   \n",
       "min    1.244678e+07  273999.000000    164.000000  251200.000000   \n",
       "25%    1.247520e+07  337450.000000    210.000000  332553.000000   \n",
       "50%    1.249155e+07  365000.000000    222.000000  361015.000000   \n",
       "75%    5.199192e+07  399995.000000    239.000000  399250.000000   \n",
       "max    2.496994e+08  485000.000000    291.000000  500100.000000   \n",
       "\n",
       "       zestimatePerSqFt  rentZestimate         area      lotSize       beds  \\\n",
       "count         67.000000      68.000000    75.000000    75.000000  75.000000   \n",
       "mean         222.179104    2116.205882  1689.880000  1731.157333   3.186667   \n",
       "std           30.265455     238.519473   288.150437   449.217725   0.484722   \n",
       "min          126.000000    1649.000000  1120.000000  1176.000000   2.000000   \n",
       "25%          205.000000    1975.000000  1454.500000  1420.000000   3.000000   \n",
       "50%          223.000000    2134.000000  1719.000000  1599.000000   3.000000   \n",
       "75%          238.000000    2272.250000  1940.000000  1883.500000   3.000000   \n",
       "max          291.000000    2699.000000  2180.000000  3202.000000   5.000000   \n",
       "\n",
       "           baths  addressZipcode   latitude  longitude  \n",
       "count  75.000000       75.000000  75.000000  75.000000  \n",
       "mean    3.333333    22132.973333  38.631625 -77.314230  \n",
       "std     0.703914       79.831236   0.042898   0.028427  \n",
       "min     2.000000    22025.000000  38.558304 -77.369000  \n",
       "25%     3.000000    22026.000000  38.601135 -77.327610  \n",
       "50%     3.000000    22192.000000  38.628387 -77.315400  \n",
       "75%     4.000000    22193.000000  38.667310 -77.304170  \n",
       "max     4.000000    22193.000000  38.705654 -77.215840  "
      ]
     },
     "execution_count": 42,
     "metadata": {},
     "output_type": "execute_result"
    }
   ],
   "source": [
    "df = df[(df.statusText == 'Townhouse for sale') & \n",
    "       (df.lotSize < 3515) & \n",
    "       (df.area < 2200)]\n",
    "\n",
    "df.describe()"
   ]
  },
  {
   "cell_type": "code",
   "execution_count": 43,
   "id": "9ef99f6c",
   "metadata": {},
   "outputs": [
    {
     "data": {
      "text/plain": [
       "addressZipcode  statusText        \n",
       "22025           Townhouse for sale    11\n",
       "22026           Townhouse for sale    15\n",
       "22079           Townhouse for sale     1\n",
       "22191           Townhouse for sale     7\n",
       "22192           Townhouse for sale    21\n",
       "22193           Townhouse for sale    20\n",
       "Name: price, dtype: int64"
      ]
     },
     "execution_count": 43,
     "metadata": {},
     "output_type": "execute_result"
    }
   ],
   "source": [
    "#group by the type of listing and its zipcode, output the number of from each zipcode\n",
    "df.groupby(['addressZipcode', 'statusText']).price.count() "
   ]
  },
  {
   "cell_type": "code",
   "execution_count": 44,
   "id": "6c603b9d",
   "metadata": {},
   "outputs": [
    {
     "data": {
      "text/plain": [
       "addressZipcode  statusText        \n",
       "22025           Townhouse for sale    386968.545455\n",
       "22026           Townhouse for sale    341553.200000\n",
       "22079           Townhouse for sale    470000.000000\n",
       "22191           Townhouse for sale    373827.142857\n",
       "22192           Townhouse for sale    406466.619048\n",
       "22193           Townhouse for sale    345469.000000\n",
       "Name: price, dtype: float64"
      ]
     },
     "execution_count": 44,
     "metadata": {},
     "output_type": "execute_result"
    }
   ],
   "source": [
    "#group by the type of listing and its zipcode, output the average price\n",
    "df.groupby(['addressZipcode', 'statusText' ]).price.mean()"
   ]
  },
  {
   "cell_type": "code",
   "execution_count": 45,
   "id": "55b072d5",
   "metadata": {},
   "outputs": [
    {
     "data": {
      "text/plain": [
       "addressZipcode  statusText        \n",
       "22025           Townhouse for sale    385000.0\n",
       "22026           Townhouse for sale    324800.0\n",
       "22079           Townhouse for sale    470000.0\n",
       "22191           Townhouse for sale    379900.0\n",
       "22192           Townhouse for sale    399900.0\n",
       "22193           Townhouse for sale    349450.0\n",
       "Name: price, dtype: float64"
      ]
     },
     "execution_count": 45,
     "metadata": {},
     "output_type": "execute_result"
    }
   ],
   "source": [
    "#group by the type of listing to see 50th percentile by zipcode\n",
    "df.groupby(['addressZipcode', 'statusText' ]).price.median()"
   ]
  },
  {
   "cell_type": "markdown",
   "id": "f478bb5b",
   "metadata": {},
   "source": [
    "# Data Visualization"
   ]
  },
  {
   "cell_type": "code",
   "execution_count": 46,
   "id": "96117c3a",
   "metadata": {},
   "outputs": [],
   "source": [
    "#scatter matrix for prelimary relationship identification\n",
    "subsetdf = df[['price','pricePerSqFt','zestimate','rentZestimate', 'area', 'beds', 'baths']]"
   ]
  },
  {
   "cell_type": "code",
   "execution_count": 47,
   "id": "dd0ef8f9",
   "metadata": {},
   "outputs": [
    {
     "data": {
      "application/vnd.plotly.v1+json": {
       "config": {
        "plotlyServerURL": "https://plot.ly"
       },
       "data": [
        {
         "dimensions": [
          {
           "axis": {
            "matches": true
           },
           "label": "price",
           "values": [
            356900,
            449900,
            475000,
            455000,
            329900,
            430000,
            399499,
            400000,
            445000,
            399000,
            273999,
            285000,
            445000,
            324800,
            375990,
            330000,
            405000,
            359000,
            349000,
            389900,
            429900,
            355000,
            380000,
            399900,
            445000,
            320000,
            312200,
            470000,
            390000,
            305000,
            289000,
            387000,
            377900,
            275000,
            299000,
            485000,
            419900,
            470000,
            325000,
            399990,
            408777,
            385000,
            420000,
            335000,
            375000,
            409900,
            365000,
            373000,
            469000,
            379900,
            379900,
            355000,
            430000,
            349900,
            289500,
            284999,
            360000,
            365000,
            350000,
            350000,
            395977,
            339900,
            365000,
            305000,
            349990,
            341900,
            329900,
            349900,
            399900,
            365000,
            305000,
            315000,
            365000,
            377000,
            359900
           ]
          },
          {
           "axis": {
            "matches": true
           },
           "label": "pricePerSqFt",
           "values": [
            172,
            210,
            242,
            223,
            164,
            227,
            240,
            215,
            216,
            256,
            211,
            216,
            235,
            177,
            176,
            177,
            189,
            232,
            181,
            184,
            245,
            192,
            233,
            214,
            227,
            170,
            224,
            269,
            234,
            231,
            226,
            231,
            226,
            227,
            237,
            272,
            210,
            216,
            254,
            201,
            230,
            263,
            213,
            262,
            187,
            291,
            216,
            207,
            216,
            213,
            218,
            219,
            219,
            219,
            219,
            219,
            222,
            245,
            238,
            241,
            199,
            195,
            248,
            212,
            240,
            232,
            254,
            286,
            200,
            224,
            242,
            281,
            258,
            205,
            209
           ]
          },
          {
           "axis": {
            "matches": true
           },
           "label": "zestimate",
           "values": [
            374000,
            463600,
            null,
            null,
            354300,
            null,
            null,
            411900,
            453100,
            359800,
            281600,
            291600,
            445000,
            329400,
            378500,
            336018,
            405200,
            359094,
            349100,
            390000,
            430004,
            355100,
            380172,
            400000,
            445400,
            320009,
            314100,
            472500,
            393554,
            309600,
            293729,
            392000,
            385000,
            282981,
            307608,
            500100,
            419900,
            470000,
            324900,
            395500,
            413824,
            357600,
            413200,
            335106,
            381300,
            410379,
            358400,
            348200,
            442000,
            null,
            380971,
            355200,
            413900,
            350009,
            293800,
            291500,
            361015,
            365100,
            373500,
            351032,
            398500,
            361800,
            null,
            291000,
            350200,
            341900,
            330000,
            350100,
            251200,
            null,
            316000,
            315484,
            365104,
            379500,
            null
           ]
          },
          {
           "axis": {
            "matches": true
           },
           "label": "rentZestimate",
           "values": [
            2279,
            2499,
            null,
            null,
            2148,
            null,
            2400,
            2279,
            2250,
            1829,
            1649,
            1649,
            2400,
            2449,
            2199,
            2184,
            2499,
            1975,
            2139,
            2199,
            2199,
            2049,
            1997,
            2129,
            2400,
            1999,
            1649,
            2393,
            2100,
            1649,
            1746,
            2169,
            2250,
            1749,
            2154,
            2699,
            2311,
            2521,
            1975,
            2199,
            1947,
            2100,
            2100,
            1950,
            1975,
            2400,
            2049,
            1950,
            2499,
            null,
            2199,
            1999,
            2300,
            2199,
            1649,
            1649,
            1997,
            1975,
            2199,
            2100,
            2270,
            1999,
            null,
            2128,
            2184,
            2085,
            1996,
            1935,
            2343,
            null,
            1950,
            1920,
            2199,
            2294,
            null
           ]
          },
          {
           "axis": {
            "matches": true
           },
           "label": "area",
           "values": [
            2076,
            2144,
            1960,
            2040,
            2006,
            1897,
            1662,
            1858,
            2056,
            1561,
            1300,
            1320,
            1894,
            1835,
            2132,
            1864,
            2138,
            1548,
            1923,
            2114,
            1755,
            1850,
            1630,
            1866,
            1957,
            1883,
            1396,
            1745,
            1670,
            1320,
            1280,
            1675,
            1670,
            1209,
            1260,
            1780,
            2003,
            2180,
            1278,
            1994,
            1781,
            1462,
            1968,
            1280,
            2007,
            1410,
            1692,
            1800,
            2170,
            1786,
            1744,
            1620,
            1960,
            1600,
            1320,
            1300,
            1620,
            1487,
            1472,
            1452,
            1993,
            1745,
            1472,
            1440,
            1457,
            1472,
            1300,
            1224,
            1995,
            1630,
            1260,
            1120,
            1414,
            1840,
            1719
           ]
          },
          {
           "axis": {
            "matches": true
           },
           "label": "beds",
           "values": [
            3,
            4,
            3,
            3,
            3,
            4,
            3,
            3,
            3,
            3,
            3,
            3,
            3,
            4,
            3,
            3,
            4,
            4,
            3,
            3,
            3,
            3,
            3,
            3,
            4,
            3,
            4,
            3,
            5,
            3,
            3,
            3,
            3,
            2,
            3,
            3,
            3,
            3,
            3,
            3,
            4,
            3,
            4,
            3,
            3,
            4,
            3,
            3,
            3,
            3,
            3,
            4,
            3,
            3,
            3,
            3,
            3,
            3,
            3,
            3,
            4,
            3,
            3,
            3,
            3,
            3,
            3,
            3,
            4,
            3,
            3,
            3,
            3,
            2,
            4
           ]
          },
          {
           "axis": {
            "matches": true
           },
           "label": "baths",
           "values": [
            3,
            4,
            4,
            3,
            4,
            4,
            3,
            4,
            4,
            4,
            3,
            3,
            3,
            4,
            4,
            3,
            4,
            2,
            2,
            4,
            4,
            4,
            3,
            4,
            4,
            2,
            3,
            4,
            3,
            3,
            2,
            3,
            4,
            2,
            3,
            4,
            4,
            4,
            3,
            4,
            4,
            3,
            4,
            2,
            4,
            4,
            4,
            3,
            4,
            3,
            4,
            4,
            3,
            4,
            3,
            3,
            4,
            3,
            3,
            3,
            4,
            4,
            3,
            3,
            3,
            3,
            3,
            2,
            4,
            4,
            2,
            2,
            3,
            3,
            2
           ]
          }
         ],
         "hovertemplate": "%{xaxis.title.text}=%{x}<br>%{yaxis.title.text}=%{y}<extra></extra>",
         "legendgroup": "",
         "marker": {
          "color": "#636efa",
          "symbol": "circle"
         },
         "name": "",
         "showlegend": false,
         "type": "splom"
        }
       ],
       "layout": {
        "dragmode": "select",
        "legend": {
         "tracegroupgap": 0
        },
        "margin": {
         "t": 60
        },
        "template": {
         "data": {
          "bar": [
           {
            "error_x": {
             "color": "#2a3f5f"
            },
            "error_y": {
             "color": "#2a3f5f"
            },
            "marker": {
             "line": {
              "color": "#E5ECF6",
              "width": 0.5
             },
             "pattern": {
              "fillmode": "overlay",
              "size": 10,
              "solidity": 0.2
             }
            },
            "type": "bar"
           }
          ],
          "barpolar": [
           {
            "marker": {
             "line": {
              "color": "#E5ECF6",
              "width": 0.5
             },
             "pattern": {
              "fillmode": "overlay",
              "size": 10,
              "solidity": 0.2
             }
            },
            "type": "barpolar"
           }
          ],
          "carpet": [
           {
            "aaxis": {
             "endlinecolor": "#2a3f5f",
             "gridcolor": "white",
             "linecolor": "white",
             "minorgridcolor": "white",
             "startlinecolor": "#2a3f5f"
            },
            "baxis": {
             "endlinecolor": "#2a3f5f",
             "gridcolor": "white",
             "linecolor": "white",
             "minorgridcolor": "white",
             "startlinecolor": "#2a3f5f"
            },
            "type": "carpet"
           }
          ],
          "choropleth": [
           {
            "colorbar": {
             "outlinewidth": 0,
             "ticks": ""
            },
            "type": "choropleth"
           }
          ],
          "contour": [
           {
            "colorbar": {
             "outlinewidth": 0,
             "ticks": ""
            },
            "colorscale": [
             [
              0,
              "#0d0887"
             ],
             [
              0.1111111111111111,
              "#46039f"
             ],
             [
              0.2222222222222222,
              "#7201a8"
             ],
             [
              0.3333333333333333,
              "#9c179e"
             ],
             [
              0.4444444444444444,
              "#bd3786"
             ],
             [
              0.5555555555555556,
              "#d8576b"
             ],
             [
              0.6666666666666666,
              "#ed7953"
             ],
             [
              0.7777777777777778,
              "#fb9f3a"
             ],
             [
              0.8888888888888888,
              "#fdca26"
             ],
             [
              1,
              "#f0f921"
             ]
            ],
            "type": "contour"
           }
          ],
          "contourcarpet": [
           {
            "colorbar": {
             "outlinewidth": 0,
             "ticks": ""
            },
            "type": "contourcarpet"
           }
          ],
          "heatmap": [
           {
            "colorbar": {
             "outlinewidth": 0,
             "ticks": ""
            },
            "colorscale": [
             [
              0,
              "#0d0887"
             ],
             [
              0.1111111111111111,
              "#46039f"
             ],
             [
              0.2222222222222222,
              "#7201a8"
             ],
             [
              0.3333333333333333,
              "#9c179e"
             ],
             [
              0.4444444444444444,
              "#bd3786"
             ],
             [
              0.5555555555555556,
              "#d8576b"
             ],
             [
              0.6666666666666666,
              "#ed7953"
             ],
             [
              0.7777777777777778,
              "#fb9f3a"
             ],
             [
              0.8888888888888888,
              "#fdca26"
             ],
             [
              1,
              "#f0f921"
             ]
            ],
            "type": "heatmap"
           }
          ],
          "heatmapgl": [
           {
            "colorbar": {
             "outlinewidth": 0,
             "ticks": ""
            },
            "colorscale": [
             [
              0,
              "#0d0887"
             ],
             [
              0.1111111111111111,
              "#46039f"
             ],
             [
              0.2222222222222222,
              "#7201a8"
             ],
             [
              0.3333333333333333,
              "#9c179e"
             ],
             [
              0.4444444444444444,
              "#bd3786"
             ],
             [
              0.5555555555555556,
              "#d8576b"
             ],
             [
              0.6666666666666666,
              "#ed7953"
             ],
             [
              0.7777777777777778,
              "#fb9f3a"
             ],
             [
              0.8888888888888888,
              "#fdca26"
             ],
             [
              1,
              "#f0f921"
             ]
            ],
            "type": "heatmapgl"
           }
          ],
          "histogram": [
           {
            "marker": {
             "pattern": {
              "fillmode": "overlay",
              "size": 10,
              "solidity": 0.2
             }
            },
            "type": "histogram"
           }
          ],
          "histogram2d": [
           {
            "colorbar": {
             "outlinewidth": 0,
             "ticks": ""
            },
            "colorscale": [
             [
              0,
              "#0d0887"
             ],
             [
              0.1111111111111111,
              "#46039f"
             ],
             [
              0.2222222222222222,
              "#7201a8"
             ],
             [
              0.3333333333333333,
              "#9c179e"
             ],
             [
              0.4444444444444444,
              "#bd3786"
             ],
             [
              0.5555555555555556,
              "#d8576b"
             ],
             [
              0.6666666666666666,
              "#ed7953"
             ],
             [
              0.7777777777777778,
              "#fb9f3a"
             ],
             [
              0.8888888888888888,
              "#fdca26"
             ],
             [
              1,
              "#f0f921"
             ]
            ],
            "type": "histogram2d"
           }
          ],
          "histogram2dcontour": [
           {
            "colorbar": {
             "outlinewidth": 0,
             "ticks": ""
            },
            "colorscale": [
             [
              0,
              "#0d0887"
             ],
             [
              0.1111111111111111,
              "#46039f"
             ],
             [
              0.2222222222222222,
              "#7201a8"
             ],
             [
              0.3333333333333333,
              "#9c179e"
             ],
             [
              0.4444444444444444,
              "#bd3786"
             ],
             [
              0.5555555555555556,
              "#d8576b"
             ],
             [
              0.6666666666666666,
              "#ed7953"
             ],
             [
              0.7777777777777778,
              "#fb9f3a"
             ],
             [
              0.8888888888888888,
              "#fdca26"
             ],
             [
              1,
              "#f0f921"
             ]
            ],
            "type": "histogram2dcontour"
           }
          ],
          "mesh3d": [
           {
            "colorbar": {
             "outlinewidth": 0,
             "ticks": ""
            },
            "type": "mesh3d"
           }
          ],
          "parcoords": [
           {
            "line": {
             "colorbar": {
              "outlinewidth": 0,
              "ticks": ""
             }
            },
            "type": "parcoords"
           }
          ],
          "pie": [
           {
            "automargin": true,
            "type": "pie"
           }
          ],
          "scatter": [
           {
            "marker": {
             "colorbar": {
              "outlinewidth": 0,
              "ticks": ""
             }
            },
            "type": "scatter"
           }
          ],
          "scatter3d": [
           {
            "line": {
             "colorbar": {
              "outlinewidth": 0,
              "ticks": ""
             }
            },
            "marker": {
             "colorbar": {
              "outlinewidth": 0,
              "ticks": ""
             }
            },
            "type": "scatter3d"
           }
          ],
          "scattercarpet": [
           {
            "marker": {
             "colorbar": {
              "outlinewidth": 0,
              "ticks": ""
             }
            },
            "type": "scattercarpet"
           }
          ],
          "scattergeo": [
           {
            "marker": {
             "colorbar": {
              "outlinewidth": 0,
              "ticks": ""
             }
            },
            "type": "scattergeo"
           }
          ],
          "scattergl": [
           {
            "marker": {
             "colorbar": {
              "outlinewidth": 0,
              "ticks": ""
             }
            },
            "type": "scattergl"
           }
          ],
          "scattermapbox": [
           {
            "marker": {
             "colorbar": {
              "outlinewidth": 0,
              "ticks": ""
             }
            },
            "type": "scattermapbox"
           }
          ],
          "scatterpolar": [
           {
            "marker": {
             "colorbar": {
              "outlinewidth": 0,
              "ticks": ""
             }
            },
            "type": "scatterpolar"
           }
          ],
          "scatterpolargl": [
           {
            "marker": {
             "colorbar": {
              "outlinewidth": 0,
              "ticks": ""
             }
            },
            "type": "scatterpolargl"
           }
          ],
          "scatterternary": [
           {
            "marker": {
             "colorbar": {
              "outlinewidth": 0,
              "ticks": ""
             }
            },
            "type": "scatterternary"
           }
          ],
          "surface": [
           {
            "colorbar": {
             "outlinewidth": 0,
             "ticks": ""
            },
            "colorscale": [
             [
              0,
              "#0d0887"
             ],
             [
              0.1111111111111111,
              "#46039f"
             ],
             [
              0.2222222222222222,
              "#7201a8"
             ],
             [
              0.3333333333333333,
              "#9c179e"
             ],
             [
              0.4444444444444444,
              "#bd3786"
             ],
             [
              0.5555555555555556,
              "#d8576b"
             ],
             [
              0.6666666666666666,
              "#ed7953"
             ],
             [
              0.7777777777777778,
              "#fb9f3a"
             ],
             [
              0.8888888888888888,
              "#fdca26"
             ],
             [
              1,
              "#f0f921"
             ]
            ],
            "type": "surface"
           }
          ],
          "table": [
           {
            "cells": {
             "fill": {
              "color": "#EBF0F8"
             },
             "line": {
              "color": "white"
             }
            },
            "header": {
             "fill": {
              "color": "#C8D4E3"
             },
             "line": {
              "color": "white"
             }
            },
            "type": "table"
           }
          ]
         },
         "layout": {
          "annotationdefaults": {
           "arrowcolor": "#2a3f5f",
           "arrowhead": 0,
           "arrowwidth": 1
          },
          "autotypenumbers": "strict",
          "coloraxis": {
           "colorbar": {
            "outlinewidth": 0,
            "ticks": ""
           }
          },
          "colorscale": {
           "diverging": [
            [
             0,
             "#8e0152"
            ],
            [
             0.1,
             "#c51b7d"
            ],
            [
             0.2,
             "#de77ae"
            ],
            [
             0.3,
             "#f1b6da"
            ],
            [
             0.4,
             "#fde0ef"
            ],
            [
             0.5,
             "#f7f7f7"
            ],
            [
             0.6,
             "#e6f5d0"
            ],
            [
             0.7,
             "#b8e186"
            ],
            [
             0.8,
             "#7fbc41"
            ],
            [
             0.9,
             "#4d9221"
            ],
            [
             1,
             "#276419"
            ]
           ],
           "sequential": [
            [
             0,
             "#0d0887"
            ],
            [
             0.1111111111111111,
             "#46039f"
            ],
            [
             0.2222222222222222,
             "#7201a8"
            ],
            [
             0.3333333333333333,
             "#9c179e"
            ],
            [
             0.4444444444444444,
             "#bd3786"
            ],
            [
             0.5555555555555556,
             "#d8576b"
            ],
            [
             0.6666666666666666,
             "#ed7953"
            ],
            [
             0.7777777777777778,
             "#fb9f3a"
            ],
            [
             0.8888888888888888,
             "#fdca26"
            ],
            [
             1,
             "#f0f921"
            ]
           ],
           "sequentialminus": [
            [
             0,
             "#0d0887"
            ],
            [
             0.1111111111111111,
             "#46039f"
            ],
            [
             0.2222222222222222,
             "#7201a8"
            ],
            [
             0.3333333333333333,
             "#9c179e"
            ],
            [
             0.4444444444444444,
             "#bd3786"
            ],
            [
             0.5555555555555556,
             "#d8576b"
            ],
            [
             0.6666666666666666,
             "#ed7953"
            ],
            [
             0.7777777777777778,
             "#fb9f3a"
            ],
            [
             0.8888888888888888,
             "#fdca26"
            ],
            [
             1,
             "#f0f921"
            ]
           ]
          },
          "colorway": [
           "#636efa",
           "#EF553B",
           "#00cc96",
           "#ab63fa",
           "#FFA15A",
           "#19d3f3",
           "#FF6692",
           "#B6E880",
           "#FF97FF",
           "#FECB52"
          ],
          "font": {
           "color": "#2a3f5f"
          },
          "geo": {
           "bgcolor": "white",
           "lakecolor": "white",
           "landcolor": "#E5ECF6",
           "showlakes": true,
           "showland": true,
           "subunitcolor": "white"
          },
          "hoverlabel": {
           "align": "left"
          },
          "hovermode": "closest",
          "mapbox": {
           "style": "light"
          },
          "paper_bgcolor": "white",
          "plot_bgcolor": "#E5ECF6",
          "polar": {
           "angularaxis": {
            "gridcolor": "white",
            "linecolor": "white",
            "ticks": ""
           },
           "bgcolor": "#E5ECF6",
           "radialaxis": {
            "gridcolor": "white",
            "linecolor": "white",
            "ticks": ""
           }
          },
          "scene": {
           "xaxis": {
            "backgroundcolor": "#E5ECF6",
            "gridcolor": "white",
            "gridwidth": 2,
            "linecolor": "white",
            "showbackground": true,
            "ticks": "",
            "zerolinecolor": "white"
           },
           "yaxis": {
            "backgroundcolor": "#E5ECF6",
            "gridcolor": "white",
            "gridwidth": 2,
            "linecolor": "white",
            "showbackground": true,
            "ticks": "",
            "zerolinecolor": "white"
           },
           "zaxis": {
            "backgroundcolor": "#E5ECF6",
            "gridcolor": "white",
            "gridwidth": 2,
            "linecolor": "white",
            "showbackground": true,
            "ticks": "",
            "zerolinecolor": "white"
           }
          },
          "shapedefaults": {
           "line": {
            "color": "#2a3f5f"
           }
          },
          "ternary": {
           "aaxis": {
            "gridcolor": "white",
            "linecolor": "white",
            "ticks": ""
           },
           "baxis": {
            "gridcolor": "white",
            "linecolor": "white",
            "ticks": ""
           },
           "bgcolor": "#E5ECF6",
           "caxis": {
            "gridcolor": "white",
            "linecolor": "white",
            "ticks": ""
           }
          },
          "title": {
           "x": 0.05
          },
          "xaxis": {
           "automargin": true,
           "gridcolor": "white",
           "linecolor": "white",
           "ticks": "",
           "title": {
            "standoff": 15
           },
           "zerolinecolor": "white",
           "zerolinewidth": 2
          },
          "yaxis": {
           "automargin": true,
           "gridcolor": "white",
           "linecolor": "white",
           "ticks": "",
           "title": {
            "standoff": 15
           },
           "zerolinecolor": "white",
           "zerolinewidth": 2
          }
         }
        }
       }
      },
      "text/html": [
       "<div>                            <div id=\"f94bdbbe-66f3-4926-81a7-c898d2d89b38\" class=\"plotly-graph-div\" style=\"height:525px; width:100%;\"></div>            <script type=\"text/javascript\">                require([\"plotly\"], function(Plotly) {                    window.PLOTLYENV=window.PLOTLYENV || {};                                    if (document.getElementById(\"f94bdbbe-66f3-4926-81a7-c898d2d89b38\")) {                    Plotly.newPlot(                        \"f94bdbbe-66f3-4926-81a7-c898d2d89b38\",                        [{\"dimensions\":[{\"axis\":{\"matches\":true},\"label\":\"price\",\"values\":[356900,449900,475000,455000,329900,430000,399499,400000,445000,399000,273999,285000,445000,324800,375990,330000,405000,359000,349000,389900,429900,355000,380000,399900,445000,320000,312200,470000,390000,305000,289000,387000,377900,275000,299000,485000,419900,470000,325000,399990,408777,385000,420000,335000,375000,409900,365000,373000,469000,379900,379900,355000,430000,349900,289500,284999,360000,365000,350000,350000,395977,339900,365000,305000,349990,341900,329900,349900,399900,365000,305000,315000,365000,377000,359900]},{\"axis\":{\"matches\":true},\"label\":\"pricePerSqFt\",\"values\":[172.0,210.0,242.0,223.0,164.0,227.0,240.0,215.0,216.0,256.0,211.0,216.0,235.0,177.0,176.0,177.0,189.0,232.0,181.0,184.0,245.0,192.0,233.0,214.0,227.0,170.0,224.0,269.0,234.0,231.0,226.0,231.0,226.0,227.0,237.0,272.0,210.0,216.0,254.0,201.0,230.0,263.0,213.0,262.0,187.0,291.0,216.0,207.0,216.0,213.0,218.0,219.0,219.0,219.0,219.0,219.0,222.0,245.0,238.0,241.0,199.0,195.0,248.0,212.0,240.0,232.0,254.0,286.0,200.0,224.0,242.0,281.0,258.0,205.0,209.0]},{\"axis\":{\"matches\":true},\"label\":\"zestimate\",\"values\":[374000.0,463600.0,null,null,354300.0,null,null,411900.0,453100.0,359800.0,281600.0,291600.0,445000.0,329400.0,378500.0,336018.0,405200.0,359094.0,349100.0,390000.0,430004.0,355100.0,380172.0,400000.0,445400.0,320009.0,314100.0,472500.0,393554.0,309600.0,293729.0,392000.0,385000.0,282981.0,307608.0,500100.0,419900.0,470000.0,324900.0,395500.0,413824.0,357600.0,413200.0,335106.0,381300.0,410379.0,358400.0,348200.0,442000.0,null,380971.0,355200.0,413900.0,350009.0,293800.0,291500.0,361015.0,365100.0,373500.0,351032.0,398500.0,361800.0,null,291000.0,350200.0,341900.0,330000.0,350100.0,251200.0,null,316000.0,315484.0,365104.0,379500.0,null]},{\"axis\":{\"matches\":true},\"label\":\"rentZestimate\",\"values\":[2279.0,2499.0,null,null,2148.0,null,2400.0,2279.0,2250.0,1829.0,1649.0,1649.0,2400.0,2449.0,2199.0,2184.0,2499.0,1975.0,2139.0,2199.0,2199.0,2049.0,1997.0,2129.0,2400.0,1999.0,1649.0,2393.0,2100.0,1649.0,1746.0,2169.0,2250.0,1749.0,2154.0,2699.0,2311.0,2521.0,1975.0,2199.0,1947.0,2100.0,2100.0,1950.0,1975.0,2400.0,2049.0,1950.0,2499.0,null,2199.0,1999.0,2300.0,2199.0,1649.0,1649.0,1997.0,1975.0,2199.0,2100.0,2270.0,1999.0,null,2128.0,2184.0,2085.0,1996.0,1935.0,2343.0,null,1950.0,1920.0,2199.0,2294.0,null]},{\"axis\":{\"matches\":true},\"label\":\"area\",\"values\":[2076.0,2144.0,1960.0,2040.0,2006.0,1897.0,1662.0,1858.0,2056.0,1561.0,1300.0,1320.0,1894.0,1835.0,2132.0,1864.0,2138.0,1548.0,1923.0,2114.0,1755.0,1850.0,1630.0,1866.0,1957.0,1883.0,1396.0,1745.0,1670.0,1320.0,1280.0,1675.0,1670.0,1209.0,1260.0,1780.0,2003.0,2180.0,1278.0,1994.0,1781.0,1462.0,1968.0,1280.0,2007.0,1410.0,1692.0,1800.0,2170.0,1786.0,1744.0,1620.0,1960.0,1600.0,1320.0,1300.0,1620.0,1487.0,1472.0,1452.0,1993.0,1745.0,1472.0,1440.0,1457.0,1472.0,1300.0,1224.0,1995.0,1630.0,1260.0,1120.0,1414.0,1840.0,1719.0]},{\"axis\":{\"matches\":true},\"label\":\"beds\",\"values\":[3.0,4.0,3.0,3.0,3.0,4.0,3.0,3.0,3.0,3.0,3.0,3.0,3.0,4.0,3.0,3.0,4.0,4.0,3.0,3.0,3.0,3.0,3.0,3.0,4.0,3.0,4.0,3.0,5.0,3.0,3.0,3.0,3.0,2.0,3.0,3.0,3.0,3.0,3.0,3.0,4.0,3.0,4.0,3.0,3.0,4.0,3.0,3.0,3.0,3.0,3.0,4.0,3.0,3.0,3.0,3.0,3.0,3.0,3.0,3.0,4.0,3.0,3.0,3.0,3.0,3.0,3.0,3.0,4.0,3.0,3.0,3.0,3.0,2.0,4.0]},{\"axis\":{\"matches\":true},\"label\":\"baths\",\"values\":[3.0,4.0,4.0,3.0,4.0,4.0,3.0,4.0,4.0,4.0,3.0,3.0,3.0,4.0,4.0,3.0,4.0,2.0,2.0,4.0,4.0,4.0,3.0,4.0,4.0,2.0,3.0,4.0,3.0,3.0,2.0,3.0,4.0,2.0,3.0,4.0,4.0,4.0,3.0,4.0,4.0,3.0,4.0,2.0,4.0,4.0,4.0,3.0,4.0,3.0,4.0,4.0,3.0,4.0,3.0,3.0,4.0,3.0,3.0,3.0,4.0,4.0,3.0,3.0,3.0,3.0,3.0,2.0,4.0,4.0,2.0,2.0,3.0,3.0,2.0]}],\"hovertemplate\":\"%{xaxis.title.text}=%{x}<br>%{yaxis.title.text}=%{y}<extra></extra>\",\"legendgroup\":\"\",\"marker\":{\"color\":\"#636efa\",\"symbol\":\"circle\"},\"name\":\"\",\"showlegend\":false,\"type\":\"splom\"}],                        {\"template\":{\"data\":{\"bar\":[{\"error_x\":{\"color\":\"#2a3f5f\"},\"error_y\":{\"color\":\"#2a3f5f\"},\"marker\":{\"line\":{\"color\":\"#E5ECF6\",\"width\":0.5},\"pattern\":{\"fillmode\":\"overlay\",\"size\":10,\"solidity\":0.2}},\"type\":\"bar\"}],\"barpolar\":[{\"marker\":{\"line\":{\"color\":\"#E5ECF6\",\"width\":0.5},\"pattern\":{\"fillmode\":\"overlay\",\"size\":10,\"solidity\":0.2}},\"type\":\"barpolar\"}],\"carpet\":[{\"aaxis\":{\"endlinecolor\":\"#2a3f5f\",\"gridcolor\":\"white\",\"linecolor\":\"white\",\"minorgridcolor\":\"white\",\"startlinecolor\":\"#2a3f5f\"},\"baxis\":{\"endlinecolor\":\"#2a3f5f\",\"gridcolor\":\"white\",\"linecolor\":\"white\",\"minorgridcolor\":\"white\",\"startlinecolor\":\"#2a3f5f\"},\"type\":\"carpet\"}],\"choropleth\":[{\"colorbar\":{\"outlinewidth\":0,\"ticks\":\"\"},\"type\":\"choropleth\"}],\"contour\":[{\"colorbar\":{\"outlinewidth\":0,\"ticks\":\"\"},\"colorscale\":[[0.0,\"#0d0887\"],[0.1111111111111111,\"#46039f\"],[0.2222222222222222,\"#7201a8\"],[0.3333333333333333,\"#9c179e\"],[0.4444444444444444,\"#bd3786\"],[0.5555555555555556,\"#d8576b\"],[0.6666666666666666,\"#ed7953\"],[0.7777777777777778,\"#fb9f3a\"],[0.8888888888888888,\"#fdca26\"],[1.0,\"#f0f921\"]],\"type\":\"contour\"}],\"contourcarpet\":[{\"colorbar\":{\"outlinewidth\":0,\"ticks\":\"\"},\"type\":\"contourcarpet\"}],\"heatmap\":[{\"colorbar\":{\"outlinewidth\":0,\"ticks\":\"\"},\"colorscale\":[[0.0,\"#0d0887\"],[0.1111111111111111,\"#46039f\"],[0.2222222222222222,\"#7201a8\"],[0.3333333333333333,\"#9c179e\"],[0.4444444444444444,\"#bd3786\"],[0.5555555555555556,\"#d8576b\"],[0.6666666666666666,\"#ed7953\"],[0.7777777777777778,\"#fb9f3a\"],[0.8888888888888888,\"#fdca26\"],[1.0,\"#f0f921\"]],\"type\":\"heatmap\"}],\"heatmapgl\":[{\"colorbar\":{\"outlinewidth\":0,\"ticks\":\"\"},\"colorscale\":[[0.0,\"#0d0887\"],[0.1111111111111111,\"#46039f\"],[0.2222222222222222,\"#7201a8\"],[0.3333333333333333,\"#9c179e\"],[0.4444444444444444,\"#bd3786\"],[0.5555555555555556,\"#d8576b\"],[0.6666666666666666,\"#ed7953\"],[0.7777777777777778,\"#fb9f3a\"],[0.8888888888888888,\"#fdca26\"],[1.0,\"#f0f921\"]],\"type\":\"heatmapgl\"}],\"histogram\":[{\"marker\":{\"pattern\":{\"fillmode\":\"overlay\",\"size\":10,\"solidity\":0.2}},\"type\":\"histogram\"}],\"histogram2d\":[{\"colorbar\":{\"outlinewidth\":0,\"ticks\":\"\"},\"colorscale\":[[0.0,\"#0d0887\"],[0.1111111111111111,\"#46039f\"],[0.2222222222222222,\"#7201a8\"],[0.3333333333333333,\"#9c179e\"],[0.4444444444444444,\"#bd3786\"],[0.5555555555555556,\"#d8576b\"],[0.6666666666666666,\"#ed7953\"],[0.7777777777777778,\"#fb9f3a\"],[0.8888888888888888,\"#fdca26\"],[1.0,\"#f0f921\"]],\"type\":\"histogram2d\"}],\"histogram2dcontour\":[{\"colorbar\":{\"outlinewidth\":0,\"ticks\":\"\"},\"colorscale\":[[0.0,\"#0d0887\"],[0.1111111111111111,\"#46039f\"],[0.2222222222222222,\"#7201a8\"],[0.3333333333333333,\"#9c179e\"],[0.4444444444444444,\"#bd3786\"],[0.5555555555555556,\"#d8576b\"],[0.6666666666666666,\"#ed7953\"],[0.7777777777777778,\"#fb9f3a\"],[0.8888888888888888,\"#fdca26\"],[1.0,\"#f0f921\"]],\"type\":\"histogram2dcontour\"}],\"mesh3d\":[{\"colorbar\":{\"outlinewidth\":0,\"ticks\":\"\"},\"type\":\"mesh3d\"}],\"parcoords\":[{\"line\":{\"colorbar\":{\"outlinewidth\":0,\"ticks\":\"\"}},\"type\":\"parcoords\"}],\"pie\":[{\"automargin\":true,\"type\":\"pie\"}],\"scatter\":[{\"marker\":{\"colorbar\":{\"outlinewidth\":0,\"ticks\":\"\"}},\"type\":\"scatter\"}],\"scatter3d\":[{\"line\":{\"colorbar\":{\"outlinewidth\":0,\"ticks\":\"\"}},\"marker\":{\"colorbar\":{\"outlinewidth\":0,\"ticks\":\"\"}},\"type\":\"scatter3d\"}],\"scattercarpet\":[{\"marker\":{\"colorbar\":{\"outlinewidth\":0,\"ticks\":\"\"}},\"type\":\"scattercarpet\"}],\"scattergeo\":[{\"marker\":{\"colorbar\":{\"outlinewidth\":0,\"ticks\":\"\"}},\"type\":\"scattergeo\"}],\"scattergl\":[{\"marker\":{\"colorbar\":{\"outlinewidth\":0,\"ticks\":\"\"}},\"type\":\"scattergl\"}],\"scattermapbox\":[{\"marker\":{\"colorbar\":{\"outlinewidth\":0,\"ticks\":\"\"}},\"type\":\"scattermapbox\"}],\"scatterpolar\":[{\"marker\":{\"colorbar\":{\"outlinewidth\":0,\"ticks\":\"\"}},\"type\":\"scatterpolar\"}],\"scatterpolargl\":[{\"marker\":{\"colorbar\":{\"outlinewidth\":0,\"ticks\":\"\"}},\"type\":\"scatterpolargl\"}],\"scatterternary\":[{\"marker\":{\"colorbar\":{\"outlinewidth\":0,\"ticks\":\"\"}},\"type\":\"scatterternary\"}],\"surface\":[{\"colorbar\":{\"outlinewidth\":0,\"ticks\":\"\"},\"colorscale\":[[0.0,\"#0d0887\"],[0.1111111111111111,\"#46039f\"],[0.2222222222222222,\"#7201a8\"],[0.3333333333333333,\"#9c179e\"],[0.4444444444444444,\"#bd3786\"],[0.5555555555555556,\"#d8576b\"],[0.6666666666666666,\"#ed7953\"],[0.7777777777777778,\"#fb9f3a\"],[0.8888888888888888,\"#fdca26\"],[1.0,\"#f0f921\"]],\"type\":\"surface\"}],\"table\":[{\"cells\":{\"fill\":{\"color\":\"#EBF0F8\"},\"line\":{\"color\":\"white\"}},\"header\":{\"fill\":{\"color\":\"#C8D4E3\"},\"line\":{\"color\":\"white\"}},\"type\":\"table\"}]},\"layout\":{\"annotationdefaults\":{\"arrowcolor\":\"#2a3f5f\",\"arrowhead\":0,\"arrowwidth\":1},\"autotypenumbers\":\"strict\",\"coloraxis\":{\"colorbar\":{\"outlinewidth\":0,\"ticks\":\"\"}},\"colorscale\":{\"diverging\":[[0,\"#8e0152\"],[0.1,\"#c51b7d\"],[0.2,\"#de77ae\"],[0.3,\"#f1b6da\"],[0.4,\"#fde0ef\"],[0.5,\"#f7f7f7\"],[0.6,\"#e6f5d0\"],[0.7,\"#b8e186\"],[0.8,\"#7fbc41\"],[0.9,\"#4d9221\"],[1,\"#276419\"]],\"sequential\":[[0.0,\"#0d0887\"],[0.1111111111111111,\"#46039f\"],[0.2222222222222222,\"#7201a8\"],[0.3333333333333333,\"#9c179e\"],[0.4444444444444444,\"#bd3786\"],[0.5555555555555556,\"#d8576b\"],[0.6666666666666666,\"#ed7953\"],[0.7777777777777778,\"#fb9f3a\"],[0.8888888888888888,\"#fdca26\"],[1.0,\"#f0f921\"]],\"sequentialminus\":[[0.0,\"#0d0887\"],[0.1111111111111111,\"#46039f\"],[0.2222222222222222,\"#7201a8\"],[0.3333333333333333,\"#9c179e\"],[0.4444444444444444,\"#bd3786\"],[0.5555555555555556,\"#d8576b\"],[0.6666666666666666,\"#ed7953\"],[0.7777777777777778,\"#fb9f3a\"],[0.8888888888888888,\"#fdca26\"],[1.0,\"#f0f921\"]]},\"colorway\":[\"#636efa\",\"#EF553B\",\"#00cc96\",\"#ab63fa\",\"#FFA15A\",\"#19d3f3\",\"#FF6692\",\"#B6E880\",\"#FF97FF\",\"#FECB52\"],\"font\":{\"color\":\"#2a3f5f\"},\"geo\":{\"bgcolor\":\"white\",\"lakecolor\":\"white\",\"landcolor\":\"#E5ECF6\",\"showlakes\":true,\"showland\":true,\"subunitcolor\":\"white\"},\"hoverlabel\":{\"align\":\"left\"},\"hovermode\":\"closest\",\"mapbox\":{\"style\":\"light\"},\"paper_bgcolor\":\"white\",\"plot_bgcolor\":\"#E5ECF6\",\"polar\":{\"angularaxis\":{\"gridcolor\":\"white\",\"linecolor\":\"white\",\"ticks\":\"\"},\"bgcolor\":\"#E5ECF6\",\"radialaxis\":{\"gridcolor\":\"white\",\"linecolor\":\"white\",\"ticks\":\"\"}},\"scene\":{\"xaxis\":{\"backgroundcolor\":\"#E5ECF6\",\"gridcolor\":\"white\",\"gridwidth\":2,\"linecolor\":\"white\",\"showbackground\":true,\"ticks\":\"\",\"zerolinecolor\":\"white\"},\"yaxis\":{\"backgroundcolor\":\"#E5ECF6\",\"gridcolor\":\"white\",\"gridwidth\":2,\"linecolor\":\"white\",\"showbackground\":true,\"ticks\":\"\",\"zerolinecolor\":\"white\"},\"zaxis\":{\"backgroundcolor\":\"#E5ECF6\",\"gridcolor\":\"white\",\"gridwidth\":2,\"linecolor\":\"white\",\"showbackground\":true,\"ticks\":\"\",\"zerolinecolor\":\"white\"}},\"shapedefaults\":{\"line\":{\"color\":\"#2a3f5f\"}},\"ternary\":{\"aaxis\":{\"gridcolor\":\"white\",\"linecolor\":\"white\",\"ticks\":\"\"},\"baxis\":{\"gridcolor\":\"white\",\"linecolor\":\"white\",\"ticks\":\"\"},\"bgcolor\":\"#E5ECF6\",\"caxis\":{\"gridcolor\":\"white\",\"linecolor\":\"white\",\"ticks\":\"\"}},\"title\":{\"x\":0.05},\"xaxis\":{\"automargin\":true,\"gridcolor\":\"white\",\"linecolor\":\"white\",\"ticks\":\"\",\"title\":{\"standoff\":15},\"zerolinecolor\":\"white\",\"zerolinewidth\":2},\"yaxis\":{\"automargin\":true,\"gridcolor\":\"white\",\"linecolor\":\"white\",\"ticks\":\"\",\"title\":{\"standoff\":15},\"zerolinecolor\":\"white\",\"zerolinewidth\":2}}},\"legend\":{\"tracegroupgap\":0},\"margin\":{\"t\":60},\"dragmode\":\"select\"},                        {\"responsive\": true}                    ).then(function(){\n",
       "                            \n",
       "var gd = document.getElementById('f94bdbbe-66f3-4926-81a7-c898d2d89b38');\n",
       "var x = new MutationObserver(function (mutations, observer) {{\n",
       "        var display = window.getComputedStyle(gd).display;\n",
       "        if (!display || display === 'none') {{\n",
       "            console.log([gd, 'removed!']);\n",
       "            Plotly.purge(gd);\n",
       "            observer.disconnect();\n",
       "        }}\n",
       "}});\n",
       "\n",
       "// Listen for the removal of the full notebook cells\n",
       "var notebookContainer = gd.closest('#notebook-container');\n",
       "if (notebookContainer) {{\n",
       "    x.observe(notebookContainer, {childList: true});\n",
       "}}\n",
       "\n",
       "// Listen for the clearing of the current output cell\n",
       "var outputEl = gd.closest('.output');\n",
       "if (outputEl) {{\n",
       "    x.observe(outputEl, {childList: true});\n",
       "}}\n",
       "\n",
       "                        })                };                });            </script>        </div>"
      ]
     },
     "metadata": {},
     "output_type": "display_data"
    }
   ],
   "source": [
    "fig = px.scatter_matrix(subsetdf)\n",
    "fig.show()"
   ]
  },
  {
   "cell_type": "code",
   "execution_count": 48,
   "id": "f009f80b",
   "metadata": {},
   "outputs": [
    {
     "data": {
      "application/vnd.plotly.v1+json": {
       "config": {
        "plotlyServerURL": "https://plot.ly"
       },
       "data": [
        {
         "customdata": [
          [
           "13138 Vineyard Way, Woodbridge, VA 22191"
          ],
          [
           "2235 Sluice Channel Pl, Woodbridge, VA 22192"
          ],
          [
           "11578 Hill Meade Ln, Woodbridge, VA 22192"
          ],
          [
           "12308 Aztec Pl, Woodbridge, VA 22192"
          ],
          [
           "14093 Fallbrook Ln, Woodbridge, VA 22193"
          ],
          [
           "1862 Heather Glen Ct, Woodbridge, VA 22191"
          ],
          [
           "12539 Basque Pl, Woodbridge, VA 22192"
          ],
          [
           "12838 Tumbling Brook Ln, Woodbridge, VA 22192"
          ],
          [
           "11800 Critton Cir, Woodbridge, VA 22192"
          ],
          [
           "3434 Tuckahoe Ct, Dumfries, VA 22026"
          ],
          [
           "2855 Banks Ct, Dumfries, VA 22026"
          ],
          [
           "2707 Steele Ct, Dumfries, VA 22026"
          ],
          [
           "3085 Bridgeton Ct, Woodbridge, VA 22192"
          ],
          [
           "1531 Fort Sumter Ct, Dumfries, VA 22026"
          ],
          [
           "14777 Darbydale Ave, Woodbridge, VA 22193"
          ],
          [
           "16142 Henderson Ln, Dumfries, VA 22025"
          ],
          [
           "15364 Bronco Way, Woodbridge, VA 22193"
          ],
          [
           "14381 Berkshire Dr, Woodbridge, VA 22193"
          ],
          [
           "14827 Anderson Ct, Woodbridge, VA 22193"
          ],
          [
           "3138 Antrim Cir, Dumfries, VA 22026"
          ],
          [
           "2089 Bowline Loop, Woodbridge, VA 22192"
          ],
          [
           "16933 Toms River Loop, Dumfries, VA 22026"
          ],
          [
           "3515 Belfry Ln, Woodbridge, VA 22192"
          ],
          [
           "1900 Mariner Ln, Woodbridge, VA 22192"
          ],
          [
           "11567 Bertram St, Woodbridge, VA 22192"
          ],
          [
           "14486 Brentwood Ct, Woodbridge, VA 22193"
          ],
          [
           "3033 Sigel Ct, Dumfries, VA 22026"
          ],
          [
           "7830 Bellwether Ct, Lorton, VA 22079"
          ],
          [
           "3329 Wyndale Ct, Woodbridge, VA 22192"
          ],
          [
           "2436 Kilpatrick Pl, Dumfries, VA 22026"
          ],
          [
           "1919 Fort Monroe Ct, Dumfries, VA 22026"
          ],
          [
           "3844 Marquis Pl, Woodbridge, VA 22192"
          ],
          [
           "12840 Bison Ct, Woodbridge, VA 22192"
          ],
          [
           "15328 Gatehouse Ter, Woodbridge, VA 22191"
          ],
          [
           "5206 Quince Ct, Woodbridge, VA 22193"
          ],
          [
           "18173 Red Mulberry Rd, Dumfries, VA 22026"
          ],
          [
           "12836 Tumbling Brook Ln, Woodbridge, VA 22192"
          ],
          [
           "13399 Dogues Ter, Woodbridge, VA 22191"
          ],
          [
           "14835 Cherrydale Dr, Woodbridge, VA 22193"
          ],
          [
           "2628 Miranda Ct, Woodbridge, VA 22191"
          ],
          [
           "5225 Spring Branch Blvd, Dumfries, VA 22025"
          ],
          [
           "4260 Ashmere Cir, Dumfries, VA 22025"
          ],
          [
           "15724 Lansdale Pl, Dumfries, VA 22025"
          ],
          [
           "3443 Brookville Ln, Woodbridge, VA 22192"
          ],
          [
           "15566 Traverser Ct, Woodbridge, VA 22193"
          ],
          [
           "15359 Inlet Pl, Dumfries, VA 22025"
          ],
          [
           "17028 Point Pleasant Ln, Dumfries, VA 22026"
          ],
          [
           "15355 Inlet Pl, Dumfries, VA 22025"
          ],
          [
           "5007 Seal Pl, Dumfries, VA 22025"
          ],
          [
           "13105 Brookside Ct, Woodbridge, VA 22191"
          ],
          [
           "12223 Allspice Ct, Woodbridge, VA 22192"
          ],
          [
           "14881 Cherrydale Dr, Woodbridge, VA 22193"
          ],
          [
           "3080 Bridgeton Ct, Woodbridge, VA 22192"
          ],
          [
           "2931 Cambridge Dr, Woodbridge, VA 22192"
          ],
          [
           "3005 Sigel Ct, Dumfries, VA 22026"
          ],
          [
           "2542 Sedgewick Pl, Dumfries, VA 22026"
          ],
          [
           "3457 Castle Hill Dr, Woodbridge, VA 22193"
          ],
          [
           "4196 Ashmere Cir, Dumfries, VA 22025"
          ],
          [
           "4905 Backwater Ct, Dumfries, VA 22025"
          ],
          [
           "4901 Saltwater Dr, Dumfries, VA 22025"
          ],
          [
           "15333 Inlet Pl, Dumfries, VA 22025"
          ],
          [
           "15023 Catalpa Ct, Woodbridge, VA 22193"
          ],
          [
           "3519 Castle Hill Dr, Woodbridge, VA 22193"
          ],
          [
           "14625 Endsley Turn, Woodbridge, VA 22193"
          ],
          [
           "14806 Emberdale Dr, Woodbridge, VA 22193"
          ],
          [
           "15001 Cardin Pl, Woodbridge, VA 22193"
          ],
          [
           "15068 Catbrier Ct, Woodbridge, VA 22193"
          ],
          [
           "3458 Beale Ct, Woodbridge, VA 22193"
          ],
          [
           "17250 Garcia Way, Dumfries, VA 22026"
          ],
          [
           "3433 Belleplain Ct, Dumfries, VA 22026"
          ],
          [
           "2906 Wetherburn Ct, Woodbridge, VA 22191"
          ],
          [
           "4667 Prather Pl, Woodbridge, VA 22193"
          ],
          [
           "3467 Vale Ct, Woodbridge, VA 22192"
          ],
          [
           "12682 Perchance Ter, Woodbridge, VA 22192"
          ],
          [
           "14404 Belvedere Dr, Woodbridge, VA 22193"
          ]
         ],
         "hovertemplate": "latitude=%{x}<br>longitude=%{y}<br>area=%{marker.size}<br>address=%{customdata[0]}<br>pricePerSqFt=%{marker.color}<extra></extra>",
         "legendgroup": "",
         "marker": {
          "color": [
           172,
           210,
           242,
           223,
           164,
           227,
           240,
           215,
           216,
           256,
           211,
           216,
           235,
           177,
           176,
           177,
           189,
           232,
           181,
           184,
           245,
           192,
           233,
           214,
           227,
           170,
           224,
           269,
           234,
           231,
           226,
           231,
           226,
           227,
           237,
           272,
           210,
           216,
           254,
           201,
           230,
           263,
           213,
           262,
           187,
           291,
           216,
           207,
           216,
           213,
           218,
           219,
           219,
           219,
           219,
           219,
           222,
           245,
           238,
           241,
           199,
           195,
           248,
           212,
           240,
           232,
           254,
           286,
           200,
           224,
           242,
           281,
           258,
           205,
           209
          ],
          "coloraxis": "coloraxis",
          "size": [
           2076,
           2144,
           1960,
           2040,
           2006,
           1897,
           1662,
           1858,
           2056,
           1561,
           1300,
           1320,
           1894,
           1835,
           2132,
           1864,
           2138,
           1548,
           1923,
           2114,
           1755,
           1850,
           1630,
           1866,
           1957,
           1883,
           1396,
           1745,
           1670,
           1320,
           1280,
           1675,
           1670,
           1209,
           1260,
           1780,
           2003,
           2180,
           1278,
           1994,
           1781,
           1462,
           1968,
           1280,
           2007,
           1410,
           1692,
           1800,
           2170,
           1786,
           1744,
           1620,
           1960,
           1600,
           1320,
           1300,
           1620,
           1487,
           1472,
           1452,
           1993,
           1745,
           1472,
           1440,
           1457,
           1472,
           1300,
           1224,
           1995,
           1630,
           1260,
           1120,
           1414,
           1840,
           1719
          ],
          "sizemode": "area",
          "sizeref": 5.45,
          "symbol": "circle"
         },
         "mode": "markers",
         "name": "",
         "orientation": "v",
         "showlegend": false,
         "type": "scatter",
         "x": [
          38.666454,
          38.672756,
          38.70499,
          38.68635,
          38.64782,
          38.627674,
          38.68161,
          38.67406,
          38.69855,
          38.586155,
          38.5607,
          38.55983,
          38.7051,
          38.56346,
          38.632786,
          38.60262,
          38.61936,
          38.641003,
          38.631077,
          38.574486,
          38.673836,
          38.586243,
          38.658325,
          38.685482,
          38.700043,
          38.641403,
          38.561653,
          38.70027,
          38.66067,
          38.561283,
          38.561092,
          38.688805,
          38.67424,
          38.61891,
          38.66335,
          38.558304,
          38.67408,
          38.663136,
          38.629414,
          38.587074,
          38.61866,
          38.59965,
          38.612103,
          38.65709,
          38.61423,
          38.619858,
          38.58348,
          38.620174,
          38.61234,
          38.668167,
          38.687756,
          38.627796,
          38.705654,
          38.683983,
          38.56151,
          38.560184,
          38.62785,
          38.59934,
          38.61021,
          38.609627,
          38.621033,
          38.628387,
          38.627995,
          38.635464,
          38.632053,
          38.628323,
          38.627888,
          38.6311,
          38.577663,
          38.586456,
          38.59032,
          38.642284,
          38.66127,
          38.67686,
          38.64065
         ],
         "xaxis": "x",
         "y": [
          -77.25653,
          -77.280815,
          -77.30489,
          -77.2995,
          -77.32716,
          -77.267975,
          -77.29389,
          -77.2714,
          -77.31131,
          -77.31562,
          -77.32566,
          -77.32698,
          -77.3035,
          -77.3244,
          -77.34047,
          -77.33975,
          -77.31122,
          -77.31278,
          -77.30803,
          -77.307175,
          -77.27328,
          -77.31208,
          -77.31395,
          -77.272,
          -77.32652,
          -77.3478,
          -77.32447,
          -77.21584,
          -77.31082,
          -77.32691,
          -77.32287,
          -77.32806,
          -77.32471,
          -77.280945,
          -77.369,
          -77.280235,
          -77.27147,
          -77.24313,
          -77.31772,
          -77.29251,
          -77.35589,
          -77.33351,
          -77.356636,
          -77.311516,
          -77.316574,
          -77.35305,
          -77.3147,
          -77.35304,
          -77.357895,
          -77.25826,
          -77.3109,
          -77.3171,
          -77.30363,
          -77.29989,
          -77.32503,
          -77.328285,
          -77.31656,
          -77.331726,
          -77.35638,
          -77.35601,
          -77.353546,
          -77.31458,
          -77.31827,
          -77.33726,
          -77.34003,
          -77.321686,
          -77.315575,
          -77.3154,
          -77.30471,
          -77.31478,
          -77.29961,
          -77.34954,
          -77.31408,
          -77.31417,
          -77.31403
         ],
         "yaxis": "y"
        },
        {
         "alignmentgroup": "True",
         "bingroup": "x",
         "hovertemplate": "latitude=%{x}<br>count=%{y}<extra></extra>",
         "legendgroup": "",
         "marker": {
          "color": "#0d0887"
         },
         "name": "",
         "offsetgroup": "",
         "opacity": 0.5,
         "showlegend": false,
         "type": "histogram",
         "x": [
          38.666454,
          38.672756,
          38.70499,
          38.68635,
          38.64782,
          38.627674,
          38.68161,
          38.67406,
          38.69855,
          38.586155,
          38.5607,
          38.55983,
          38.7051,
          38.56346,
          38.632786,
          38.60262,
          38.61936,
          38.641003,
          38.631077,
          38.574486,
          38.673836,
          38.586243,
          38.658325,
          38.685482,
          38.700043,
          38.641403,
          38.561653,
          38.70027,
          38.66067,
          38.561283,
          38.561092,
          38.688805,
          38.67424,
          38.61891,
          38.66335,
          38.558304,
          38.67408,
          38.663136,
          38.629414,
          38.587074,
          38.61866,
          38.59965,
          38.612103,
          38.65709,
          38.61423,
          38.619858,
          38.58348,
          38.620174,
          38.61234,
          38.668167,
          38.687756,
          38.627796,
          38.705654,
          38.683983,
          38.56151,
          38.560184,
          38.62785,
          38.59934,
          38.61021,
          38.609627,
          38.621033,
          38.628387,
          38.627995,
          38.635464,
          38.632053,
          38.628323,
          38.627888,
          38.6311,
          38.577663,
          38.586456,
          38.59032,
          38.642284,
          38.66127,
          38.67686,
          38.64065
         ],
         "xaxis": "x3",
         "yaxis": "y3"
        },
        {
         "alignmentgroup": "True",
         "boxpoints": "all",
         "customdata": [
          [
           "13138 Vineyard Way, Woodbridge, VA 22191"
          ],
          [
           "2235 Sluice Channel Pl, Woodbridge, VA 22192"
          ],
          [
           "11578 Hill Meade Ln, Woodbridge, VA 22192"
          ],
          [
           "12308 Aztec Pl, Woodbridge, VA 22192"
          ],
          [
           "14093 Fallbrook Ln, Woodbridge, VA 22193"
          ],
          [
           "1862 Heather Glen Ct, Woodbridge, VA 22191"
          ],
          [
           "12539 Basque Pl, Woodbridge, VA 22192"
          ],
          [
           "12838 Tumbling Brook Ln, Woodbridge, VA 22192"
          ],
          [
           "11800 Critton Cir, Woodbridge, VA 22192"
          ],
          [
           "3434 Tuckahoe Ct, Dumfries, VA 22026"
          ],
          [
           "2855 Banks Ct, Dumfries, VA 22026"
          ],
          [
           "2707 Steele Ct, Dumfries, VA 22026"
          ],
          [
           "3085 Bridgeton Ct, Woodbridge, VA 22192"
          ],
          [
           "1531 Fort Sumter Ct, Dumfries, VA 22026"
          ],
          [
           "14777 Darbydale Ave, Woodbridge, VA 22193"
          ],
          [
           "16142 Henderson Ln, Dumfries, VA 22025"
          ],
          [
           "15364 Bronco Way, Woodbridge, VA 22193"
          ],
          [
           "14381 Berkshire Dr, Woodbridge, VA 22193"
          ],
          [
           "14827 Anderson Ct, Woodbridge, VA 22193"
          ],
          [
           "3138 Antrim Cir, Dumfries, VA 22026"
          ],
          [
           "2089 Bowline Loop, Woodbridge, VA 22192"
          ],
          [
           "16933 Toms River Loop, Dumfries, VA 22026"
          ],
          [
           "3515 Belfry Ln, Woodbridge, VA 22192"
          ],
          [
           "1900 Mariner Ln, Woodbridge, VA 22192"
          ],
          [
           "11567 Bertram St, Woodbridge, VA 22192"
          ],
          [
           "14486 Brentwood Ct, Woodbridge, VA 22193"
          ],
          [
           "3033 Sigel Ct, Dumfries, VA 22026"
          ],
          [
           "7830 Bellwether Ct, Lorton, VA 22079"
          ],
          [
           "3329 Wyndale Ct, Woodbridge, VA 22192"
          ],
          [
           "2436 Kilpatrick Pl, Dumfries, VA 22026"
          ],
          [
           "1919 Fort Monroe Ct, Dumfries, VA 22026"
          ],
          [
           "3844 Marquis Pl, Woodbridge, VA 22192"
          ],
          [
           "12840 Bison Ct, Woodbridge, VA 22192"
          ],
          [
           "15328 Gatehouse Ter, Woodbridge, VA 22191"
          ],
          [
           "5206 Quince Ct, Woodbridge, VA 22193"
          ],
          [
           "18173 Red Mulberry Rd, Dumfries, VA 22026"
          ],
          [
           "12836 Tumbling Brook Ln, Woodbridge, VA 22192"
          ],
          [
           "13399 Dogues Ter, Woodbridge, VA 22191"
          ],
          [
           "14835 Cherrydale Dr, Woodbridge, VA 22193"
          ],
          [
           "2628 Miranda Ct, Woodbridge, VA 22191"
          ],
          [
           "5225 Spring Branch Blvd, Dumfries, VA 22025"
          ],
          [
           "4260 Ashmere Cir, Dumfries, VA 22025"
          ],
          [
           "15724 Lansdale Pl, Dumfries, VA 22025"
          ],
          [
           "3443 Brookville Ln, Woodbridge, VA 22192"
          ],
          [
           "15566 Traverser Ct, Woodbridge, VA 22193"
          ],
          [
           "15359 Inlet Pl, Dumfries, VA 22025"
          ],
          [
           "17028 Point Pleasant Ln, Dumfries, VA 22026"
          ],
          [
           "15355 Inlet Pl, Dumfries, VA 22025"
          ],
          [
           "5007 Seal Pl, Dumfries, VA 22025"
          ],
          [
           "13105 Brookside Ct, Woodbridge, VA 22191"
          ],
          [
           "12223 Allspice Ct, Woodbridge, VA 22192"
          ],
          [
           "14881 Cherrydale Dr, Woodbridge, VA 22193"
          ],
          [
           "3080 Bridgeton Ct, Woodbridge, VA 22192"
          ],
          [
           "2931 Cambridge Dr, Woodbridge, VA 22192"
          ],
          [
           "3005 Sigel Ct, Dumfries, VA 22026"
          ],
          [
           "2542 Sedgewick Pl, Dumfries, VA 22026"
          ],
          [
           "3457 Castle Hill Dr, Woodbridge, VA 22193"
          ],
          [
           "4196 Ashmere Cir, Dumfries, VA 22025"
          ],
          [
           "4905 Backwater Ct, Dumfries, VA 22025"
          ],
          [
           "4901 Saltwater Dr, Dumfries, VA 22025"
          ],
          [
           "15333 Inlet Pl, Dumfries, VA 22025"
          ],
          [
           "15023 Catalpa Ct, Woodbridge, VA 22193"
          ],
          [
           "3519 Castle Hill Dr, Woodbridge, VA 22193"
          ],
          [
           "14625 Endsley Turn, Woodbridge, VA 22193"
          ],
          [
           "14806 Emberdale Dr, Woodbridge, VA 22193"
          ],
          [
           "15001 Cardin Pl, Woodbridge, VA 22193"
          ],
          [
           "15068 Catbrier Ct, Woodbridge, VA 22193"
          ],
          [
           "3458 Beale Ct, Woodbridge, VA 22193"
          ],
          [
           "17250 Garcia Way, Dumfries, VA 22026"
          ],
          [
           "3433 Belleplain Ct, Dumfries, VA 22026"
          ],
          [
           "2906 Wetherburn Ct, Woodbridge, VA 22191"
          ],
          [
           "4667 Prather Pl, Woodbridge, VA 22193"
          ],
          [
           "3467 Vale Ct, Woodbridge, VA 22192"
          ],
          [
           "12682 Perchance Ter, Woodbridge, VA 22192"
          ],
          [
           "14404 Belvedere Dr, Woodbridge, VA 22193"
          ]
         ],
         "fillcolor": "rgba(255,255,255,0)",
         "hoveron": "points",
         "hovertemplate": "longitude=%{y}<br>address=%{customdata[0]}<extra></extra>",
         "jitter": 0,
         "legendgroup": "",
         "line": {
          "color": "rgba(255,255,255,0)"
         },
         "marker": {
          "color": "#0d0887",
          "symbol": "line-ew-open"
         },
         "name": "",
         "offsetgroup": "",
         "showlegend": false,
         "type": "box",
         "xaxis": "x2",
         "y": [
          -77.25653,
          -77.280815,
          -77.30489,
          -77.2995,
          -77.32716,
          -77.267975,
          -77.29389,
          -77.2714,
          -77.31131,
          -77.31562,
          -77.32566,
          -77.32698,
          -77.3035,
          -77.3244,
          -77.34047,
          -77.33975,
          -77.31122,
          -77.31278,
          -77.30803,
          -77.307175,
          -77.27328,
          -77.31208,
          -77.31395,
          -77.272,
          -77.32652,
          -77.3478,
          -77.32447,
          -77.21584,
          -77.31082,
          -77.32691,
          -77.32287,
          -77.32806,
          -77.32471,
          -77.280945,
          -77.369,
          -77.280235,
          -77.27147,
          -77.24313,
          -77.31772,
          -77.29251,
          -77.35589,
          -77.33351,
          -77.356636,
          -77.311516,
          -77.316574,
          -77.35305,
          -77.3147,
          -77.35304,
          -77.357895,
          -77.25826,
          -77.3109,
          -77.3171,
          -77.30363,
          -77.29989,
          -77.32503,
          -77.328285,
          -77.31656,
          -77.331726,
          -77.35638,
          -77.35601,
          -77.353546,
          -77.31458,
          -77.31827,
          -77.33726,
          -77.34003,
          -77.321686,
          -77.315575,
          -77.3154,
          -77.30471,
          -77.31478,
          -77.29961,
          -77.34954,
          -77.31408,
          -77.31417,
          -77.31403
         ],
         "yaxis": "y2"
        }
       ],
       "layout": {
        "barmode": "overlay",
        "coloraxis": {
         "colorbar": {
          "title": {
           "text": "pricePerSqFt"
          }
         },
         "colorscale": [
          [
           0,
           "#0d0887"
          ],
          [
           0.1111111111111111,
           "#46039f"
          ],
          [
           0.2222222222222222,
           "#7201a8"
          ],
          [
           0.3333333333333333,
           "#9c179e"
          ],
          [
           0.4444444444444444,
           "#bd3786"
          ],
          [
           0.5555555555555556,
           "#d8576b"
          ],
          [
           0.6666666666666666,
           "#ed7953"
          ],
          [
           0.7777777777777778,
           "#fb9f3a"
          ],
          [
           0.8888888888888888,
           "#fdca26"
          ],
          [
           1,
           "#f0f921"
          ]
         ]
        },
        "legend": {
         "itemsizing": "constant",
         "tracegroupgap": 0
        },
        "margin": {
         "t": 60
        },
        "template": {
         "data": {
          "bar": [
           {
            "error_x": {
             "color": "#2a3f5f"
            },
            "error_y": {
             "color": "#2a3f5f"
            },
            "marker": {
             "line": {
              "color": "#E5ECF6",
              "width": 0.5
             },
             "pattern": {
              "fillmode": "overlay",
              "size": 10,
              "solidity": 0.2
             }
            },
            "type": "bar"
           }
          ],
          "barpolar": [
           {
            "marker": {
             "line": {
              "color": "#E5ECF6",
              "width": 0.5
             },
             "pattern": {
              "fillmode": "overlay",
              "size": 10,
              "solidity": 0.2
             }
            },
            "type": "barpolar"
           }
          ],
          "carpet": [
           {
            "aaxis": {
             "endlinecolor": "#2a3f5f",
             "gridcolor": "white",
             "linecolor": "white",
             "minorgridcolor": "white",
             "startlinecolor": "#2a3f5f"
            },
            "baxis": {
             "endlinecolor": "#2a3f5f",
             "gridcolor": "white",
             "linecolor": "white",
             "minorgridcolor": "white",
             "startlinecolor": "#2a3f5f"
            },
            "type": "carpet"
           }
          ],
          "choropleth": [
           {
            "colorbar": {
             "outlinewidth": 0,
             "ticks": ""
            },
            "type": "choropleth"
           }
          ],
          "contour": [
           {
            "colorbar": {
             "outlinewidth": 0,
             "ticks": ""
            },
            "colorscale": [
             [
              0,
              "#0d0887"
             ],
             [
              0.1111111111111111,
              "#46039f"
             ],
             [
              0.2222222222222222,
              "#7201a8"
             ],
             [
              0.3333333333333333,
              "#9c179e"
             ],
             [
              0.4444444444444444,
              "#bd3786"
             ],
             [
              0.5555555555555556,
              "#d8576b"
             ],
             [
              0.6666666666666666,
              "#ed7953"
             ],
             [
              0.7777777777777778,
              "#fb9f3a"
             ],
             [
              0.8888888888888888,
              "#fdca26"
             ],
             [
              1,
              "#f0f921"
             ]
            ],
            "type": "contour"
           }
          ],
          "contourcarpet": [
           {
            "colorbar": {
             "outlinewidth": 0,
             "ticks": ""
            },
            "type": "contourcarpet"
           }
          ],
          "heatmap": [
           {
            "colorbar": {
             "outlinewidth": 0,
             "ticks": ""
            },
            "colorscale": [
             [
              0,
              "#0d0887"
             ],
             [
              0.1111111111111111,
              "#46039f"
             ],
             [
              0.2222222222222222,
              "#7201a8"
             ],
             [
              0.3333333333333333,
              "#9c179e"
             ],
             [
              0.4444444444444444,
              "#bd3786"
             ],
             [
              0.5555555555555556,
              "#d8576b"
             ],
             [
              0.6666666666666666,
              "#ed7953"
             ],
             [
              0.7777777777777778,
              "#fb9f3a"
             ],
             [
              0.8888888888888888,
              "#fdca26"
             ],
             [
              1,
              "#f0f921"
             ]
            ],
            "type": "heatmap"
           }
          ],
          "heatmapgl": [
           {
            "colorbar": {
             "outlinewidth": 0,
             "ticks": ""
            },
            "colorscale": [
             [
              0,
              "#0d0887"
             ],
             [
              0.1111111111111111,
              "#46039f"
             ],
             [
              0.2222222222222222,
              "#7201a8"
             ],
             [
              0.3333333333333333,
              "#9c179e"
             ],
             [
              0.4444444444444444,
              "#bd3786"
             ],
             [
              0.5555555555555556,
              "#d8576b"
             ],
             [
              0.6666666666666666,
              "#ed7953"
             ],
             [
              0.7777777777777778,
              "#fb9f3a"
             ],
             [
              0.8888888888888888,
              "#fdca26"
             ],
             [
              1,
              "#f0f921"
             ]
            ],
            "type": "heatmapgl"
           }
          ],
          "histogram": [
           {
            "marker": {
             "pattern": {
              "fillmode": "overlay",
              "size": 10,
              "solidity": 0.2
             }
            },
            "type": "histogram"
           }
          ],
          "histogram2d": [
           {
            "colorbar": {
             "outlinewidth": 0,
             "ticks": ""
            },
            "colorscale": [
             [
              0,
              "#0d0887"
             ],
             [
              0.1111111111111111,
              "#46039f"
             ],
             [
              0.2222222222222222,
              "#7201a8"
             ],
             [
              0.3333333333333333,
              "#9c179e"
             ],
             [
              0.4444444444444444,
              "#bd3786"
             ],
             [
              0.5555555555555556,
              "#d8576b"
             ],
             [
              0.6666666666666666,
              "#ed7953"
             ],
             [
              0.7777777777777778,
              "#fb9f3a"
             ],
             [
              0.8888888888888888,
              "#fdca26"
             ],
             [
              1,
              "#f0f921"
             ]
            ],
            "type": "histogram2d"
           }
          ],
          "histogram2dcontour": [
           {
            "colorbar": {
             "outlinewidth": 0,
             "ticks": ""
            },
            "colorscale": [
             [
              0,
              "#0d0887"
             ],
             [
              0.1111111111111111,
              "#46039f"
             ],
             [
              0.2222222222222222,
              "#7201a8"
             ],
             [
              0.3333333333333333,
              "#9c179e"
             ],
             [
              0.4444444444444444,
              "#bd3786"
             ],
             [
              0.5555555555555556,
              "#d8576b"
             ],
             [
              0.6666666666666666,
              "#ed7953"
             ],
             [
              0.7777777777777778,
              "#fb9f3a"
             ],
             [
              0.8888888888888888,
              "#fdca26"
             ],
             [
              1,
              "#f0f921"
             ]
            ],
            "type": "histogram2dcontour"
           }
          ],
          "mesh3d": [
           {
            "colorbar": {
             "outlinewidth": 0,
             "ticks": ""
            },
            "type": "mesh3d"
           }
          ],
          "parcoords": [
           {
            "line": {
             "colorbar": {
              "outlinewidth": 0,
              "ticks": ""
             }
            },
            "type": "parcoords"
           }
          ],
          "pie": [
           {
            "automargin": true,
            "type": "pie"
           }
          ],
          "scatter": [
           {
            "marker": {
             "colorbar": {
              "outlinewidth": 0,
              "ticks": ""
             }
            },
            "type": "scatter"
           }
          ],
          "scatter3d": [
           {
            "line": {
             "colorbar": {
              "outlinewidth": 0,
              "ticks": ""
             }
            },
            "marker": {
             "colorbar": {
              "outlinewidth": 0,
              "ticks": ""
             }
            },
            "type": "scatter3d"
           }
          ],
          "scattercarpet": [
           {
            "marker": {
             "colorbar": {
              "outlinewidth": 0,
              "ticks": ""
             }
            },
            "type": "scattercarpet"
           }
          ],
          "scattergeo": [
           {
            "marker": {
             "colorbar": {
              "outlinewidth": 0,
              "ticks": ""
             }
            },
            "type": "scattergeo"
           }
          ],
          "scattergl": [
           {
            "marker": {
             "colorbar": {
              "outlinewidth": 0,
              "ticks": ""
             }
            },
            "type": "scattergl"
           }
          ],
          "scattermapbox": [
           {
            "marker": {
             "colorbar": {
              "outlinewidth": 0,
              "ticks": ""
             }
            },
            "type": "scattermapbox"
           }
          ],
          "scatterpolar": [
           {
            "marker": {
             "colorbar": {
              "outlinewidth": 0,
              "ticks": ""
             }
            },
            "type": "scatterpolar"
           }
          ],
          "scatterpolargl": [
           {
            "marker": {
             "colorbar": {
              "outlinewidth": 0,
              "ticks": ""
             }
            },
            "type": "scatterpolargl"
           }
          ],
          "scatterternary": [
           {
            "marker": {
             "colorbar": {
              "outlinewidth": 0,
              "ticks": ""
             }
            },
            "type": "scatterternary"
           }
          ],
          "surface": [
           {
            "colorbar": {
             "outlinewidth": 0,
             "ticks": ""
            },
            "colorscale": [
             [
              0,
              "#0d0887"
             ],
             [
              0.1111111111111111,
              "#46039f"
             ],
             [
              0.2222222222222222,
              "#7201a8"
             ],
             [
              0.3333333333333333,
              "#9c179e"
             ],
             [
              0.4444444444444444,
              "#bd3786"
             ],
             [
              0.5555555555555556,
              "#d8576b"
             ],
             [
              0.6666666666666666,
              "#ed7953"
             ],
             [
              0.7777777777777778,
              "#fb9f3a"
             ],
             [
              0.8888888888888888,
              "#fdca26"
             ],
             [
              1,
              "#f0f921"
             ]
            ],
            "type": "surface"
           }
          ],
          "table": [
           {
            "cells": {
             "fill": {
              "color": "#EBF0F8"
             },
             "line": {
              "color": "white"
             }
            },
            "header": {
             "fill": {
              "color": "#C8D4E3"
             },
             "line": {
              "color": "white"
             }
            },
            "type": "table"
           }
          ]
         },
         "layout": {
          "annotationdefaults": {
           "arrowcolor": "#2a3f5f",
           "arrowhead": 0,
           "arrowwidth": 1
          },
          "autotypenumbers": "strict",
          "coloraxis": {
           "colorbar": {
            "outlinewidth": 0,
            "ticks": ""
           }
          },
          "colorscale": {
           "diverging": [
            [
             0,
             "#8e0152"
            ],
            [
             0.1,
             "#c51b7d"
            ],
            [
             0.2,
             "#de77ae"
            ],
            [
             0.3,
             "#f1b6da"
            ],
            [
             0.4,
             "#fde0ef"
            ],
            [
             0.5,
             "#f7f7f7"
            ],
            [
             0.6,
             "#e6f5d0"
            ],
            [
             0.7,
             "#b8e186"
            ],
            [
             0.8,
             "#7fbc41"
            ],
            [
             0.9,
             "#4d9221"
            ],
            [
             1,
             "#276419"
            ]
           ],
           "sequential": [
            [
             0,
             "#0d0887"
            ],
            [
             0.1111111111111111,
             "#46039f"
            ],
            [
             0.2222222222222222,
             "#7201a8"
            ],
            [
             0.3333333333333333,
             "#9c179e"
            ],
            [
             0.4444444444444444,
             "#bd3786"
            ],
            [
             0.5555555555555556,
             "#d8576b"
            ],
            [
             0.6666666666666666,
             "#ed7953"
            ],
            [
             0.7777777777777778,
             "#fb9f3a"
            ],
            [
             0.8888888888888888,
             "#fdca26"
            ],
            [
             1,
             "#f0f921"
            ]
           ],
           "sequentialminus": [
            [
             0,
             "#0d0887"
            ],
            [
             0.1111111111111111,
             "#46039f"
            ],
            [
             0.2222222222222222,
             "#7201a8"
            ],
            [
             0.3333333333333333,
             "#9c179e"
            ],
            [
             0.4444444444444444,
             "#bd3786"
            ],
            [
             0.5555555555555556,
             "#d8576b"
            ],
            [
             0.6666666666666666,
             "#ed7953"
            ],
            [
             0.7777777777777778,
             "#fb9f3a"
            ],
            [
             0.8888888888888888,
             "#fdca26"
            ],
            [
             1,
             "#f0f921"
            ]
           ]
          },
          "colorway": [
           "#636efa",
           "#EF553B",
           "#00cc96",
           "#ab63fa",
           "#FFA15A",
           "#19d3f3",
           "#FF6692",
           "#B6E880",
           "#FF97FF",
           "#FECB52"
          ],
          "font": {
           "color": "#2a3f5f"
          },
          "geo": {
           "bgcolor": "white",
           "lakecolor": "white",
           "landcolor": "#E5ECF6",
           "showlakes": true,
           "showland": true,
           "subunitcolor": "white"
          },
          "hoverlabel": {
           "align": "left"
          },
          "hovermode": "closest",
          "mapbox": {
           "style": "light"
          },
          "paper_bgcolor": "white",
          "plot_bgcolor": "#E5ECF6",
          "polar": {
           "angularaxis": {
            "gridcolor": "white",
            "linecolor": "white",
            "ticks": ""
           },
           "bgcolor": "#E5ECF6",
           "radialaxis": {
            "gridcolor": "white",
            "linecolor": "white",
            "ticks": ""
           }
          },
          "scene": {
           "xaxis": {
            "backgroundcolor": "#E5ECF6",
            "gridcolor": "white",
            "gridwidth": 2,
            "linecolor": "white",
            "showbackground": true,
            "ticks": "",
            "zerolinecolor": "white"
           },
           "yaxis": {
            "backgroundcolor": "#E5ECF6",
            "gridcolor": "white",
            "gridwidth": 2,
            "linecolor": "white",
            "showbackground": true,
            "ticks": "",
            "zerolinecolor": "white"
           },
           "zaxis": {
            "backgroundcolor": "#E5ECF6",
            "gridcolor": "white",
            "gridwidth": 2,
            "linecolor": "white",
            "showbackground": true,
            "ticks": "",
            "zerolinecolor": "white"
           }
          },
          "shapedefaults": {
           "line": {
            "color": "#2a3f5f"
           }
          },
          "ternary": {
           "aaxis": {
            "gridcolor": "white",
            "linecolor": "white",
            "ticks": ""
           },
           "baxis": {
            "gridcolor": "white",
            "linecolor": "white",
            "ticks": ""
           },
           "bgcolor": "#E5ECF6",
           "caxis": {
            "gridcolor": "white",
            "linecolor": "white",
            "ticks": ""
           }
          },
          "title": {
           "x": 0.05
          },
          "xaxis": {
           "automargin": true,
           "gridcolor": "white",
           "linecolor": "white",
           "ticks": "",
           "title": {
            "standoff": 15
           },
           "zerolinecolor": "white",
           "zerolinewidth": 2
          },
          "yaxis": {
           "automargin": true,
           "gridcolor": "white",
           "linecolor": "white",
           "ticks": "",
           "title": {
            "standoff": 15
           },
           "zerolinecolor": "white",
           "zerolinewidth": 2
          }
         }
        },
        "xaxis": {
         "anchor": "y",
         "domain": [
          0,
          0.7363
         ],
         "title": {
          "text": "latitude"
         }
        },
        "xaxis2": {
         "anchor": "y2",
         "domain": [
          0.7413,
          1
         ],
         "matches": "x2",
         "showgrid": false,
         "showline": false,
         "showticklabels": false,
         "ticks": ""
        },
        "xaxis3": {
         "anchor": "y3",
         "domain": [
          0,
          0.7363
         ],
         "matches": "x",
         "showgrid": true,
         "showticklabels": false
        },
        "xaxis4": {
         "anchor": "y4",
         "domain": [
          0.7413,
          1
         ],
         "matches": "x2",
         "showgrid": false,
         "showline": false,
         "showticklabels": false,
         "ticks": ""
        },
        "yaxis": {
         "anchor": "x",
         "domain": [
          0,
          0.7326
         ],
         "title": {
          "text": "longitude"
         }
        },
        "yaxis2": {
         "anchor": "x2",
         "domain": [
          0,
          0.7326
         ],
         "matches": "y",
         "showgrid": true,
         "showticklabels": false
        },
        "yaxis3": {
         "anchor": "x3",
         "domain": [
          0.7426,
          1
         ],
         "matches": "y3",
         "showgrid": true,
         "showline": false,
         "showticklabels": false,
         "ticks": ""
        },
        "yaxis4": {
         "anchor": "x4",
         "domain": [
          0.7426,
          1
         ],
         "matches": "y3",
         "showgrid": true,
         "showline": false,
         "showticklabels": false,
         "ticks": ""
        }
       }
      },
      "text/html": [
       "<div>                            <div id=\"b8c8583e-35a9-4681-8fa9-0e22d99eb099\" class=\"plotly-graph-div\" style=\"height:525px; width:100%;\"></div>            <script type=\"text/javascript\">                require([\"plotly\"], function(Plotly) {                    window.PLOTLYENV=window.PLOTLYENV || {};                                    if (document.getElementById(\"b8c8583e-35a9-4681-8fa9-0e22d99eb099\")) {                    Plotly.newPlot(                        \"b8c8583e-35a9-4681-8fa9-0e22d99eb099\",                        [{\"customdata\":[[\"13138 Vineyard Way, Woodbridge, VA 22191\"],[\"2235 Sluice Channel Pl, Woodbridge, VA 22192\"],[\"11578 Hill Meade Ln, Woodbridge, VA 22192\"],[\"12308 Aztec Pl, Woodbridge, VA 22192\"],[\"14093 Fallbrook Ln, Woodbridge, VA 22193\"],[\"1862 Heather Glen Ct, Woodbridge, VA 22191\"],[\"12539 Basque Pl, Woodbridge, VA 22192\"],[\"12838 Tumbling Brook Ln, Woodbridge, VA 22192\"],[\"11800 Critton Cir, Woodbridge, VA 22192\"],[\"3434 Tuckahoe Ct, Dumfries, VA 22026\"],[\"2855 Banks Ct, Dumfries, VA 22026\"],[\"2707 Steele Ct, Dumfries, VA 22026\"],[\"3085 Bridgeton Ct, Woodbridge, VA 22192\"],[\"1531 Fort Sumter Ct, Dumfries, VA 22026\"],[\"14777 Darbydale Ave, Woodbridge, VA 22193\"],[\"16142 Henderson Ln, Dumfries, VA 22025\"],[\"15364 Bronco Way, Woodbridge, VA 22193\"],[\"14381 Berkshire Dr, Woodbridge, VA 22193\"],[\"14827 Anderson Ct, Woodbridge, VA 22193\"],[\"3138 Antrim Cir, Dumfries, VA 22026\"],[\"2089 Bowline Loop, Woodbridge, VA 22192\"],[\"16933 Toms River Loop, Dumfries, VA 22026\"],[\"3515 Belfry Ln, Woodbridge, VA 22192\"],[\"1900 Mariner Ln, Woodbridge, VA 22192\"],[\"11567 Bertram St, Woodbridge, VA 22192\"],[\"14486 Brentwood Ct, Woodbridge, VA 22193\"],[\"3033 Sigel Ct, Dumfries, VA 22026\"],[\"7830 Bellwether Ct, Lorton, VA 22079\"],[\"3329 Wyndale Ct, Woodbridge, VA 22192\"],[\"2436 Kilpatrick Pl, Dumfries, VA 22026\"],[\"1919 Fort Monroe Ct, Dumfries, VA 22026\"],[\"3844 Marquis Pl, Woodbridge, VA 22192\"],[\"12840 Bison Ct, Woodbridge, VA 22192\"],[\"15328 Gatehouse Ter, Woodbridge, VA 22191\"],[\"5206 Quince Ct, Woodbridge, VA 22193\"],[\"18173 Red Mulberry Rd, Dumfries, VA 22026\"],[\"12836 Tumbling Brook Ln, Woodbridge, VA 22192\"],[\"13399 Dogues Ter, Woodbridge, VA 22191\"],[\"14835 Cherrydale Dr, Woodbridge, VA 22193\"],[\"2628 Miranda Ct, Woodbridge, VA 22191\"],[\"5225 Spring Branch Blvd, Dumfries, VA 22025\"],[\"4260 Ashmere Cir, Dumfries, VA 22025\"],[\"15724 Lansdale Pl, Dumfries, VA 22025\"],[\"3443 Brookville Ln, Woodbridge, VA 22192\"],[\"15566 Traverser Ct, Woodbridge, VA 22193\"],[\"15359 Inlet Pl, Dumfries, VA 22025\"],[\"17028 Point Pleasant Ln, Dumfries, VA 22026\"],[\"15355 Inlet Pl, Dumfries, VA 22025\"],[\"5007 Seal Pl, Dumfries, VA 22025\"],[\"13105 Brookside Ct, Woodbridge, VA 22191\"],[\"12223 Allspice Ct, Woodbridge, VA 22192\"],[\"14881 Cherrydale Dr, Woodbridge, VA 22193\"],[\"3080 Bridgeton Ct, Woodbridge, VA 22192\"],[\"2931 Cambridge Dr, Woodbridge, VA 22192\"],[\"3005 Sigel Ct, Dumfries, VA 22026\"],[\"2542 Sedgewick Pl, Dumfries, VA 22026\"],[\"3457 Castle Hill Dr, Woodbridge, VA 22193\"],[\"4196 Ashmere Cir, Dumfries, VA 22025\"],[\"4905 Backwater Ct, Dumfries, VA 22025\"],[\"4901 Saltwater Dr, Dumfries, VA 22025\"],[\"15333 Inlet Pl, Dumfries, VA 22025\"],[\"15023 Catalpa Ct, Woodbridge, VA 22193\"],[\"3519 Castle Hill Dr, Woodbridge, VA 22193\"],[\"14625 Endsley Turn, Woodbridge, VA 22193\"],[\"14806 Emberdale Dr, Woodbridge, VA 22193\"],[\"15001 Cardin Pl, Woodbridge, VA 22193\"],[\"15068 Catbrier Ct, Woodbridge, VA 22193\"],[\"3458 Beale Ct, Woodbridge, VA 22193\"],[\"17250 Garcia Way, Dumfries, VA 22026\"],[\"3433 Belleplain Ct, Dumfries, VA 22026\"],[\"2906 Wetherburn Ct, Woodbridge, VA 22191\"],[\"4667 Prather Pl, Woodbridge, VA 22193\"],[\"3467 Vale Ct, Woodbridge, VA 22192\"],[\"12682 Perchance Ter, Woodbridge, VA 22192\"],[\"14404 Belvedere Dr, Woodbridge, VA 22193\"]],\"hovertemplate\":\"latitude=%{x}<br>longitude=%{y}<br>area=%{marker.size}<br>address=%{customdata[0]}<br>pricePerSqFt=%{marker.color}<extra></extra>\",\"legendgroup\":\"\",\"marker\":{\"color\":[172.0,210.0,242.0,223.0,164.0,227.0,240.0,215.0,216.0,256.0,211.0,216.0,235.0,177.0,176.0,177.0,189.0,232.0,181.0,184.0,245.0,192.0,233.0,214.0,227.0,170.0,224.0,269.0,234.0,231.0,226.0,231.0,226.0,227.0,237.0,272.0,210.0,216.0,254.0,201.0,230.0,263.0,213.0,262.0,187.0,291.0,216.0,207.0,216.0,213.0,218.0,219.0,219.0,219.0,219.0,219.0,222.0,245.0,238.0,241.0,199.0,195.0,248.0,212.0,240.0,232.0,254.0,286.0,200.0,224.0,242.0,281.0,258.0,205.0,209.0],\"coloraxis\":\"coloraxis\",\"size\":[2076.0,2144.0,1960.0,2040.0,2006.0,1897.0,1662.0,1858.0,2056.0,1561.0,1300.0,1320.0,1894.0,1835.0,2132.0,1864.0,2138.0,1548.0,1923.0,2114.0,1755.0,1850.0,1630.0,1866.0,1957.0,1883.0,1396.0,1745.0,1670.0,1320.0,1280.0,1675.0,1670.0,1209.0,1260.0,1780.0,2003.0,2180.0,1278.0,1994.0,1781.0,1462.0,1968.0,1280.0,2007.0,1410.0,1692.0,1800.0,2170.0,1786.0,1744.0,1620.0,1960.0,1600.0,1320.0,1300.0,1620.0,1487.0,1472.0,1452.0,1993.0,1745.0,1472.0,1440.0,1457.0,1472.0,1300.0,1224.0,1995.0,1630.0,1260.0,1120.0,1414.0,1840.0,1719.0],\"sizemode\":\"area\",\"sizeref\":5.45,\"symbol\":\"circle\"},\"mode\":\"markers\",\"name\":\"\",\"orientation\":\"v\",\"showlegend\":false,\"x\":[38.666454,38.672756,38.70499,38.68635,38.64782,38.627674,38.68161,38.67406,38.69855,38.586155,38.5607,38.55983,38.7051,38.56346,38.632786,38.60262,38.61936,38.641003,38.631077,38.574486,38.673836,38.586243,38.658325,38.685482,38.700043,38.641403,38.561653,38.70027,38.66067,38.561283,38.561092,38.688805,38.67424,38.61891,38.66335,38.558304,38.67408,38.663136,38.629414,38.587074,38.61866,38.59965,38.612103,38.65709,38.61423,38.619858,38.58348,38.620174,38.61234,38.668167,38.687756,38.627796,38.705654,38.683983,38.56151,38.560184,38.62785,38.59934,38.61021,38.609627,38.621033,38.628387,38.627995,38.635464,38.632053,38.628323,38.627888,38.6311,38.577663,38.586456,38.59032,38.642284,38.66127,38.67686,38.64065],\"xaxis\":\"x\",\"y\":[-77.25653,-77.280815,-77.30489,-77.2995,-77.32716,-77.267975,-77.29389,-77.2714,-77.31131,-77.31562,-77.32566,-77.32698,-77.3035,-77.3244,-77.34047,-77.33975,-77.31122,-77.31278,-77.30803,-77.307175,-77.27328,-77.31208,-77.31395,-77.272,-77.32652,-77.3478,-77.32447,-77.21584,-77.31082,-77.32691,-77.32287,-77.32806,-77.32471,-77.280945,-77.369,-77.280235,-77.27147,-77.24313,-77.31772,-77.29251,-77.35589,-77.33351,-77.356636,-77.311516,-77.316574,-77.35305,-77.3147,-77.35304,-77.357895,-77.25826,-77.3109,-77.3171,-77.30363,-77.29989,-77.32503,-77.328285,-77.31656,-77.331726,-77.35638,-77.35601,-77.353546,-77.31458,-77.31827,-77.33726,-77.34003,-77.321686,-77.315575,-77.3154,-77.30471,-77.31478,-77.29961,-77.34954,-77.31408,-77.31417,-77.31403],\"yaxis\":\"y\",\"type\":\"scatter\"},{\"alignmentgroup\":\"True\",\"bingroup\":\"x\",\"hovertemplate\":\"latitude=%{x}<br>count=%{y}<extra></extra>\",\"legendgroup\":\"\",\"marker\":{\"color\":\"#0d0887\"},\"name\":\"\",\"offsetgroup\":\"\",\"opacity\":0.5,\"showlegend\":false,\"x\":[38.666454,38.672756,38.70499,38.68635,38.64782,38.627674,38.68161,38.67406,38.69855,38.586155,38.5607,38.55983,38.7051,38.56346,38.632786,38.60262,38.61936,38.641003,38.631077,38.574486,38.673836,38.586243,38.658325,38.685482,38.700043,38.641403,38.561653,38.70027,38.66067,38.561283,38.561092,38.688805,38.67424,38.61891,38.66335,38.558304,38.67408,38.663136,38.629414,38.587074,38.61866,38.59965,38.612103,38.65709,38.61423,38.619858,38.58348,38.620174,38.61234,38.668167,38.687756,38.627796,38.705654,38.683983,38.56151,38.560184,38.62785,38.59934,38.61021,38.609627,38.621033,38.628387,38.627995,38.635464,38.632053,38.628323,38.627888,38.6311,38.577663,38.586456,38.59032,38.642284,38.66127,38.67686,38.64065],\"xaxis\":\"x3\",\"yaxis\":\"y3\",\"type\":\"histogram\"},{\"alignmentgroup\":\"True\",\"boxpoints\":\"all\",\"customdata\":[[\"13138 Vineyard Way, Woodbridge, VA 22191\"],[\"2235 Sluice Channel Pl, Woodbridge, VA 22192\"],[\"11578 Hill Meade Ln, Woodbridge, VA 22192\"],[\"12308 Aztec Pl, Woodbridge, VA 22192\"],[\"14093 Fallbrook Ln, Woodbridge, VA 22193\"],[\"1862 Heather Glen Ct, Woodbridge, VA 22191\"],[\"12539 Basque Pl, Woodbridge, VA 22192\"],[\"12838 Tumbling Brook Ln, Woodbridge, VA 22192\"],[\"11800 Critton Cir, Woodbridge, VA 22192\"],[\"3434 Tuckahoe Ct, Dumfries, VA 22026\"],[\"2855 Banks Ct, Dumfries, VA 22026\"],[\"2707 Steele Ct, Dumfries, VA 22026\"],[\"3085 Bridgeton Ct, Woodbridge, VA 22192\"],[\"1531 Fort Sumter Ct, Dumfries, VA 22026\"],[\"14777 Darbydale Ave, Woodbridge, VA 22193\"],[\"16142 Henderson Ln, Dumfries, VA 22025\"],[\"15364 Bronco Way, Woodbridge, VA 22193\"],[\"14381 Berkshire Dr, Woodbridge, VA 22193\"],[\"14827 Anderson Ct, Woodbridge, VA 22193\"],[\"3138 Antrim Cir, Dumfries, VA 22026\"],[\"2089 Bowline Loop, Woodbridge, VA 22192\"],[\"16933 Toms River Loop, Dumfries, VA 22026\"],[\"3515 Belfry Ln, Woodbridge, VA 22192\"],[\"1900 Mariner Ln, Woodbridge, VA 22192\"],[\"11567 Bertram St, Woodbridge, VA 22192\"],[\"14486 Brentwood Ct, Woodbridge, VA 22193\"],[\"3033 Sigel Ct, Dumfries, VA 22026\"],[\"7830 Bellwether Ct, Lorton, VA 22079\"],[\"3329 Wyndale Ct, Woodbridge, VA 22192\"],[\"2436 Kilpatrick Pl, Dumfries, VA 22026\"],[\"1919 Fort Monroe Ct, Dumfries, VA 22026\"],[\"3844 Marquis Pl, Woodbridge, VA 22192\"],[\"12840 Bison Ct, Woodbridge, VA 22192\"],[\"15328 Gatehouse Ter, Woodbridge, VA 22191\"],[\"5206 Quince Ct, Woodbridge, VA 22193\"],[\"18173 Red Mulberry Rd, Dumfries, VA 22026\"],[\"12836 Tumbling Brook Ln, Woodbridge, VA 22192\"],[\"13399 Dogues Ter, Woodbridge, VA 22191\"],[\"14835 Cherrydale Dr, Woodbridge, VA 22193\"],[\"2628 Miranda Ct, Woodbridge, VA 22191\"],[\"5225 Spring Branch Blvd, Dumfries, VA 22025\"],[\"4260 Ashmere Cir, Dumfries, VA 22025\"],[\"15724 Lansdale Pl, Dumfries, VA 22025\"],[\"3443 Brookville Ln, Woodbridge, VA 22192\"],[\"15566 Traverser Ct, Woodbridge, VA 22193\"],[\"15359 Inlet Pl, Dumfries, VA 22025\"],[\"17028 Point Pleasant Ln, Dumfries, VA 22026\"],[\"15355 Inlet Pl, Dumfries, VA 22025\"],[\"5007 Seal Pl, Dumfries, VA 22025\"],[\"13105 Brookside Ct, Woodbridge, VA 22191\"],[\"12223 Allspice Ct, Woodbridge, VA 22192\"],[\"14881 Cherrydale Dr, Woodbridge, VA 22193\"],[\"3080 Bridgeton Ct, Woodbridge, VA 22192\"],[\"2931 Cambridge Dr, Woodbridge, VA 22192\"],[\"3005 Sigel Ct, Dumfries, VA 22026\"],[\"2542 Sedgewick Pl, Dumfries, VA 22026\"],[\"3457 Castle Hill Dr, Woodbridge, VA 22193\"],[\"4196 Ashmere Cir, Dumfries, VA 22025\"],[\"4905 Backwater Ct, Dumfries, VA 22025\"],[\"4901 Saltwater Dr, Dumfries, VA 22025\"],[\"15333 Inlet Pl, Dumfries, VA 22025\"],[\"15023 Catalpa Ct, Woodbridge, VA 22193\"],[\"3519 Castle Hill Dr, Woodbridge, VA 22193\"],[\"14625 Endsley Turn, Woodbridge, VA 22193\"],[\"14806 Emberdale Dr, Woodbridge, VA 22193\"],[\"15001 Cardin Pl, Woodbridge, VA 22193\"],[\"15068 Catbrier Ct, Woodbridge, VA 22193\"],[\"3458 Beale Ct, Woodbridge, VA 22193\"],[\"17250 Garcia Way, Dumfries, VA 22026\"],[\"3433 Belleplain Ct, Dumfries, VA 22026\"],[\"2906 Wetherburn Ct, Woodbridge, VA 22191\"],[\"4667 Prather Pl, Woodbridge, VA 22193\"],[\"3467 Vale Ct, Woodbridge, VA 22192\"],[\"12682 Perchance Ter, Woodbridge, VA 22192\"],[\"14404 Belvedere Dr, Woodbridge, VA 22193\"]],\"fillcolor\":\"rgba(255,255,255,0)\",\"hoveron\":\"points\",\"hovertemplate\":\"longitude=%{y}<br>address=%{customdata[0]}<extra></extra>\",\"jitter\":0,\"legendgroup\":\"\",\"line\":{\"color\":\"rgba(255,255,255,0)\"},\"marker\":{\"color\":\"#0d0887\",\"symbol\":\"line-ew-open\"},\"name\":\"\",\"offsetgroup\":\"\",\"showlegend\":false,\"xaxis\":\"x2\",\"y\":[-77.25653,-77.280815,-77.30489,-77.2995,-77.32716,-77.267975,-77.29389,-77.2714,-77.31131,-77.31562,-77.32566,-77.32698,-77.3035,-77.3244,-77.34047,-77.33975,-77.31122,-77.31278,-77.30803,-77.307175,-77.27328,-77.31208,-77.31395,-77.272,-77.32652,-77.3478,-77.32447,-77.21584,-77.31082,-77.32691,-77.32287,-77.32806,-77.32471,-77.280945,-77.369,-77.280235,-77.27147,-77.24313,-77.31772,-77.29251,-77.35589,-77.33351,-77.356636,-77.311516,-77.316574,-77.35305,-77.3147,-77.35304,-77.357895,-77.25826,-77.3109,-77.3171,-77.30363,-77.29989,-77.32503,-77.328285,-77.31656,-77.331726,-77.35638,-77.35601,-77.353546,-77.31458,-77.31827,-77.33726,-77.34003,-77.321686,-77.315575,-77.3154,-77.30471,-77.31478,-77.29961,-77.34954,-77.31408,-77.31417,-77.31403],\"yaxis\":\"y2\",\"type\":\"box\"}],                        {\"template\":{\"data\":{\"bar\":[{\"error_x\":{\"color\":\"#2a3f5f\"},\"error_y\":{\"color\":\"#2a3f5f\"},\"marker\":{\"line\":{\"color\":\"#E5ECF6\",\"width\":0.5},\"pattern\":{\"fillmode\":\"overlay\",\"size\":10,\"solidity\":0.2}},\"type\":\"bar\"}],\"barpolar\":[{\"marker\":{\"line\":{\"color\":\"#E5ECF6\",\"width\":0.5},\"pattern\":{\"fillmode\":\"overlay\",\"size\":10,\"solidity\":0.2}},\"type\":\"barpolar\"}],\"carpet\":[{\"aaxis\":{\"endlinecolor\":\"#2a3f5f\",\"gridcolor\":\"white\",\"linecolor\":\"white\",\"minorgridcolor\":\"white\",\"startlinecolor\":\"#2a3f5f\"},\"baxis\":{\"endlinecolor\":\"#2a3f5f\",\"gridcolor\":\"white\",\"linecolor\":\"white\",\"minorgridcolor\":\"white\",\"startlinecolor\":\"#2a3f5f\"},\"type\":\"carpet\"}],\"choropleth\":[{\"colorbar\":{\"outlinewidth\":0,\"ticks\":\"\"},\"type\":\"choropleth\"}],\"contour\":[{\"colorbar\":{\"outlinewidth\":0,\"ticks\":\"\"},\"colorscale\":[[0.0,\"#0d0887\"],[0.1111111111111111,\"#46039f\"],[0.2222222222222222,\"#7201a8\"],[0.3333333333333333,\"#9c179e\"],[0.4444444444444444,\"#bd3786\"],[0.5555555555555556,\"#d8576b\"],[0.6666666666666666,\"#ed7953\"],[0.7777777777777778,\"#fb9f3a\"],[0.8888888888888888,\"#fdca26\"],[1.0,\"#f0f921\"]],\"type\":\"contour\"}],\"contourcarpet\":[{\"colorbar\":{\"outlinewidth\":0,\"ticks\":\"\"},\"type\":\"contourcarpet\"}],\"heatmap\":[{\"colorbar\":{\"outlinewidth\":0,\"ticks\":\"\"},\"colorscale\":[[0.0,\"#0d0887\"],[0.1111111111111111,\"#46039f\"],[0.2222222222222222,\"#7201a8\"],[0.3333333333333333,\"#9c179e\"],[0.4444444444444444,\"#bd3786\"],[0.5555555555555556,\"#d8576b\"],[0.6666666666666666,\"#ed7953\"],[0.7777777777777778,\"#fb9f3a\"],[0.8888888888888888,\"#fdca26\"],[1.0,\"#f0f921\"]],\"type\":\"heatmap\"}],\"heatmapgl\":[{\"colorbar\":{\"outlinewidth\":0,\"ticks\":\"\"},\"colorscale\":[[0.0,\"#0d0887\"],[0.1111111111111111,\"#46039f\"],[0.2222222222222222,\"#7201a8\"],[0.3333333333333333,\"#9c179e\"],[0.4444444444444444,\"#bd3786\"],[0.5555555555555556,\"#d8576b\"],[0.6666666666666666,\"#ed7953\"],[0.7777777777777778,\"#fb9f3a\"],[0.8888888888888888,\"#fdca26\"],[1.0,\"#f0f921\"]],\"type\":\"heatmapgl\"}],\"histogram\":[{\"marker\":{\"pattern\":{\"fillmode\":\"overlay\",\"size\":10,\"solidity\":0.2}},\"type\":\"histogram\"}],\"histogram2d\":[{\"colorbar\":{\"outlinewidth\":0,\"ticks\":\"\"},\"colorscale\":[[0.0,\"#0d0887\"],[0.1111111111111111,\"#46039f\"],[0.2222222222222222,\"#7201a8\"],[0.3333333333333333,\"#9c179e\"],[0.4444444444444444,\"#bd3786\"],[0.5555555555555556,\"#d8576b\"],[0.6666666666666666,\"#ed7953\"],[0.7777777777777778,\"#fb9f3a\"],[0.8888888888888888,\"#fdca26\"],[1.0,\"#f0f921\"]],\"type\":\"histogram2d\"}],\"histogram2dcontour\":[{\"colorbar\":{\"outlinewidth\":0,\"ticks\":\"\"},\"colorscale\":[[0.0,\"#0d0887\"],[0.1111111111111111,\"#46039f\"],[0.2222222222222222,\"#7201a8\"],[0.3333333333333333,\"#9c179e\"],[0.4444444444444444,\"#bd3786\"],[0.5555555555555556,\"#d8576b\"],[0.6666666666666666,\"#ed7953\"],[0.7777777777777778,\"#fb9f3a\"],[0.8888888888888888,\"#fdca26\"],[1.0,\"#f0f921\"]],\"type\":\"histogram2dcontour\"}],\"mesh3d\":[{\"colorbar\":{\"outlinewidth\":0,\"ticks\":\"\"},\"type\":\"mesh3d\"}],\"parcoords\":[{\"line\":{\"colorbar\":{\"outlinewidth\":0,\"ticks\":\"\"}},\"type\":\"parcoords\"}],\"pie\":[{\"automargin\":true,\"type\":\"pie\"}],\"scatter\":[{\"marker\":{\"colorbar\":{\"outlinewidth\":0,\"ticks\":\"\"}},\"type\":\"scatter\"}],\"scatter3d\":[{\"line\":{\"colorbar\":{\"outlinewidth\":0,\"ticks\":\"\"}},\"marker\":{\"colorbar\":{\"outlinewidth\":0,\"ticks\":\"\"}},\"type\":\"scatter3d\"}],\"scattercarpet\":[{\"marker\":{\"colorbar\":{\"outlinewidth\":0,\"ticks\":\"\"}},\"type\":\"scattercarpet\"}],\"scattergeo\":[{\"marker\":{\"colorbar\":{\"outlinewidth\":0,\"ticks\":\"\"}},\"type\":\"scattergeo\"}],\"scattergl\":[{\"marker\":{\"colorbar\":{\"outlinewidth\":0,\"ticks\":\"\"}},\"type\":\"scattergl\"}],\"scattermapbox\":[{\"marker\":{\"colorbar\":{\"outlinewidth\":0,\"ticks\":\"\"}},\"type\":\"scattermapbox\"}],\"scatterpolar\":[{\"marker\":{\"colorbar\":{\"outlinewidth\":0,\"ticks\":\"\"}},\"type\":\"scatterpolar\"}],\"scatterpolargl\":[{\"marker\":{\"colorbar\":{\"outlinewidth\":0,\"ticks\":\"\"}},\"type\":\"scatterpolargl\"}],\"scatterternary\":[{\"marker\":{\"colorbar\":{\"outlinewidth\":0,\"ticks\":\"\"}},\"type\":\"scatterternary\"}],\"surface\":[{\"colorbar\":{\"outlinewidth\":0,\"ticks\":\"\"},\"colorscale\":[[0.0,\"#0d0887\"],[0.1111111111111111,\"#46039f\"],[0.2222222222222222,\"#7201a8\"],[0.3333333333333333,\"#9c179e\"],[0.4444444444444444,\"#bd3786\"],[0.5555555555555556,\"#d8576b\"],[0.6666666666666666,\"#ed7953\"],[0.7777777777777778,\"#fb9f3a\"],[0.8888888888888888,\"#fdca26\"],[1.0,\"#f0f921\"]],\"type\":\"surface\"}],\"table\":[{\"cells\":{\"fill\":{\"color\":\"#EBF0F8\"},\"line\":{\"color\":\"white\"}},\"header\":{\"fill\":{\"color\":\"#C8D4E3\"},\"line\":{\"color\":\"white\"}},\"type\":\"table\"}]},\"layout\":{\"annotationdefaults\":{\"arrowcolor\":\"#2a3f5f\",\"arrowhead\":0,\"arrowwidth\":1},\"autotypenumbers\":\"strict\",\"coloraxis\":{\"colorbar\":{\"outlinewidth\":0,\"ticks\":\"\"}},\"colorscale\":{\"diverging\":[[0,\"#8e0152\"],[0.1,\"#c51b7d\"],[0.2,\"#de77ae\"],[0.3,\"#f1b6da\"],[0.4,\"#fde0ef\"],[0.5,\"#f7f7f7\"],[0.6,\"#e6f5d0\"],[0.7,\"#b8e186\"],[0.8,\"#7fbc41\"],[0.9,\"#4d9221\"],[1,\"#276419\"]],\"sequential\":[[0.0,\"#0d0887\"],[0.1111111111111111,\"#46039f\"],[0.2222222222222222,\"#7201a8\"],[0.3333333333333333,\"#9c179e\"],[0.4444444444444444,\"#bd3786\"],[0.5555555555555556,\"#d8576b\"],[0.6666666666666666,\"#ed7953\"],[0.7777777777777778,\"#fb9f3a\"],[0.8888888888888888,\"#fdca26\"],[1.0,\"#f0f921\"]],\"sequentialminus\":[[0.0,\"#0d0887\"],[0.1111111111111111,\"#46039f\"],[0.2222222222222222,\"#7201a8\"],[0.3333333333333333,\"#9c179e\"],[0.4444444444444444,\"#bd3786\"],[0.5555555555555556,\"#d8576b\"],[0.6666666666666666,\"#ed7953\"],[0.7777777777777778,\"#fb9f3a\"],[0.8888888888888888,\"#fdca26\"],[1.0,\"#f0f921\"]]},\"colorway\":[\"#636efa\",\"#EF553B\",\"#00cc96\",\"#ab63fa\",\"#FFA15A\",\"#19d3f3\",\"#FF6692\",\"#B6E880\",\"#FF97FF\",\"#FECB52\"],\"font\":{\"color\":\"#2a3f5f\"},\"geo\":{\"bgcolor\":\"white\",\"lakecolor\":\"white\",\"landcolor\":\"#E5ECF6\",\"showlakes\":true,\"showland\":true,\"subunitcolor\":\"white\"},\"hoverlabel\":{\"align\":\"left\"},\"hovermode\":\"closest\",\"mapbox\":{\"style\":\"light\"},\"paper_bgcolor\":\"white\",\"plot_bgcolor\":\"#E5ECF6\",\"polar\":{\"angularaxis\":{\"gridcolor\":\"white\",\"linecolor\":\"white\",\"ticks\":\"\"},\"bgcolor\":\"#E5ECF6\",\"radialaxis\":{\"gridcolor\":\"white\",\"linecolor\":\"white\",\"ticks\":\"\"}},\"scene\":{\"xaxis\":{\"backgroundcolor\":\"#E5ECF6\",\"gridcolor\":\"white\",\"gridwidth\":2,\"linecolor\":\"white\",\"showbackground\":true,\"ticks\":\"\",\"zerolinecolor\":\"white\"},\"yaxis\":{\"backgroundcolor\":\"#E5ECF6\",\"gridcolor\":\"white\",\"gridwidth\":2,\"linecolor\":\"white\",\"showbackground\":true,\"ticks\":\"\",\"zerolinecolor\":\"white\"},\"zaxis\":{\"backgroundcolor\":\"#E5ECF6\",\"gridcolor\":\"white\",\"gridwidth\":2,\"linecolor\":\"white\",\"showbackground\":true,\"ticks\":\"\",\"zerolinecolor\":\"white\"}},\"shapedefaults\":{\"line\":{\"color\":\"#2a3f5f\"}},\"ternary\":{\"aaxis\":{\"gridcolor\":\"white\",\"linecolor\":\"white\",\"ticks\":\"\"},\"baxis\":{\"gridcolor\":\"white\",\"linecolor\":\"white\",\"ticks\":\"\"},\"bgcolor\":\"#E5ECF6\",\"caxis\":{\"gridcolor\":\"white\",\"linecolor\":\"white\",\"ticks\":\"\"}},\"title\":{\"x\":0.05},\"xaxis\":{\"automargin\":true,\"gridcolor\":\"white\",\"linecolor\":\"white\",\"ticks\":\"\",\"title\":{\"standoff\":15},\"zerolinecolor\":\"white\",\"zerolinewidth\":2},\"yaxis\":{\"automargin\":true,\"gridcolor\":\"white\",\"linecolor\":\"white\",\"ticks\":\"\",\"title\":{\"standoff\":15},\"zerolinecolor\":\"white\",\"zerolinewidth\":2}}},\"xaxis\":{\"anchor\":\"y\",\"domain\":[0.0,0.7363],\"title\":{\"text\":\"latitude\"}},\"yaxis\":{\"anchor\":\"x\",\"domain\":[0.0,0.7326],\"title\":{\"text\":\"longitude\"}},\"xaxis2\":{\"anchor\":\"y2\",\"domain\":[0.7413,1.0],\"matches\":\"x2\",\"showticklabels\":false,\"showline\":false,\"ticks\":\"\",\"showgrid\":false},\"yaxis2\":{\"anchor\":\"x2\",\"domain\":[0.0,0.7326],\"matches\":\"y\",\"showticklabels\":false,\"showgrid\":true},\"xaxis3\":{\"anchor\":\"y3\",\"domain\":[0.0,0.7363],\"matches\":\"x\",\"showticklabels\":false,\"showgrid\":true},\"yaxis3\":{\"anchor\":\"x3\",\"domain\":[0.7426,1.0],\"matches\":\"y3\",\"showticklabels\":false,\"showline\":false,\"ticks\":\"\",\"showgrid\":true},\"xaxis4\":{\"anchor\":\"y4\",\"domain\":[0.7413,1.0],\"matches\":\"x2\",\"showticklabels\":false,\"showgrid\":false,\"showline\":false,\"ticks\":\"\"},\"yaxis4\":{\"anchor\":\"x4\",\"domain\":[0.7426,1.0],\"matches\":\"y3\",\"showticklabels\":false,\"showline\":false,\"ticks\":\"\",\"showgrid\":true},\"coloraxis\":{\"colorbar\":{\"title\":{\"text\":\"pricePerSqFt\"}},\"colorscale\":[[0.0,\"#0d0887\"],[0.1111111111111111,\"#46039f\"],[0.2222222222222222,\"#7201a8\"],[0.3333333333333333,\"#9c179e\"],[0.4444444444444444,\"#bd3786\"],[0.5555555555555556,\"#d8576b\"],[0.6666666666666666,\"#ed7953\"],[0.7777777777777778,\"#fb9f3a\"],[0.8888888888888888,\"#fdca26\"],[1.0,\"#f0f921\"]]},\"legend\":{\"tracegroupgap\":0,\"itemsizing\":\"constant\"},\"margin\":{\"t\":60},\"barmode\":\"overlay\"},                        {\"responsive\": true}                    ).then(function(){\n",
       "                            \n",
       "var gd = document.getElementById('b8c8583e-35a9-4681-8fa9-0e22d99eb099');\n",
       "var x = new MutationObserver(function (mutations, observer) {{\n",
       "        var display = window.getComputedStyle(gd).display;\n",
       "        if (!display || display === 'none') {{\n",
       "            console.log([gd, 'removed!']);\n",
       "            Plotly.purge(gd);\n",
       "            observer.disconnect();\n",
       "        }}\n",
       "}});\n",
       "\n",
       "// Listen for the removal of the full notebook cells\n",
       "var notebookContainer = gd.closest('#notebook-container');\n",
       "if (notebookContainer) {{\n",
       "    x.observe(notebookContainer, {childList: true});\n",
       "}}\n",
       "\n",
       "// Listen for the clearing of the current output cell\n",
       "var outputEl = gd.closest('.output');\n",
       "if (outputEl) {{\n",
       "    x.observe(outputEl, {childList: true});\n",
       "}}\n",
       "\n",
       "                        })                };                });            </script>        </div>"
      ]
     },
     "metadata": {},
     "output_type": "display_data"
    }
   ],
   "source": [
    "#plot all lat longs of for sale homes, on scatter, color by type of home status\n",
    "fig = px.scatter(df , x='latitude', y='longitude', size= 'area',color = 'pricePerSqFt', marginal_x=\"histogram\", marginal_y=\"rug\", hover_data=['address'])\n",
    "fig.show()"
   ]
  },
  {
   "cell_type": "code",
   "execution_count": 49,
   "id": "4ff64d73",
   "metadata": {},
   "outputs": [
    {
     "data": {
      "application/vnd.plotly.v1+json": {
       "config": {
        "plotlyServerURL": "https://plot.ly"
       },
       "data": [
        {
         "customdata": [
          [
           "13138 Vineyard Way, Woodbridge, VA 22191",
           356900,
           172,
           2076,
           1542,
           3,
           3
          ],
          [
           "2235 Sluice Channel Pl, Woodbridge, VA 22192",
           449900,
           210,
           2144,
           1673,
           4,
           4
          ],
          [
           "11578 Hill Meade Ln, Woodbridge, VA 22192",
           475000,
           242,
           1960,
           1599,
           3,
           4
          ],
          [
           "12308 Aztec Pl, Woodbridge, VA 22192",
           455000,
           223,
           2040,
           1599,
           3,
           3
          ],
          [
           "14093 Fallbrook Ln, Woodbridge, VA 22193",
           329900,
           164,
           2006,
           1773,
           3,
           4
          ],
          [
           "1862 Heather Glen Ct, Woodbridge, VA 22191",
           430000,
           227,
           1897,
           1398,
           4,
           4
          ],
          [
           "12539 Basque Pl, Woodbridge, VA 22192",
           399499,
           240,
           1662,
           3202,
           3,
           3
          ],
          [
           "12838 Tumbling Brook Ln, Woodbridge, VA 22192",
           400000,
           215,
           1858,
           1877,
           3,
           4
          ],
          [
           "11800 Critton Cir, Woodbridge, VA 22192",
           445000,
           216,
           2056,
           2330,
           3,
           4
          ],
          [
           "3434 Tuckahoe Ct, Dumfries, VA 22026",
           399000,
           256,
           1561,
           1599,
           3,
           4
          ],
          [
           "2855 Banks Ct, Dumfries, VA 22026",
           273999,
           211,
           1300,
           1398,
           3,
           3
          ],
          [
           "2707 Steele Ct, Dumfries, VA 22026",
           285000,
           216,
           1320,
           1398,
           3,
           3
          ],
          [
           "3085 Bridgeton Ct, Woodbridge, VA 22192",
           445000,
           235,
           1894,
           1599,
           3,
           3
          ],
          [
           "1531 Fort Sumter Ct, Dumfries, VA 22026",
           324800,
           177,
           1835,
           1398,
           4,
           4
          ],
          [
           "14777 Darbydale Ave, Woodbridge, VA 22193",
           375990,
           176,
           2132,
           2444,
           3,
           4
          ],
          [
           "16142 Henderson Ln, Dumfries, VA 22025",
           330000,
           177,
           1864,
           1420,
           3,
           3
          ],
          [
           "15364 Bronco Way, Woodbridge, VA 22193",
           405000,
           189,
           2138,
           1642,
           4,
           4
          ],
          [
           "14381 Berkshire Dr, Woodbridge, VA 22193",
           359000,
           232,
           1548,
           1420,
           4,
           2
          ],
          [
           "14827 Anderson Ct, Woodbridge, VA 22193",
           349000,
           181,
           1923,
           1498,
           3,
           2
          ],
          [
           "3138 Antrim Cir, Dumfries, VA 22026",
           389900,
           184,
           2114,
           2400,
           3,
           4
          ],
          [
           "2089 Bowline Loop, Woodbridge, VA 22192",
           429900,
           245,
           1755,
           2313,
           3,
           4
          ],
          [
           "16933 Toms River Loop, Dumfries, VA 22026",
           355000,
           192,
           1850,
           1599,
           3,
           4
          ],
          [
           "3515 Belfry Ln, Woodbridge, VA 22192",
           380000,
           233,
           1630,
           1298,
           3,
           3
          ],
          [
           "1900 Mariner Ln, Woodbridge, VA 22192",
           399900,
           214,
           1866,
           2448,
           3,
           4
          ],
          [
           "11567 Bertram St, Woodbridge, VA 22192",
           445000,
           227,
           1957,
           1638,
           4,
           4
          ],
          [
           "14486 Brentwood Ct, Woodbridge, VA 22193",
           320000,
           170,
           1883,
           1307,
           3,
           2
          ],
          [
           "3033 Sigel Ct, Dumfries, VA 22026",
           312200,
           224,
           1396,
           2169,
           4,
           3
          ],
          [
           "7830 Bellwether Ct, Lorton, VA 22079",
           470000,
           269,
           1745,
           1520,
           3,
           4
          ],
          [
           "3329 Wyndale Ct, Woodbridge, VA 22192",
           390000,
           234,
           1670,
           2474,
           5,
           3
          ],
          [
           "2436 Kilpatrick Pl, Dumfries, VA 22026",
           305000,
           231,
           1320,
           1477,
           3,
           3
          ],
          [
           "1919 Fort Monroe Ct, Dumfries, VA 22026",
           289000,
           226,
           1280,
           2169,
           3,
           2
          ],
          [
           "3844 Marquis Pl, Woodbridge, VA 22192",
           387000,
           231,
           1675,
           1441,
           3,
           3
          ],
          [
           "12840 Bison Ct, Woodbridge, VA 22192",
           377900,
           226,
           1670,
           1498,
           3,
           4
          ],
          [
           "15328 Gatehouse Ter, Woodbridge, VA 22191",
           275000,
           227,
           1209,
           1281,
           2,
           2
          ],
          [
           "5206 Quince Ct, Woodbridge, VA 22193",
           299000,
           237,
           1260,
           1599,
           3,
           3
          ],
          [
           "18173 Red Mulberry Rd, Dumfries, VA 22026",
           485000,
           272,
           1780,
           1890,
           3,
           4
          ],
          [
           "12836 Tumbling Brook Ln, Woodbridge, VA 22192",
           419900,
           210,
           2003,
           1751,
           3,
           4
          ],
          [
           "13399 Dogues Ter, Woodbridge, VA 22191",
           470000,
           216,
           2180,
           1599,
           3,
           4
          ],
          [
           "14835 Cherrydale Dr, Woodbridge, VA 22193",
           325000,
           254,
           1278,
           1442,
           3,
           3
          ],
          [
           "2628 Miranda Ct, Woodbridge, VA 22191",
           399990,
           201,
           1994,
           1559,
           3,
           4
          ],
          [
           "5225 Spring Branch Blvd, Dumfries, VA 22025",
           408777,
           230,
           1781,
           1498,
           4,
           4
          ],
          [
           "4260 Ashmere Cir, Dumfries, VA 22025",
           385000,
           263,
           1462,
           1176,
           3,
           3
          ],
          [
           "15724 Lansdale Pl, Dumfries, VA 22025",
           420000,
           213,
           1968,
           1498,
           4,
           4
          ],
          [
           "3443 Brookville Ln, Woodbridge, VA 22192",
           335000,
           262,
           1280,
           1298,
           3,
           2
          ],
          [
           "15566 Traverser Ct, Woodbridge, VA 22193",
           375000,
           187,
           2007,
           1442,
           3,
           4
          ],
          [
           "15359 Inlet Pl, Dumfries, VA 22025",
           409900,
           291,
           1410,
           2727,
           4,
           4
          ],
          [
           "17028 Point Pleasant Ln, Dumfries, VA 22026",
           365000,
           216,
           1692,
           1599,
           3,
           4
          ],
          [
           "15355 Inlet Pl, Dumfries, VA 22025",
           373000,
           207,
           1800,
           1398,
           3,
           3
          ],
          [
           "5007 Seal Pl, Dumfries, VA 22025",
           469000,
           216,
           2170,
           1616,
           3,
           4
          ],
          [
           "13105 Brookside Ct, Woodbridge, VA 22191",
           379900,
           213,
           1786,
           1363,
           3,
           3
          ],
          [
           "12223 Allspice Ct, Woodbridge, VA 22192",
           379900,
           218,
           1744,
           1542,
           3,
           4
          ],
          [
           "14881 Cherrydale Dr, Woodbridge, VA 22193",
           355000,
           219,
           1620,
           1350,
           4,
           4
          ],
          [
           "3080 Bridgeton Ct, Woodbridge, VA 22192",
           430000,
           219,
           1960,
           1599,
           3,
           3
          ],
          [
           "2931 Cambridge Dr, Woodbridge, VA 22192",
           349900,
           219,
           1600,
           1590,
           3,
           4
          ],
          [
           "3005 Sigel Ct, Dumfries, VA 22026",
           289500,
           219,
           1320,
           1306.8,
           3,
           3
          ],
          [
           "2542 Sedgewick Pl, Dumfries, VA 22026",
           284999,
           219,
           1300,
           1398,
           3,
           3
          ],
          [
           "3457 Castle Hill Dr, Woodbridge, VA 22193",
           360000,
           222,
           1620,
           1350,
           3,
           4
          ],
          [
           "4196 Ashmere Cir, Dumfries, VA 22025",
           365000,
           245,
           1487,
           1215,
           3,
           3
          ],
          [
           "4905 Backwater Ct, Dumfries, VA 22025",
           350000,
           238,
           1472,
           2326,
           3,
           3
          ],
          [
           "4901 Saltwater Dr, Dumfries, VA 22025",
           350000,
           241,
           1452,
           1298,
           3,
           3
          ],
          [
           "15333 Inlet Pl, Dumfries, VA 22025",
           395977,
           199,
           1993,
           1498,
           4,
           4
          ],
          [
           "15023 Catalpa Ct, Woodbridge, VA 22193",
           339900,
           195,
           1745,
           1599,
           3,
           4
          ],
          [
           "3519 Castle Hill Dr, Woodbridge, VA 22193",
           365000,
           248,
           1472,
           2426,
           3,
           3
          ],
          [
           "14625 Endsley Turn, Woodbridge, VA 22193",
           305000,
           212,
           1440,
           2400,
           3,
           3
          ],
          [
           "14806 Emberdale Dr, Woodbridge, VA 22193",
           349990,
           240,
           1457,
           2522,
           3,
           3
          ],
          [
           "15001 Cardin Pl, Woodbridge, VA 22193",
           341900,
           232,
           1472,
           2274,
           3,
           3
          ],
          [
           "15068 Catbrier Ct, Woodbridge, VA 22193",
           329900,
           254,
           1300,
           1599,
           3,
           3
          ],
          [
           "3458 Beale Ct, Woodbridge, VA 22193",
           349900,
           286,
           1224,
           1316,
           3,
           2
          ],
          [
           "17250 Garcia Way, Dumfries, VA 22026",
           399900,
           200,
           1995,
           2640,
           4,
           4
          ],
          [
           "3433 Belleplain Ct, Dumfries, VA 22026",
           365000,
           224,
           1630,
           2601,
           3,
           4
          ],
          [
           "2906 Wetherburn Ct, Woodbridge, VA 22191",
           305000,
           242,
           1260,
           1481,
           3,
           2
          ],
          [
           "4667 Prather Pl, Woodbridge, VA 22193",
           315000,
           281,
           1120,
           1599,
           3,
           2
          ],
          [
           "3467 Vale Ct, Woodbridge, VA 22192",
           365000,
           258,
           1414,
           2483,
           3,
           3
          ],
          [
           "12682 Perchance Ter, Woodbridge, VA 22192",
           377000,
           205,
           1840,
           1599,
           2,
           3
          ],
          [
           "14404 Belvedere Dr, Woodbridge, VA 22193",
           359900,
           209,
           1719,
           1529,
           4,
           2
          ]
         ],
         "hovertemplate": "<b>%{hovertext}</b><br><br>pricePerSqFt=%{marker.color}<br>latitude=%{lat}<br>longitude=%{lon}<br>address=%{customdata[0]}<br>price=%{customdata[1]}<br>area=%{customdata[3]}<br>lotSize=%{customdata[4]}<br>beds=%{customdata[5]}<br>baths=%{customdata[6]}<extra></extra>",
         "hovertext": [
          "13138 Vineyard Way, Woodbridge, VA 22191",
          "2235 Sluice Channel Pl, Woodbridge, VA 22192",
          "11578 Hill Meade Ln, Woodbridge, VA 22192",
          "12308 Aztec Pl, Woodbridge, VA 22192",
          "14093 Fallbrook Ln, Woodbridge, VA 22193",
          "1862 Heather Glen Ct, Woodbridge, VA 22191",
          "12539 Basque Pl, Woodbridge, VA 22192",
          "12838 Tumbling Brook Ln, Woodbridge, VA 22192",
          "11800 Critton Cir, Woodbridge, VA 22192",
          "3434 Tuckahoe Ct, Dumfries, VA 22026",
          "2855 Banks Ct, Dumfries, VA 22026",
          "2707 Steele Ct, Dumfries, VA 22026",
          "3085 Bridgeton Ct, Woodbridge, VA 22192",
          "1531 Fort Sumter Ct, Dumfries, VA 22026",
          "14777 Darbydale Ave, Woodbridge, VA 22193",
          "16142 Henderson Ln, Dumfries, VA 22025",
          "15364 Bronco Way, Woodbridge, VA 22193",
          "14381 Berkshire Dr, Woodbridge, VA 22193",
          "14827 Anderson Ct, Woodbridge, VA 22193",
          "3138 Antrim Cir, Dumfries, VA 22026",
          "2089 Bowline Loop, Woodbridge, VA 22192",
          "16933 Toms River Loop, Dumfries, VA 22026",
          "3515 Belfry Ln, Woodbridge, VA 22192",
          "1900 Mariner Ln, Woodbridge, VA 22192",
          "11567 Bertram St, Woodbridge, VA 22192",
          "14486 Brentwood Ct, Woodbridge, VA 22193",
          "3033 Sigel Ct, Dumfries, VA 22026",
          "7830 Bellwether Ct, Lorton, VA 22079",
          "3329 Wyndale Ct, Woodbridge, VA 22192",
          "2436 Kilpatrick Pl, Dumfries, VA 22026",
          "1919 Fort Monroe Ct, Dumfries, VA 22026",
          "3844 Marquis Pl, Woodbridge, VA 22192",
          "12840 Bison Ct, Woodbridge, VA 22192",
          "15328 Gatehouse Ter, Woodbridge, VA 22191",
          "5206 Quince Ct, Woodbridge, VA 22193",
          "18173 Red Mulberry Rd, Dumfries, VA 22026",
          "12836 Tumbling Brook Ln, Woodbridge, VA 22192",
          "13399 Dogues Ter, Woodbridge, VA 22191",
          "14835 Cherrydale Dr, Woodbridge, VA 22193",
          "2628 Miranda Ct, Woodbridge, VA 22191",
          "5225 Spring Branch Blvd, Dumfries, VA 22025",
          "4260 Ashmere Cir, Dumfries, VA 22025",
          "15724 Lansdale Pl, Dumfries, VA 22025",
          "3443 Brookville Ln, Woodbridge, VA 22192",
          "15566 Traverser Ct, Woodbridge, VA 22193",
          "15359 Inlet Pl, Dumfries, VA 22025",
          "17028 Point Pleasant Ln, Dumfries, VA 22026",
          "15355 Inlet Pl, Dumfries, VA 22025",
          "5007 Seal Pl, Dumfries, VA 22025",
          "13105 Brookside Ct, Woodbridge, VA 22191",
          "12223 Allspice Ct, Woodbridge, VA 22192",
          "14881 Cherrydale Dr, Woodbridge, VA 22193",
          "3080 Bridgeton Ct, Woodbridge, VA 22192",
          "2931 Cambridge Dr, Woodbridge, VA 22192",
          "3005 Sigel Ct, Dumfries, VA 22026",
          "2542 Sedgewick Pl, Dumfries, VA 22026",
          "3457 Castle Hill Dr, Woodbridge, VA 22193",
          "4196 Ashmere Cir, Dumfries, VA 22025",
          "4905 Backwater Ct, Dumfries, VA 22025",
          "4901 Saltwater Dr, Dumfries, VA 22025",
          "15333 Inlet Pl, Dumfries, VA 22025",
          "15023 Catalpa Ct, Woodbridge, VA 22193",
          "3519 Castle Hill Dr, Woodbridge, VA 22193",
          "14625 Endsley Turn, Woodbridge, VA 22193",
          "14806 Emberdale Dr, Woodbridge, VA 22193",
          "15001 Cardin Pl, Woodbridge, VA 22193",
          "15068 Catbrier Ct, Woodbridge, VA 22193",
          "3458 Beale Ct, Woodbridge, VA 22193",
          "17250 Garcia Way, Dumfries, VA 22026",
          "3433 Belleplain Ct, Dumfries, VA 22026",
          "2906 Wetherburn Ct, Woodbridge, VA 22191",
          "4667 Prather Pl, Woodbridge, VA 22193",
          "3467 Vale Ct, Woodbridge, VA 22192",
          "12682 Perchance Ter, Woodbridge, VA 22192",
          "14404 Belvedere Dr, Woodbridge, VA 22193"
         ],
         "lat": [
          38.666454,
          38.672756,
          38.70499,
          38.68635,
          38.64782,
          38.627674,
          38.68161,
          38.67406,
          38.69855,
          38.586155,
          38.5607,
          38.55983,
          38.7051,
          38.56346,
          38.632786,
          38.60262,
          38.61936,
          38.641003,
          38.631077,
          38.574486,
          38.673836,
          38.586243,
          38.658325,
          38.685482,
          38.700043,
          38.641403,
          38.561653,
          38.70027,
          38.66067,
          38.561283,
          38.561092,
          38.688805,
          38.67424,
          38.61891,
          38.66335,
          38.558304,
          38.67408,
          38.663136,
          38.629414,
          38.587074,
          38.61866,
          38.59965,
          38.612103,
          38.65709,
          38.61423,
          38.619858,
          38.58348,
          38.620174,
          38.61234,
          38.668167,
          38.687756,
          38.627796,
          38.705654,
          38.683983,
          38.56151,
          38.560184,
          38.62785,
          38.59934,
          38.61021,
          38.609627,
          38.621033,
          38.628387,
          38.627995,
          38.635464,
          38.632053,
          38.628323,
          38.627888,
          38.6311,
          38.577663,
          38.586456,
          38.59032,
          38.642284,
          38.66127,
          38.67686,
          38.64065
         ],
         "legendgroup": "",
         "lon": [
          -77.25653,
          -77.280815,
          -77.30489,
          -77.2995,
          -77.32716,
          -77.267975,
          -77.29389,
          -77.2714,
          -77.31131,
          -77.31562,
          -77.32566,
          -77.32698,
          -77.3035,
          -77.3244,
          -77.34047,
          -77.33975,
          -77.31122,
          -77.31278,
          -77.30803,
          -77.307175,
          -77.27328,
          -77.31208,
          -77.31395,
          -77.272,
          -77.32652,
          -77.3478,
          -77.32447,
          -77.21584,
          -77.31082,
          -77.32691,
          -77.32287,
          -77.32806,
          -77.32471,
          -77.280945,
          -77.369,
          -77.280235,
          -77.27147,
          -77.24313,
          -77.31772,
          -77.29251,
          -77.35589,
          -77.33351,
          -77.356636,
          -77.311516,
          -77.316574,
          -77.35305,
          -77.3147,
          -77.35304,
          -77.357895,
          -77.25826,
          -77.3109,
          -77.3171,
          -77.30363,
          -77.29989,
          -77.32503,
          -77.328285,
          -77.31656,
          -77.331726,
          -77.35638,
          -77.35601,
          -77.353546,
          -77.31458,
          -77.31827,
          -77.33726,
          -77.34003,
          -77.321686,
          -77.315575,
          -77.3154,
          -77.30471,
          -77.31478,
          -77.29961,
          -77.34954,
          -77.31408,
          -77.31417,
          -77.31403
         ],
         "marker": {
          "color": [
           172,
           210,
           242,
           223,
           164,
           227,
           240,
           215,
           216,
           256,
           211,
           216,
           235,
           177,
           176,
           177,
           189,
           232,
           181,
           184,
           245,
           192,
           233,
           214,
           227,
           170,
           224,
           269,
           234,
           231,
           226,
           231,
           226,
           227,
           237,
           272,
           210,
           216,
           254,
           201,
           230,
           263,
           213,
           262,
           187,
           291,
           216,
           207,
           216,
           213,
           218,
           219,
           219,
           219,
           219,
           219,
           222,
           245,
           238,
           241,
           199,
           195,
           248,
           212,
           240,
           232,
           254,
           286,
           200,
           224,
           242,
           281,
           258,
           205,
           209
          ],
          "coloraxis": "coloraxis",
          "size": [
           172,
           210,
           242,
           223,
           164,
           227,
           240,
           215,
           216,
           256,
           211,
           216,
           235,
           177,
           176,
           177,
           189,
           232,
           181,
           184,
           245,
           192,
           233,
           214,
           227,
           170,
           224,
           269,
           234,
           231,
           226,
           231,
           226,
           227,
           237,
           272,
           210,
           216,
           254,
           201,
           230,
           263,
           213,
           262,
           187,
           291,
           216,
           207,
           216,
           213,
           218,
           219,
           219,
           219,
           219,
           219,
           222,
           245,
           238,
           241,
           199,
           195,
           248,
           212,
           240,
           232,
           254,
           286,
           200,
           224,
           242,
           281,
           258,
           205,
           209
          ],
          "sizemode": "area",
          "sizeref": 1.2933333333333332
         },
         "mode": "markers",
         "name": "",
         "showlegend": false,
         "subplot": "mapbox",
         "type": "scattermapbox"
        }
       ],
       "layout": {
        "coloraxis": {
         "colorbar": {
          "title": {
           "text": "pricePerSqFt"
          }
         },
         "colorscale": [
          [
           0,
           "#440154"
          ],
          [
           0.1111111111111111,
           "#482878"
          ],
          [
           0.2222222222222222,
           "#3e4989"
          ],
          [
           0.3333333333333333,
           "#31688e"
          ],
          [
           0.4444444444444444,
           "#26828e"
          ],
          [
           0.5555555555555556,
           "#1f9e89"
          ],
          [
           0.6666666666666666,
           "#35b779"
          ],
          [
           0.7777777777777778,
           "#6ece58"
          ],
          [
           0.8888888888888888,
           "#b5de2b"
          ],
          [
           1,
           "#fde725"
          ]
         ]
        },
        "height": 500,
        "legend": {
         "itemsizing": "constant",
         "tracegroupgap": 0
        },
        "mapbox": {
         "center": {
          "lat": 38.63162482666665,
          "lon": -77.31422965333336
         },
         "domain": {
          "x": [
           0,
           1
          ],
          "y": [
           0,
           1
          ]
         },
         "style": "open-street-map",
         "zoom": 10
        },
        "margin": {
         "b": 0,
         "l": 0,
         "r": 0,
         "t": 0
        },
        "template": {
         "data": {
          "bar": [
           {
            "error_x": {
             "color": "#2a3f5f"
            },
            "error_y": {
             "color": "#2a3f5f"
            },
            "marker": {
             "line": {
              "color": "#E5ECF6",
              "width": 0.5
             },
             "pattern": {
              "fillmode": "overlay",
              "size": 10,
              "solidity": 0.2
             }
            },
            "type": "bar"
           }
          ],
          "barpolar": [
           {
            "marker": {
             "line": {
              "color": "#E5ECF6",
              "width": 0.5
             },
             "pattern": {
              "fillmode": "overlay",
              "size": 10,
              "solidity": 0.2
             }
            },
            "type": "barpolar"
           }
          ],
          "carpet": [
           {
            "aaxis": {
             "endlinecolor": "#2a3f5f",
             "gridcolor": "white",
             "linecolor": "white",
             "minorgridcolor": "white",
             "startlinecolor": "#2a3f5f"
            },
            "baxis": {
             "endlinecolor": "#2a3f5f",
             "gridcolor": "white",
             "linecolor": "white",
             "minorgridcolor": "white",
             "startlinecolor": "#2a3f5f"
            },
            "type": "carpet"
           }
          ],
          "choropleth": [
           {
            "colorbar": {
             "outlinewidth": 0,
             "ticks": ""
            },
            "type": "choropleth"
           }
          ],
          "contour": [
           {
            "colorbar": {
             "outlinewidth": 0,
             "ticks": ""
            },
            "colorscale": [
             [
              0,
              "#0d0887"
             ],
             [
              0.1111111111111111,
              "#46039f"
             ],
             [
              0.2222222222222222,
              "#7201a8"
             ],
             [
              0.3333333333333333,
              "#9c179e"
             ],
             [
              0.4444444444444444,
              "#bd3786"
             ],
             [
              0.5555555555555556,
              "#d8576b"
             ],
             [
              0.6666666666666666,
              "#ed7953"
             ],
             [
              0.7777777777777778,
              "#fb9f3a"
             ],
             [
              0.8888888888888888,
              "#fdca26"
             ],
             [
              1,
              "#f0f921"
             ]
            ],
            "type": "contour"
           }
          ],
          "contourcarpet": [
           {
            "colorbar": {
             "outlinewidth": 0,
             "ticks": ""
            },
            "type": "contourcarpet"
           }
          ],
          "heatmap": [
           {
            "colorbar": {
             "outlinewidth": 0,
             "ticks": ""
            },
            "colorscale": [
             [
              0,
              "#0d0887"
             ],
             [
              0.1111111111111111,
              "#46039f"
             ],
             [
              0.2222222222222222,
              "#7201a8"
             ],
             [
              0.3333333333333333,
              "#9c179e"
             ],
             [
              0.4444444444444444,
              "#bd3786"
             ],
             [
              0.5555555555555556,
              "#d8576b"
             ],
             [
              0.6666666666666666,
              "#ed7953"
             ],
             [
              0.7777777777777778,
              "#fb9f3a"
             ],
             [
              0.8888888888888888,
              "#fdca26"
             ],
             [
              1,
              "#f0f921"
             ]
            ],
            "type": "heatmap"
           }
          ],
          "heatmapgl": [
           {
            "colorbar": {
             "outlinewidth": 0,
             "ticks": ""
            },
            "colorscale": [
             [
              0,
              "#0d0887"
             ],
             [
              0.1111111111111111,
              "#46039f"
             ],
             [
              0.2222222222222222,
              "#7201a8"
             ],
             [
              0.3333333333333333,
              "#9c179e"
             ],
             [
              0.4444444444444444,
              "#bd3786"
             ],
             [
              0.5555555555555556,
              "#d8576b"
             ],
             [
              0.6666666666666666,
              "#ed7953"
             ],
             [
              0.7777777777777778,
              "#fb9f3a"
             ],
             [
              0.8888888888888888,
              "#fdca26"
             ],
             [
              1,
              "#f0f921"
             ]
            ],
            "type": "heatmapgl"
           }
          ],
          "histogram": [
           {
            "marker": {
             "pattern": {
              "fillmode": "overlay",
              "size": 10,
              "solidity": 0.2
             }
            },
            "type": "histogram"
           }
          ],
          "histogram2d": [
           {
            "colorbar": {
             "outlinewidth": 0,
             "ticks": ""
            },
            "colorscale": [
             [
              0,
              "#0d0887"
             ],
             [
              0.1111111111111111,
              "#46039f"
             ],
             [
              0.2222222222222222,
              "#7201a8"
             ],
             [
              0.3333333333333333,
              "#9c179e"
             ],
             [
              0.4444444444444444,
              "#bd3786"
             ],
             [
              0.5555555555555556,
              "#d8576b"
             ],
             [
              0.6666666666666666,
              "#ed7953"
             ],
             [
              0.7777777777777778,
              "#fb9f3a"
             ],
             [
              0.8888888888888888,
              "#fdca26"
             ],
             [
              1,
              "#f0f921"
             ]
            ],
            "type": "histogram2d"
           }
          ],
          "histogram2dcontour": [
           {
            "colorbar": {
             "outlinewidth": 0,
             "ticks": ""
            },
            "colorscale": [
             [
              0,
              "#0d0887"
             ],
             [
              0.1111111111111111,
              "#46039f"
             ],
             [
              0.2222222222222222,
              "#7201a8"
             ],
             [
              0.3333333333333333,
              "#9c179e"
             ],
             [
              0.4444444444444444,
              "#bd3786"
             ],
             [
              0.5555555555555556,
              "#d8576b"
             ],
             [
              0.6666666666666666,
              "#ed7953"
             ],
             [
              0.7777777777777778,
              "#fb9f3a"
             ],
             [
              0.8888888888888888,
              "#fdca26"
             ],
             [
              1,
              "#f0f921"
             ]
            ],
            "type": "histogram2dcontour"
           }
          ],
          "mesh3d": [
           {
            "colorbar": {
             "outlinewidth": 0,
             "ticks": ""
            },
            "type": "mesh3d"
           }
          ],
          "parcoords": [
           {
            "line": {
             "colorbar": {
              "outlinewidth": 0,
              "ticks": ""
             }
            },
            "type": "parcoords"
           }
          ],
          "pie": [
           {
            "automargin": true,
            "type": "pie"
           }
          ],
          "scatter": [
           {
            "marker": {
             "colorbar": {
              "outlinewidth": 0,
              "ticks": ""
             }
            },
            "type": "scatter"
           }
          ],
          "scatter3d": [
           {
            "line": {
             "colorbar": {
              "outlinewidth": 0,
              "ticks": ""
             }
            },
            "marker": {
             "colorbar": {
              "outlinewidth": 0,
              "ticks": ""
             }
            },
            "type": "scatter3d"
           }
          ],
          "scattercarpet": [
           {
            "marker": {
             "colorbar": {
              "outlinewidth": 0,
              "ticks": ""
             }
            },
            "type": "scattercarpet"
           }
          ],
          "scattergeo": [
           {
            "marker": {
             "colorbar": {
              "outlinewidth": 0,
              "ticks": ""
             }
            },
            "type": "scattergeo"
           }
          ],
          "scattergl": [
           {
            "marker": {
             "colorbar": {
              "outlinewidth": 0,
              "ticks": ""
             }
            },
            "type": "scattergl"
           }
          ],
          "scattermapbox": [
           {
            "marker": {
             "colorbar": {
              "outlinewidth": 0,
              "ticks": ""
             }
            },
            "type": "scattermapbox"
           }
          ],
          "scatterpolar": [
           {
            "marker": {
             "colorbar": {
              "outlinewidth": 0,
              "ticks": ""
             }
            },
            "type": "scatterpolar"
           }
          ],
          "scatterpolargl": [
           {
            "marker": {
             "colorbar": {
              "outlinewidth": 0,
              "ticks": ""
             }
            },
            "type": "scatterpolargl"
           }
          ],
          "scatterternary": [
           {
            "marker": {
             "colorbar": {
              "outlinewidth": 0,
              "ticks": ""
             }
            },
            "type": "scatterternary"
           }
          ],
          "surface": [
           {
            "colorbar": {
             "outlinewidth": 0,
             "ticks": ""
            },
            "colorscale": [
             [
              0,
              "#0d0887"
             ],
             [
              0.1111111111111111,
              "#46039f"
             ],
             [
              0.2222222222222222,
              "#7201a8"
             ],
             [
              0.3333333333333333,
              "#9c179e"
             ],
             [
              0.4444444444444444,
              "#bd3786"
             ],
             [
              0.5555555555555556,
              "#d8576b"
             ],
             [
              0.6666666666666666,
              "#ed7953"
             ],
             [
              0.7777777777777778,
              "#fb9f3a"
             ],
             [
              0.8888888888888888,
              "#fdca26"
             ],
             [
              1,
              "#f0f921"
             ]
            ],
            "type": "surface"
           }
          ],
          "table": [
           {
            "cells": {
             "fill": {
              "color": "#EBF0F8"
             },
             "line": {
              "color": "white"
             }
            },
            "header": {
             "fill": {
              "color": "#C8D4E3"
             },
             "line": {
              "color": "white"
             }
            },
            "type": "table"
           }
          ]
         },
         "layout": {
          "annotationdefaults": {
           "arrowcolor": "#2a3f5f",
           "arrowhead": 0,
           "arrowwidth": 1
          },
          "autotypenumbers": "strict",
          "coloraxis": {
           "colorbar": {
            "outlinewidth": 0,
            "ticks": ""
           }
          },
          "colorscale": {
           "diverging": [
            [
             0,
             "#8e0152"
            ],
            [
             0.1,
             "#c51b7d"
            ],
            [
             0.2,
             "#de77ae"
            ],
            [
             0.3,
             "#f1b6da"
            ],
            [
             0.4,
             "#fde0ef"
            ],
            [
             0.5,
             "#f7f7f7"
            ],
            [
             0.6,
             "#e6f5d0"
            ],
            [
             0.7,
             "#b8e186"
            ],
            [
             0.8,
             "#7fbc41"
            ],
            [
             0.9,
             "#4d9221"
            ],
            [
             1,
             "#276419"
            ]
           ],
           "sequential": [
            [
             0,
             "#0d0887"
            ],
            [
             0.1111111111111111,
             "#46039f"
            ],
            [
             0.2222222222222222,
             "#7201a8"
            ],
            [
             0.3333333333333333,
             "#9c179e"
            ],
            [
             0.4444444444444444,
             "#bd3786"
            ],
            [
             0.5555555555555556,
             "#d8576b"
            ],
            [
             0.6666666666666666,
             "#ed7953"
            ],
            [
             0.7777777777777778,
             "#fb9f3a"
            ],
            [
             0.8888888888888888,
             "#fdca26"
            ],
            [
             1,
             "#f0f921"
            ]
           ],
           "sequentialminus": [
            [
             0,
             "#0d0887"
            ],
            [
             0.1111111111111111,
             "#46039f"
            ],
            [
             0.2222222222222222,
             "#7201a8"
            ],
            [
             0.3333333333333333,
             "#9c179e"
            ],
            [
             0.4444444444444444,
             "#bd3786"
            ],
            [
             0.5555555555555556,
             "#d8576b"
            ],
            [
             0.6666666666666666,
             "#ed7953"
            ],
            [
             0.7777777777777778,
             "#fb9f3a"
            ],
            [
             0.8888888888888888,
             "#fdca26"
            ],
            [
             1,
             "#f0f921"
            ]
           ]
          },
          "colorway": [
           "#636efa",
           "#EF553B",
           "#00cc96",
           "#ab63fa",
           "#FFA15A",
           "#19d3f3",
           "#FF6692",
           "#B6E880",
           "#FF97FF",
           "#FECB52"
          ],
          "font": {
           "color": "#2a3f5f"
          },
          "geo": {
           "bgcolor": "white",
           "lakecolor": "white",
           "landcolor": "#E5ECF6",
           "showlakes": true,
           "showland": true,
           "subunitcolor": "white"
          },
          "hoverlabel": {
           "align": "left"
          },
          "hovermode": "closest",
          "mapbox": {
           "style": "light"
          },
          "paper_bgcolor": "white",
          "plot_bgcolor": "#E5ECF6",
          "polar": {
           "angularaxis": {
            "gridcolor": "white",
            "linecolor": "white",
            "ticks": ""
           },
           "bgcolor": "#E5ECF6",
           "radialaxis": {
            "gridcolor": "white",
            "linecolor": "white",
            "ticks": ""
           }
          },
          "scene": {
           "xaxis": {
            "backgroundcolor": "#E5ECF6",
            "gridcolor": "white",
            "gridwidth": 2,
            "linecolor": "white",
            "showbackground": true,
            "ticks": "",
            "zerolinecolor": "white"
           },
           "yaxis": {
            "backgroundcolor": "#E5ECF6",
            "gridcolor": "white",
            "gridwidth": 2,
            "linecolor": "white",
            "showbackground": true,
            "ticks": "",
            "zerolinecolor": "white"
           },
           "zaxis": {
            "backgroundcolor": "#E5ECF6",
            "gridcolor": "white",
            "gridwidth": 2,
            "linecolor": "white",
            "showbackground": true,
            "ticks": "",
            "zerolinecolor": "white"
           }
          },
          "shapedefaults": {
           "line": {
            "color": "#2a3f5f"
           }
          },
          "ternary": {
           "aaxis": {
            "gridcolor": "white",
            "linecolor": "white",
            "ticks": ""
           },
           "baxis": {
            "gridcolor": "white",
            "linecolor": "white",
            "ticks": ""
           },
           "bgcolor": "#E5ECF6",
           "caxis": {
            "gridcolor": "white",
            "linecolor": "white",
            "ticks": ""
           }
          },
          "title": {
           "x": 0.05
          },
          "xaxis": {
           "automargin": true,
           "gridcolor": "white",
           "linecolor": "white",
           "ticks": "",
           "title": {
            "standoff": 15
           },
           "zerolinecolor": "white",
           "zerolinewidth": 2
          },
          "yaxis": {
           "automargin": true,
           "gridcolor": "white",
           "linecolor": "white",
           "ticks": "",
           "title": {
            "standoff": 15
           },
           "zerolinecolor": "white",
           "zerolinewidth": 2
          }
         }
        }
       }
      },
      "text/html": [
       "<div>                            <div id=\"1ec351a9-cbb0-4a8c-a539-a18e7a99df21\" class=\"plotly-graph-div\" style=\"height:500px; width:100%;\"></div>            <script type=\"text/javascript\">                require([\"plotly\"], function(Plotly) {                    window.PLOTLYENV=window.PLOTLYENV || {};                                    if (document.getElementById(\"1ec351a9-cbb0-4a8c-a539-a18e7a99df21\")) {                    Plotly.newPlot(                        \"1ec351a9-cbb0-4a8c-a539-a18e7a99df21\",                        [{\"customdata\":[[\"13138 Vineyard Way, Woodbridge, VA 22191\",356900,172.0,2076.0,1542.0,3.0,3.0],[\"2235 Sluice Channel Pl, Woodbridge, VA 22192\",449900,210.0,2144.0,1673.0,4.0,4.0],[\"11578 Hill Meade Ln, Woodbridge, VA 22192\",475000,242.0,1960.0,1599.0,3.0,4.0],[\"12308 Aztec Pl, Woodbridge, VA 22192\",455000,223.0,2040.0,1599.0,3.0,3.0],[\"14093 Fallbrook Ln, Woodbridge, VA 22193\",329900,164.0,2006.0,1773.0,3.0,4.0],[\"1862 Heather Glen Ct, Woodbridge, VA 22191\",430000,227.0,1897.0,1398.0,4.0,4.0],[\"12539 Basque Pl, Woodbridge, VA 22192\",399499,240.0,1662.0,3202.0,3.0,3.0],[\"12838 Tumbling Brook Ln, Woodbridge, VA 22192\",400000,215.0,1858.0,1877.0,3.0,4.0],[\"11800 Critton Cir, Woodbridge, VA 22192\",445000,216.0,2056.0,2330.0,3.0,4.0],[\"3434 Tuckahoe Ct, Dumfries, VA 22026\",399000,256.0,1561.0,1599.0,3.0,4.0],[\"2855 Banks Ct, Dumfries, VA 22026\",273999,211.0,1300.0,1398.0,3.0,3.0],[\"2707 Steele Ct, Dumfries, VA 22026\",285000,216.0,1320.0,1398.0,3.0,3.0],[\"3085 Bridgeton Ct, Woodbridge, VA 22192\",445000,235.0,1894.0,1599.0,3.0,3.0],[\"1531 Fort Sumter Ct, Dumfries, VA 22026\",324800,177.0,1835.0,1398.0,4.0,4.0],[\"14777 Darbydale Ave, Woodbridge, VA 22193\",375990,176.0,2132.0,2444.0,3.0,4.0],[\"16142 Henderson Ln, Dumfries, VA 22025\",330000,177.0,1864.0,1420.0,3.0,3.0],[\"15364 Bronco Way, Woodbridge, VA 22193\",405000,189.0,2138.0,1642.0,4.0,4.0],[\"14381 Berkshire Dr, Woodbridge, VA 22193\",359000,232.0,1548.0,1420.0,4.0,2.0],[\"14827 Anderson Ct, Woodbridge, VA 22193\",349000,181.0,1923.0,1498.0,3.0,2.0],[\"3138 Antrim Cir, Dumfries, VA 22026\",389900,184.0,2114.0,2400.0,3.0,4.0],[\"2089 Bowline Loop, Woodbridge, VA 22192\",429900,245.0,1755.0,2313.0,3.0,4.0],[\"16933 Toms River Loop, Dumfries, VA 22026\",355000,192.0,1850.0,1599.0,3.0,4.0],[\"3515 Belfry Ln, Woodbridge, VA 22192\",380000,233.0,1630.0,1298.0,3.0,3.0],[\"1900 Mariner Ln, Woodbridge, VA 22192\",399900,214.0,1866.0,2448.0,3.0,4.0],[\"11567 Bertram St, Woodbridge, VA 22192\",445000,227.0,1957.0,1638.0,4.0,4.0],[\"14486 Brentwood Ct, Woodbridge, VA 22193\",320000,170.0,1883.0,1307.0,3.0,2.0],[\"3033 Sigel Ct, Dumfries, VA 22026\",312200,224.0,1396.0,2169.0,4.0,3.0],[\"7830 Bellwether Ct, Lorton, VA 22079\",470000,269.0,1745.0,1520.0,3.0,4.0],[\"3329 Wyndale Ct, Woodbridge, VA 22192\",390000,234.0,1670.0,2474.0,5.0,3.0],[\"2436 Kilpatrick Pl, Dumfries, VA 22026\",305000,231.0,1320.0,1477.0,3.0,3.0],[\"1919 Fort Monroe Ct, Dumfries, VA 22026\",289000,226.0,1280.0,2169.0,3.0,2.0],[\"3844 Marquis Pl, Woodbridge, VA 22192\",387000,231.0,1675.0,1441.0,3.0,3.0],[\"12840 Bison Ct, Woodbridge, VA 22192\",377900,226.0,1670.0,1498.0,3.0,4.0],[\"15328 Gatehouse Ter, Woodbridge, VA 22191\",275000,227.0,1209.0,1281.0,2.0,2.0],[\"5206 Quince Ct, Woodbridge, VA 22193\",299000,237.0,1260.0,1599.0,3.0,3.0],[\"18173 Red Mulberry Rd, Dumfries, VA 22026\",485000,272.0,1780.0,1890.0,3.0,4.0],[\"12836 Tumbling Brook Ln, Woodbridge, VA 22192\",419900,210.0,2003.0,1751.0,3.0,4.0],[\"13399 Dogues Ter, Woodbridge, VA 22191\",470000,216.0,2180.0,1599.0,3.0,4.0],[\"14835 Cherrydale Dr, Woodbridge, VA 22193\",325000,254.0,1278.0,1442.0,3.0,3.0],[\"2628 Miranda Ct, Woodbridge, VA 22191\",399990,201.0,1994.0,1559.0,3.0,4.0],[\"5225 Spring Branch Blvd, Dumfries, VA 22025\",408777,230.0,1781.0,1498.0,4.0,4.0],[\"4260 Ashmere Cir, Dumfries, VA 22025\",385000,263.0,1462.0,1176.0,3.0,3.0],[\"15724 Lansdale Pl, Dumfries, VA 22025\",420000,213.0,1968.0,1498.0,4.0,4.0],[\"3443 Brookville Ln, Woodbridge, VA 22192\",335000,262.0,1280.0,1298.0,3.0,2.0],[\"15566 Traverser Ct, Woodbridge, VA 22193\",375000,187.0,2007.0,1442.0,3.0,4.0],[\"15359 Inlet Pl, Dumfries, VA 22025\",409900,291.0,1410.0,2727.0,4.0,4.0],[\"17028 Point Pleasant Ln, Dumfries, VA 22026\",365000,216.0,1692.0,1599.0,3.0,4.0],[\"15355 Inlet Pl, Dumfries, VA 22025\",373000,207.0,1800.0,1398.0,3.0,3.0],[\"5007 Seal Pl, Dumfries, VA 22025\",469000,216.0,2170.0,1616.0,3.0,4.0],[\"13105 Brookside Ct, Woodbridge, VA 22191\",379900,213.0,1786.0,1363.0,3.0,3.0],[\"12223 Allspice Ct, Woodbridge, VA 22192\",379900,218.0,1744.0,1542.0,3.0,4.0],[\"14881 Cherrydale Dr, Woodbridge, VA 22193\",355000,219.0,1620.0,1350.0,4.0,4.0],[\"3080 Bridgeton Ct, Woodbridge, VA 22192\",430000,219.0,1960.0,1599.0,3.0,3.0],[\"2931 Cambridge Dr, Woodbridge, VA 22192\",349900,219.0,1600.0,1590.0,3.0,4.0],[\"3005 Sigel Ct, Dumfries, VA 22026\",289500,219.0,1320.0,1306.8,3.0,3.0],[\"2542 Sedgewick Pl, Dumfries, VA 22026\",284999,219.0,1300.0,1398.0,3.0,3.0],[\"3457 Castle Hill Dr, Woodbridge, VA 22193\",360000,222.0,1620.0,1350.0,3.0,4.0],[\"4196 Ashmere Cir, Dumfries, VA 22025\",365000,245.0,1487.0,1215.0,3.0,3.0],[\"4905 Backwater Ct, Dumfries, VA 22025\",350000,238.0,1472.0,2326.0,3.0,3.0],[\"4901 Saltwater Dr, Dumfries, VA 22025\",350000,241.0,1452.0,1298.0,3.0,3.0],[\"15333 Inlet Pl, Dumfries, VA 22025\",395977,199.0,1993.0,1498.0,4.0,4.0],[\"15023 Catalpa Ct, Woodbridge, VA 22193\",339900,195.0,1745.0,1599.0,3.0,4.0],[\"3519 Castle Hill Dr, Woodbridge, VA 22193\",365000,248.0,1472.0,2426.0,3.0,3.0],[\"14625 Endsley Turn, Woodbridge, VA 22193\",305000,212.0,1440.0,2400.0,3.0,3.0],[\"14806 Emberdale Dr, Woodbridge, VA 22193\",349990,240.0,1457.0,2522.0,3.0,3.0],[\"15001 Cardin Pl, Woodbridge, VA 22193\",341900,232.0,1472.0,2274.0,3.0,3.0],[\"15068 Catbrier Ct, Woodbridge, VA 22193\",329900,254.0,1300.0,1599.0,3.0,3.0],[\"3458 Beale Ct, Woodbridge, VA 22193\",349900,286.0,1224.0,1316.0,3.0,2.0],[\"17250 Garcia Way, Dumfries, VA 22026\",399900,200.0,1995.0,2640.0,4.0,4.0],[\"3433 Belleplain Ct, Dumfries, VA 22026\",365000,224.0,1630.0,2601.0,3.0,4.0],[\"2906 Wetherburn Ct, Woodbridge, VA 22191\",305000,242.0,1260.0,1481.0,3.0,2.0],[\"4667 Prather Pl, Woodbridge, VA 22193\",315000,281.0,1120.0,1599.0,3.0,2.0],[\"3467 Vale Ct, Woodbridge, VA 22192\",365000,258.0,1414.0,2483.0,3.0,3.0],[\"12682 Perchance Ter, Woodbridge, VA 22192\",377000,205.0,1840.0,1599.0,2.0,3.0],[\"14404 Belvedere Dr, Woodbridge, VA 22193\",359900,209.0,1719.0,1529.0,4.0,2.0]],\"hovertemplate\":\"<b>%{hovertext}</b><br><br>pricePerSqFt=%{marker.color}<br>latitude=%{lat}<br>longitude=%{lon}<br>address=%{customdata[0]}<br>price=%{customdata[1]}<br>area=%{customdata[3]}<br>lotSize=%{customdata[4]}<br>beds=%{customdata[5]}<br>baths=%{customdata[6]}<extra></extra>\",\"hovertext\":[\"13138 Vineyard Way, Woodbridge, VA 22191\",\"2235 Sluice Channel Pl, Woodbridge, VA 22192\",\"11578 Hill Meade Ln, Woodbridge, VA 22192\",\"12308 Aztec Pl, Woodbridge, VA 22192\",\"14093 Fallbrook Ln, Woodbridge, VA 22193\",\"1862 Heather Glen Ct, Woodbridge, VA 22191\",\"12539 Basque Pl, Woodbridge, VA 22192\",\"12838 Tumbling Brook Ln, Woodbridge, VA 22192\",\"11800 Critton Cir, Woodbridge, VA 22192\",\"3434 Tuckahoe Ct, Dumfries, VA 22026\",\"2855 Banks Ct, Dumfries, VA 22026\",\"2707 Steele Ct, Dumfries, VA 22026\",\"3085 Bridgeton Ct, Woodbridge, VA 22192\",\"1531 Fort Sumter Ct, Dumfries, VA 22026\",\"14777 Darbydale Ave, Woodbridge, VA 22193\",\"16142 Henderson Ln, Dumfries, VA 22025\",\"15364 Bronco Way, Woodbridge, VA 22193\",\"14381 Berkshire Dr, Woodbridge, VA 22193\",\"14827 Anderson Ct, Woodbridge, VA 22193\",\"3138 Antrim Cir, Dumfries, VA 22026\",\"2089 Bowline Loop, Woodbridge, VA 22192\",\"16933 Toms River Loop, Dumfries, VA 22026\",\"3515 Belfry Ln, Woodbridge, VA 22192\",\"1900 Mariner Ln, Woodbridge, VA 22192\",\"11567 Bertram St, Woodbridge, VA 22192\",\"14486 Brentwood Ct, Woodbridge, VA 22193\",\"3033 Sigel Ct, Dumfries, VA 22026\",\"7830 Bellwether Ct, Lorton, VA 22079\",\"3329 Wyndale Ct, Woodbridge, VA 22192\",\"2436 Kilpatrick Pl, Dumfries, VA 22026\",\"1919 Fort Monroe Ct, Dumfries, VA 22026\",\"3844 Marquis Pl, Woodbridge, VA 22192\",\"12840 Bison Ct, Woodbridge, VA 22192\",\"15328 Gatehouse Ter, Woodbridge, VA 22191\",\"5206 Quince Ct, Woodbridge, VA 22193\",\"18173 Red Mulberry Rd, Dumfries, VA 22026\",\"12836 Tumbling Brook Ln, Woodbridge, VA 22192\",\"13399 Dogues Ter, Woodbridge, VA 22191\",\"14835 Cherrydale Dr, Woodbridge, VA 22193\",\"2628 Miranda Ct, Woodbridge, VA 22191\",\"5225 Spring Branch Blvd, Dumfries, VA 22025\",\"4260 Ashmere Cir, Dumfries, VA 22025\",\"15724 Lansdale Pl, Dumfries, VA 22025\",\"3443 Brookville Ln, Woodbridge, VA 22192\",\"15566 Traverser Ct, Woodbridge, VA 22193\",\"15359 Inlet Pl, Dumfries, VA 22025\",\"17028 Point Pleasant Ln, Dumfries, VA 22026\",\"15355 Inlet Pl, Dumfries, VA 22025\",\"5007 Seal Pl, Dumfries, VA 22025\",\"13105 Brookside Ct, Woodbridge, VA 22191\",\"12223 Allspice Ct, Woodbridge, VA 22192\",\"14881 Cherrydale Dr, Woodbridge, VA 22193\",\"3080 Bridgeton Ct, Woodbridge, VA 22192\",\"2931 Cambridge Dr, Woodbridge, VA 22192\",\"3005 Sigel Ct, Dumfries, VA 22026\",\"2542 Sedgewick Pl, Dumfries, VA 22026\",\"3457 Castle Hill Dr, Woodbridge, VA 22193\",\"4196 Ashmere Cir, Dumfries, VA 22025\",\"4905 Backwater Ct, Dumfries, VA 22025\",\"4901 Saltwater Dr, Dumfries, VA 22025\",\"15333 Inlet Pl, Dumfries, VA 22025\",\"15023 Catalpa Ct, Woodbridge, VA 22193\",\"3519 Castle Hill Dr, Woodbridge, VA 22193\",\"14625 Endsley Turn, Woodbridge, VA 22193\",\"14806 Emberdale Dr, Woodbridge, VA 22193\",\"15001 Cardin Pl, Woodbridge, VA 22193\",\"15068 Catbrier Ct, Woodbridge, VA 22193\",\"3458 Beale Ct, Woodbridge, VA 22193\",\"17250 Garcia Way, Dumfries, VA 22026\",\"3433 Belleplain Ct, Dumfries, VA 22026\",\"2906 Wetherburn Ct, Woodbridge, VA 22191\",\"4667 Prather Pl, Woodbridge, VA 22193\",\"3467 Vale Ct, Woodbridge, VA 22192\",\"12682 Perchance Ter, Woodbridge, VA 22192\",\"14404 Belvedere Dr, Woodbridge, VA 22193\"],\"lat\":[38.666454,38.672756,38.70499,38.68635,38.64782,38.627674,38.68161,38.67406,38.69855,38.586155,38.5607,38.55983,38.7051,38.56346,38.632786,38.60262,38.61936,38.641003,38.631077,38.574486,38.673836,38.586243,38.658325,38.685482,38.700043,38.641403,38.561653,38.70027,38.66067,38.561283,38.561092,38.688805,38.67424,38.61891,38.66335,38.558304,38.67408,38.663136,38.629414,38.587074,38.61866,38.59965,38.612103,38.65709,38.61423,38.619858,38.58348,38.620174,38.61234,38.668167,38.687756,38.627796,38.705654,38.683983,38.56151,38.560184,38.62785,38.59934,38.61021,38.609627,38.621033,38.628387,38.627995,38.635464,38.632053,38.628323,38.627888,38.6311,38.577663,38.586456,38.59032,38.642284,38.66127,38.67686,38.64065],\"legendgroup\":\"\",\"lon\":[-77.25653,-77.280815,-77.30489,-77.2995,-77.32716,-77.267975,-77.29389,-77.2714,-77.31131,-77.31562,-77.32566,-77.32698,-77.3035,-77.3244,-77.34047,-77.33975,-77.31122,-77.31278,-77.30803,-77.307175,-77.27328,-77.31208,-77.31395,-77.272,-77.32652,-77.3478,-77.32447,-77.21584,-77.31082,-77.32691,-77.32287,-77.32806,-77.32471,-77.280945,-77.369,-77.280235,-77.27147,-77.24313,-77.31772,-77.29251,-77.35589,-77.33351,-77.356636,-77.311516,-77.316574,-77.35305,-77.3147,-77.35304,-77.357895,-77.25826,-77.3109,-77.3171,-77.30363,-77.29989,-77.32503,-77.328285,-77.31656,-77.331726,-77.35638,-77.35601,-77.353546,-77.31458,-77.31827,-77.33726,-77.34003,-77.321686,-77.315575,-77.3154,-77.30471,-77.31478,-77.29961,-77.34954,-77.31408,-77.31417,-77.31403],\"marker\":{\"color\":[172.0,210.0,242.0,223.0,164.0,227.0,240.0,215.0,216.0,256.0,211.0,216.0,235.0,177.0,176.0,177.0,189.0,232.0,181.0,184.0,245.0,192.0,233.0,214.0,227.0,170.0,224.0,269.0,234.0,231.0,226.0,231.0,226.0,227.0,237.0,272.0,210.0,216.0,254.0,201.0,230.0,263.0,213.0,262.0,187.0,291.0,216.0,207.0,216.0,213.0,218.0,219.0,219.0,219.0,219.0,219.0,222.0,245.0,238.0,241.0,199.0,195.0,248.0,212.0,240.0,232.0,254.0,286.0,200.0,224.0,242.0,281.0,258.0,205.0,209.0],\"coloraxis\":\"coloraxis\",\"size\":[172.0,210.0,242.0,223.0,164.0,227.0,240.0,215.0,216.0,256.0,211.0,216.0,235.0,177.0,176.0,177.0,189.0,232.0,181.0,184.0,245.0,192.0,233.0,214.0,227.0,170.0,224.0,269.0,234.0,231.0,226.0,231.0,226.0,227.0,237.0,272.0,210.0,216.0,254.0,201.0,230.0,263.0,213.0,262.0,187.0,291.0,216.0,207.0,216.0,213.0,218.0,219.0,219.0,219.0,219.0,219.0,222.0,245.0,238.0,241.0,199.0,195.0,248.0,212.0,240.0,232.0,254.0,286.0,200.0,224.0,242.0,281.0,258.0,205.0,209.0],\"sizemode\":\"area\",\"sizeref\":1.2933333333333332},\"mode\":\"markers\",\"name\":\"\",\"showlegend\":false,\"subplot\":\"mapbox\",\"type\":\"scattermapbox\"}],                        {\"template\":{\"data\":{\"bar\":[{\"error_x\":{\"color\":\"#2a3f5f\"},\"error_y\":{\"color\":\"#2a3f5f\"},\"marker\":{\"line\":{\"color\":\"#E5ECF6\",\"width\":0.5},\"pattern\":{\"fillmode\":\"overlay\",\"size\":10,\"solidity\":0.2}},\"type\":\"bar\"}],\"barpolar\":[{\"marker\":{\"line\":{\"color\":\"#E5ECF6\",\"width\":0.5},\"pattern\":{\"fillmode\":\"overlay\",\"size\":10,\"solidity\":0.2}},\"type\":\"barpolar\"}],\"carpet\":[{\"aaxis\":{\"endlinecolor\":\"#2a3f5f\",\"gridcolor\":\"white\",\"linecolor\":\"white\",\"minorgridcolor\":\"white\",\"startlinecolor\":\"#2a3f5f\"},\"baxis\":{\"endlinecolor\":\"#2a3f5f\",\"gridcolor\":\"white\",\"linecolor\":\"white\",\"minorgridcolor\":\"white\",\"startlinecolor\":\"#2a3f5f\"},\"type\":\"carpet\"}],\"choropleth\":[{\"colorbar\":{\"outlinewidth\":0,\"ticks\":\"\"},\"type\":\"choropleth\"}],\"contour\":[{\"colorbar\":{\"outlinewidth\":0,\"ticks\":\"\"},\"colorscale\":[[0.0,\"#0d0887\"],[0.1111111111111111,\"#46039f\"],[0.2222222222222222,\"#7201a8\"],[0.3333333333333333,\"#9c179e\"],[0.4444444444444444,\"#bd3786\"],[0.5555555555555556,\"#d8576b\"],[0.6666666666666666,\"#ed7953\"],[0.7777777777777778,\"#fb9f3a\"],[0.8888888888888888,\"#fdca26\"],[1.0,\"#f0f921\"]],\"type\":\"contour\"}],\"contourcarpet\":[{\"colorbar\":{\"outlinewidth\":0,\"ticks\":\"\"},\"type\":\"contourcarpet\"}],\"heatmap\":[{\"colorbar\":{\"outlinewidth\":0,\"ticks\":\"\"},\"colorscale\":[[0.0,\"#0d0887\"],[0.1111111111111111,\"#46039f\"],[0.2222222222222222,\"#7201a8\"],[0.3333333333333333,\"#9c179e\"],[0.4444444444444444,\"#bd3786\"],[0.5555555555555556,\"#d8576b\"],[0.6666666666666666,\"#ed7953\"],[0.7777777777777778,\"#fb9f3a\"],[0.8888888888888888,\"#fdca26\"],[1.0,\"#f0f921\"]],\"type\":\"heatmap\"}],\"heatmapgl\":[{\"colorbar\":{\"outlinewidth\":0,\"ticks\":\"\"},\"colorscale\":[[0.0,\"#0d0887\"],[0.1111111111111111,\"#46039f\"],[0.2222222222222222,\"#7201a8\"],[0.3333333333333333,\"#9c179e\"],[0.4444444444444444,\"#bd3786\"],[0.5555555555555556,\"#d8576b\"],[0.6666666666666666,\"#ed7953\"],[0.7777777777777778,\"#fb9f3a\"],[0.8888888888888888,\"#fdca26\"],[1.0,\"#f0f921\"]],\"type\":\"heatmapgl\"}],\"histogram\":[{\"marker\":{\"pattern\":{\"fillmode\":\"overlay\",\"size\":10,\"solidity\":0.2}},\"type\":\"histogram\"}],\"histogram2d\":[{\"colorbar\":{\"outlinewidth\":0,\"ticks\":\"\"},\"colorscale\":[[0.0,\"#0d0887\"],[0.1111111111111111,\"#46039f\"],[0.2222222222222222,\"#7201a8\"],[0.3333333333333333,\"#9c179e\"],[0.4444444444444444,\"#bd3786\"],[0.5555555555555556,\"#d8576b\"],[0.6666666666666666,\"#ed7953\"],[0.7777777777777778,\"#fb9f3a\"],[0.8888888888888888,\"#fdca26\"],[1.0,\"#f0f921\"]],\"type\":\"histogram2d\"}],\"histogram2dcontour\":[{\"colorbar\":{\"outlinewidth\":0,\"ticks\":\"\"},\"colorscale\":[[0.0,\"#0d0887\"],[0.1111111111111111,\"#46039f\"],[0.2222222222222222,\"#7201a8\"],[0.3333333333333333,\"#9c179e\"],[0.4444444444444444,\"#bd3786\"],[0.5555555555555556,\"#d8576b\"],[0.6666666666666666,\"#ed7953\"],[0.7777777777777778,\"#fb9f3a\"],[0.8888888888888888,\"#fdca26\"],[1.0,\"#f0f921\"]],\"type\":\"histogram2dcontour\"}],\"mesh3d\":[{\"colorbar\":{\"outlinewidth\":0,\"ticks\":\"\"},\"type\":\"mesh3d\"}],\"parcoords\":[{\"line\":{\"colorbar\":{\"outlinewidth\":0,\"ticks\":\"\"}},\"type\":\"parcoords\"}],\"pie\":[{\"automargin\":true,\"type\":\"pie\"}],\"scatter\":[{\"marker\":{\"colorbar\":{\"outlinewidth\":0,\"ticks\":\"\"}},\"type\":\"scatter\"}],\"scatter3d\":[{\"line\":{\"colorbar\":{\"outlinewidth\":0,\"ticks\":\"\"}},\"marker\":{\"colorbar\":{\"outlinewidth\":0,\"ticks\":\"\"}},\"type\":\"scatter3d\"}],\"scattercarpet\":[{\"marker\":{\"colorbar\":{\"outlinewidth\":0,\"ticks\":\"\"}},\"type\":\"scattercarpet\"}],\"scattergeo\":[{\"marker\":{\"colorbar\":{\"outlinewidth\":0,\"ticks\":\"\"}},\"type\":\"scattergeo\"}],\"scattergl\":[{\"marker\":{\"colorbar\":{\"outlinewidth\":0,\"ticks\":\"\"}},\"type\":\"scattergl\"}],\"scattermapbox\":[{\"marker\":{\"colorbar\":{\"outlinewidth\":0,\"ticks\":\"\"}},\"type\":\"scattermapbox\"}],\"scatterpolar\":[{\"marker\":{\"colorbar\":{\"outlinewidth\":0,\"ticks\":\"\"}},\"type\":\"scatterpolar\"}],\"scatterpolargl\":[{\"marker\":{\"colorbar\":{\"outlinewidth\":0,\"ticks\":\"\"}},\"type\":\"scatterpolargl\"}],\"scatterternary\":[{\"marker\":{\"colorbar\":{\"outlinewidth\":0,\"ticks\":\"\"}},\"type\":\"scatterternary\"}],\"surface\":[{\"colorbar\":{\"outlinewidth\":0,\"ticks\":\"\"},\"colorscale\":[[0.0,\"#0d0887\"],[0.1111111111111111,\"#46039f\"],[0.2222222222222222,\"#7201a8\"],[0.3333333333333333,\"#9c179e\"],[0.4444444444444444,\"#bd3786\"],[0.5555555555555556,\"#d8576b\"],[0.6666666666666666,\"#ed7953\"],[0.7777777777777778,\"#fb9f3a\"],[0.8888888888888888,\"#fdca26\"],[1.0,\"#f0f921\"]],\"type\":\"surface\"}],\"table\":[{\"cells\":{\"fill\":{\"color\":\"#EBF0F8\"},\"line\":{\"color\":\"white\"}},\"header\":{\"fill\":{\"color\":\"#C8D4E3\"},\"line\":{\"color\":\"white\"}},\"type\":\"table\"}]},\"layout\":{\"annotationdefaults\":{\"arrowcolor\":\"#2a3f5f\",\"arrowhead\":0,\"arrowwidth\":1},\"autotypenumbers\":\"strict\",\"coloraxis\":{\"colorbar\":{\"outlinewidth\":0,\"ticks\":\"\"}},\"colorscale\":{\"diverging\":[[0,\"#8e0152\"],[0.1,\"#c51b7d\"],[0.2,\"#de77ae\"],[0.3,\"#f1b6da\"],[0.4,\"#fde0ef\"],[0.5,\"#f7f7f7\"],[0.6,\"#e6f5d0\"],[0.7,\"#b8e186\"],[0.8,\"#7fbc41\"],[0.9,\"#4d9221\"],[1,\"#276419\"]],\"sequential\":[[0.0,\"#0d0887\"],[0.1111111111111111,\"#46039f\"],[0.2222222222222222,\"#7201a8\"],[0.3333333333333333,\"#9c179e\"],[0.4444444444444444,\"#bd3786\"],[0.5555555555555556,\"#d8576b\"],[0.6666666666666666,\"#ed7953\"],[0.7777777777777778,\"#fb9f3a\"],[0.8888888888888888,\"#fdca26\"],[1.0,\"#f0f921\"]],\"sequentialminus\":[[0.0,\"#0d0887\"],[0.1111111111111111,\"#46039f\"],[0.2222222222222222,\"#7201a8\"],[0.3333333333333333,\"#9c179e\"],[0.4444444444444444,\"#bd3786\"],[0.5555555555555556,\"#d8576b\"],[0.6666666666666666,\"#ed7953\"],[0.7777777777777778,\"#fb9f3a\"],[0.8888888888888888,\"#fdca26\"],[1.0,\"#f0f921\"]]},\"colorway\":[\"#636efa\",\"#EF553B\",\"#00cc96\",\"#ab63fa\",\"#FFA15A\",\"#19d3f3\",\"#FF6692\",\"#B6E880\",\"#FF97FF\",\"#FECB52\"],\"font\":{\"color\":\"#2a3f5f\"},\"geo\":{\"bgcolor\":\"white\",\"lakecolor\":\"white\",\"landcolor\":\"#E5ECF6\",\"showlakes\":true,\"showland\":true,\"subunitcolor\":\"white\"},\"hoverlabel\":{\"align\":\"left\"},\"hovermode\":\"closest\",\"mapbox\":{\"style\":\"light\"},\"paper_bgcolor\":\"white\",\"plot_bgcolor\":\"#E5ECF6\",\"polar\":{\"angularaxis\":{\"gridcolor\":\"white\",\"linecolor\":\"white\",\"ticks\":\"\"},\"bgcolor\":\"#E5ECF6\",\"radialaxis\":{\"gridcolor\":\"white\",\"linecolor\":\"white\",\"ticks\":\"\"}},\"scene\":{\"xaxis\":{\"backgroundcolor\":\"#E5ECF6\",\"gridcolor\":\"white\",\"gridwidth\":2,\"linecolor\":\"white\",\"showbackground\":true,\"ticks\":\"\",\"zerolinecolor\":\"white\"},\"yaxis\":{\"backgroundcolor\":\"#E5ECF6\",\"gridcolor\":\"white\",\"gridwidth\":2,\"linecolor\":\"white\",\"showbackground\":true,\"ticks\":\"\",\"zerolinecolor\":\"white\"},\"zaxis\":{\"backgroundcolor\":\"#E5ECF6\",\"gridcolor\":\"white\",\"gridwidth\":2,\"linecolor\":\"white\",\"showbackground\":true,\"ticks\":\"\",\"zerolinecolor\":\"white\"}},\"shapedefaults\":{\"line\":{\"color\":\"#2a3f5f\"}},\"ternary\":{\"aaxis\":{\"gridcolor\":\"white\",\"linecolor\":\"white\",\"ticks\":\"\"},\"baxis\":{\"gridcolor\":\"white\",\"linecolor\":\"white\",\"ticks\":\"\"},\"bgcolor\":\"#E5ECF6\",\"caxis\":{\"gridcolor\":\"white\",\"linecolor\":\"white\",\"ticks\":\"\"}},\"title\":{\"x\":0.05},\"xaxis\":{\"automargin\":true,\"gridcolor\":\"white\",\"linecolor\":\"white\",\"ticks\":\"\",\"title\":{\"standoff\":15},\"zerolinecolor\":\"white\",\"zerolinewidth\":2},\"yaxis\":{\"automargin\":true,\"gridcolor\":\"white\",\"linecolor\":\"white\",\"ticks\":\"\",\"title\":{\"standoff\":15},\"zerolinecolor\":\"white\",\"zerolinewidth\":2}}},\"mapbox\":{\"domain\":{\"x\":[0.0,1.0],\"y\":[0.0,1.0]},\"center\":{\"lat\":38.63162482666665,\"lon\":-77.31422965333336},\"zoom\":10,\"style\":\"open-street-map\"},\"coloraxis\":{\"colorbar\":{\"title\":{\"text\":\"pricePerSqFt\"}},\"colorscale\":[[0.0,\"#440154\"],[0.1111111111111111,\"#482878\"],[0.2222222222222222,\"#3e4989\"],[0.3333333333333333,\"#31688e\"],[0.4444444444444444,\"#26828e\"],[0.5555555555555556,\"#1f9e89\"],[0.6666666666666666,\"#35b779\"],[0.7777777777777778,\"#6ece58\"],[0.8888888888888888,\"#b5de2b\"],[1.0,\"#fde725\"]]},\"legend\":{\"tracegroupgap\":0,\"itemsizing\":\"constant\"},\"margin\":{\"t\":0,\"r\":0,\"l\":0,\"b\":0},\"height\":500},                        {\"responsive\": true}                    ).then(function(){\n",
       "                            \n",
       "var gd = document.getElementById('1ec351a9-cbb0-4a8c-a539-a18e7a99df21');\n",
       "var x = new MutationObserver(function (mutations, observer) {{\n",
       "        var display = window.getComputedStyle(gd).display;\n",
       "        if (!display || display === 'none') {{\n",
       "            console.log([gd, 'removed!']);\n",
       "            Plotly.purge(gd);\n",
       "            observer.disconnect();\n",
       "        }}\n",
       "}});\n",
       "\n",
       "// Listen for the removal of the full notebook cells\n",
       "var notebookContainer = gd.closest('#notebook-container');\n",
       "if (notebookContainer) {{\n",
       "    x.observe(notebookContainer, {childList: true});\n",
       "}}\n",
       "\n",
       "// Listen for the clearing of the current output cell\n",
       "var outputEl = gd.closest('.output');\n",
       "if (outputEl) {{\n",
       "    x.observe(outputEl, {childList: true});\n",
       "}}\n",
       "\n",
       "                        })                };                });            </script>        </div>"
      ]
     },
     "metadata": {},
     "output_type": "display_data"
    }
   ],
   "source": [
    "fig = px.scatter_mapbox(df, lat='latitude', lon='longitude', \n",
    "                        color=\"pricePerSqFt\", color_continuous_scale=px.colors.sequential.Viridis, \n",
    "                        size=\"pricePerSqFt\", size_max=15,\n",
    "                        hover_name=\"address\", hover_data=['address', 'price', 'pricePerSqFt', 'area', 'lotSize', 'beds', 'baths'], \n",
    "                        zoom=10, height=500)\n",
    "fig.update_layout(mapbox_style=\"open-street-map\")\n",
    "fig.update_layout(margin={\"r\":0,\"t\":0,\"l\":0,\"b\":0})\n",
    "fig.show()"
   ]
  },
  {
   "cell_type": "code",
   "execution_count": 50,
   "id": "af770fba",
   "metadata": {},
   "outputs": [
    {
     "data": {
      "application/vnd.plotly.v1+json": {
       "config": {
        "plotlyServerURL": "https://plot.ly"
       },
       "data": [
        {
         "customdata": [
          [
           "13138 Vineyard Way, Woodbridge, VA 22191"
          ],
          [
           "2235 Sluice Channel Pl, Woodbridge, VA 22192"
          ],
          [
           "11578 Hill Meade Ln, Woodbridge, VA 22192"
          ],
          [
           "12308 Aztec Pl, Woodbridge, VA 22192"
          ],
          [
           "14093 Fallbrook Ln, Woodbridge, VA 22193"
          ],
          [
           "1862 Heather Glen Ct, Woodbridge, VA 22191"
          ],
          [
           "12539 Basque Pl, Woodbridge, VA 22192"
          ],
          [
           "12838 Tumbling Brook Ln, Woodbridge, VA 22192"
          ],
          [
           "11800 Critton Cir, Woodbridge, VA 22192"
          ],
          [
           "3434 Tuckahoe Ct, Dumfries, VA 22026"
          ],
          [
           "2855 Banks Ct, Dumfries, VA 22026"
          ],
          [
           "2707 Steele Ct, Dumfries, VA 22026"
          ],
          [
           "3085 Bridgeton Ct, Woodbridge, VA 22192"
          ],
          [
           "1531 Fort Sumter Ct, Dumfries, VA 22026"
          ],
          [
           "14777 Darbydale Ave, Woodbridge, VA 22193"
          ],
          [
           "16142 Henderson Ln, Dumfries, VA 22025"
          ],
          [
           "15364 Bronco Way, Woodbridge, VA 22193"
          ],
          [
           "14381 Berkshire Dr, Woodbridge, VA 22193"
          ],
          [
           "14827 Anderson Ct, Woodbridge, VA 22193"
          ],
          [
           "3138 Antrim Cir, Dumfries, VA 22026"
          ],
          [
           "2089 Bowline Loop, Woodbridge, VA 22192"
          ],
          [
           "16933 Toms River Loop, Dumfries, VA 22026"
          ],
          [
           "3515 Belfry Ln, Woodbridge, VA 22192"
          ],
          [
           "1900 Mariner Ln, Woodbridge, VA 22192"
          ],
          [
           "11567 Bertram St, Woodbridge, VA 22192"
          ],
          [
           "14486 Brentwood Ct, Woodbridge, VA 22193"
          ],
          [
           "3033 Sigel Ct, Dumfries, VA 22026"
          ],
          [
           "7830 Bellwether Ct, Lorton, VA 22079"
          ],
          [
           "3329 Wyndale Ct, Woodbridge, VA 22192"
          ],
          [
           "2436 Kilpatrick Pl, Dumfries, VA 22026"
          ],
          [
           "1919 Fort Monroe Ct, Dumfries, VA 22026"
          ],
          [
           "3844 Marquis Pl, Woodbridge, VA 22192"
          ],
          [
           "12840 Bison Ct, Woodbridge, VA 22192"
          ],
          [
           "15328 Gatehouse Ter, Woodbridge, VA 22191"
          ],
          [
           "5206 Quince Ct, Woodbridge, VA 22193"
          ],
          [
           "18173 Red Mulberry Rd, Dumfries, VA 22026"
          ],
          [
           "12836 Tumbling Brook Ln, Woodbridge, VA 22192"
          ],
          [
           "13399 Dogues Ter, Woodbridge, VA 22191"
          ],
          [
           "14835 Cherrydale Dr, Woodbridge, VA 22193"
          ],
          [
           "2628 Miranda Ct, Woodbridge, VA 22191"
          ],
          [
           "5225 Spring Branch Blvd, Dumfries, VA 22025"
          ],
          [
           "4260 Ashmere Cir, Dumfries, VA 22025"
          ],
          [
           "15724 Lansdale Pl, Dumfries, VA 22025"
          ],
          [
           "3443 Brookville Ln, Woodbridge, VA 22192"
          ],
          [
           "15566 Traverser Ct, Woodbridge, VA 22193"
          ],
          [
           "15359 Inlet Pl, Dumfries, VA 22025"
          ],
          [
           "17028 Point Pleasant Ln, Dumfries, VA 22026"
          ],
          [
           "15355 Inlet Pl, Dumfries, VA 22025"
          ],
          [
           "5007 Seal Pl, Dumfries, VA 22025"
          ],
          [
           "13105 Brookside Ct, Woodbridge, VA 22191"
          ],
          [
           "12223 Allspice Ct, Woodbridge, VA 22192"
          ],
          [
           "14881 Cherrydale Dr, Woodbridge, VA 22193"
          ],
          [
           "3080 Bridgeton Ct, Woodbridge, VA 22192"
          ],
          [
           "2931 Cambridge Dr, Woodbridge, VA 22192"
          ],
          [
           "3005 Sigel Ct, Dumfries, VA 22026"
          ],
          [
           "2542 Sedgewick Pl, Dumfries, VA 22026"
          ],
          [
           "3457 Castle Hill Dr, Woodbridge, VA 22193"
          ],
          [
           "4196 Ashmere Cir, Dumfries, VA 22025"
          ],
          [
           "4905 Backwater Ct, Dumfries, VA 22025"
          ],
          [
           "4901 Saltwater Dr, Dumfries, VA 22025"
          ],
          [
           "15333 Inlet Pl, Dumfries, VA 22025"
          ],
          [
           "15023 Catalpa Ct, Woodbridge, VA 22193"
          ],
          [
           "3519 Castle Hill Dr, Woodbridge, VA 22193"
          ],
          [
           "14625 Endsley Turn, Woodbridge, VA 22193"
          ],
          [
           "14806 Emberdale Dr, Woodbridge, VA 22193"
          ],
          [
           "15001 Cardin Pl, Woodbridge, VA 22193"
          ],
          [
           "15068 Catbrier Ct, Woodbridge, VA 22193"
          ],
          [
           "3458 Beale Ct, Woodbridge, VA 22193"
          ],
          [
           "17250 Garcia Way, Dumfries, VA 22026"
          ],
          [
           "3433 Belleplain Ct, Dumfries, VA 22026"
          ],
          [
           "2906 Wetherburn Ct, Woodbridge, VA 22191"
          ],
          [
           "4667 Prather Pl, Woodbridge, VA 22193"
          ],
          [
           "3467 Vale Ct, Woodbridge, VA 22192"
          ],
          [
           "12682 Perchance Ter, Woodbridge, VA 22192"
          ],
          [
           "14404 Belvedere Dr, Woodbridge, VA 22193"
          ]
         ],
         "hovertemplate": "statusText=Townhouse for sale<br>area=%{x}<br>price=%{y}<br>address=%{customdata[0]}<extra></extra>",
         "legendgroup": "Townhouse for sale",
         "marker": {
          "color": "#636efa",
          "symbol": "circle"
         },
         "mode": "markers",
         "name": "Townhouse for sale",
         "orientation": "v",
         "showlegend": true,
         "type": "scatter",
         "x": [
          2076,
          2144,
          1960,
          2040,
          2006,
          1897,
          1662,
          1858,
          2056,
          1561,
          1300,
          1320,
          1894,
          1835,
          2132,
          1864,
          2138,
          1548,
          1923,
          2114,
          1755,
          1850,
          1630,
          1866,
          1957,
          1883,
          1396,
          1745,
          1670,
          1320,
          1280,
          1675,
          1670,
          1209,
          1260,
          1780,
          2003,
          2180,
          1278,
          1994,
          1781,
          1462,
          1968,
          1280,
          2007,
          1410,
          1692,
          1800,
          2170,
          1786,
          1744,
          1620,
          1960,
          1600,
          1320,
          1300,
          1620,
          1487,
          1472,
          1452,
          1993,
          1745,
          1472,
          1440,
          1457,
          1472,
          1300,
          1224,
          1995,
          1630,
          1260,
          1120,
          1414,
          1840,
          1719
         ],
         "xaxis": "x",
         "y": [
          356900,
          449900,
          475000,
          455000,
          329900,
          430000,
          399499,
          400000,
          445000,
          399000,
          273999,
          285000,
          445000,
          324800,
          375990,
          330000,
          405000,
          359000,
          349000,
          389900,
          429900,
          355000,
          380000,
          399900,
          445000,
          320000,
          312200,
          470000,
          390000,
          305000,
          289000,
          387000,
          377900,
          275000,
          299000,
          485000,
          419900,
          470000,
          325000,
          399990,
          408777,
          385000,
          420000,
          335000,
          375000,
          409900,
          365000,
          373000,
          469000,
          379900,
          379900,
          355000,
          430000,
          349900,
          289500,
          284999,
          360000,
          365000,
          350000,
          350000,
          395977,
          339900,
          365000,
          305000,
          349990,
          341900,
          329900,
          349900,
          399900,
          365000,
          305000,
          315000,
          365000,
          377000,
          359900
         ],
         "yaxis": "y"
        },
        {
         "hovertemplate": "<b>OLS trendline</b><br>price = 126.39 * area + 158575<br>R<sup>2</sup>=0.491534<br><br>statusText=Townhouse for sale<br>area=%{x}<br>price=%{y} <b>(trend)</b><extra></extra>",
         "legendgroup": "Townhouse for sale",
         "marker": {
          "color": "#636efa",
          "symbol": "circle"
         },
         "mode": "lines",
         "name": "Townhouse for sale",
         "showlegend": false,
         "type": "scatter",
         "x": [
          1120,
          1209,
          1224,
          1260,
          1260,
          1278,
          1280,
          1280,
          1300,
          1300,
          1300,
          1320,
          1320,
          1320,
          1396,
          1410,
          1414,
          1440,
          1452,
          1457,
          1462,
          1472,
          1472,
          1472,
          1487,
          1548,
          1561,
          1600,
          1620,
          1620,
          1630,
          1630,
          1662,
          1670,
          1670,
          1675,
          1692,
          1719,
          1744,
          1745,
          1745,
          1755,
          1780,
          1781,
          1786,
          1800,
          1835,
          1840,
          1850,
          1858,
          1864,
          1866,
          1883,
          1894,
          1897,
          1923,
          1957,
          1960,
          1960,
          1968,
          1993,
          1994,
          1995,
          2003,
          2006,
          2007,
          2040,
          2056,
          2076,
          2114,
          2132,
          2138,
          2144,
          2170,
          2180
         ],
         "xaxis": "x",
         "y": [
          300131.9181505076,
          311380.61180169403,
          313276.45904627605,
          317826.4924332728,
          317826.4924332728,
          320101.50912677124,
          320354.28875938215,
          320354.28875938215,
          322882.0850854914,
          322882.0850854914,
          322882.0850854914,
          325409.88141160074,
          325409.88141160074,
          325409.88141160074,
          335015.5074508162,
          336784.9648790927,
          337290.5241443146,
          340576.6593682567,
          342093.33716392226,
          342725.28624544956,
          343357.2353269769,
          344621.1334900316,
          344621.1334900316,
          344621.1334900316,
          346516.9807346136,
          354226.75952924695,
          355869.827141218,
          360799.0299771312,
          363326.8263032405,
          363326.8263032405,
          364590.7244662952,
          364590.7244662952,
          368635.1985880701,
          369646.31711851386,
          369646.31711851386,
          370278.26620004117,
          372426.89307723404,
          375839.41811748163,
          378999.16352511826,
          379125.55334142374,
          379125.55334142374,
          380389.45150447846,
          383549.1969121151,
          383675.5867284206,
          384307.5358099479,
          386076.9932382244,
          390500.6368089157,
          391132.585890443,
          392396.48405349767,
          393407.6025839414,
          394165.9414817742,
          394418.7211143852,
          396567.34799157805,
          397957.63597093814,
          398336.8054198546,
          401622.9406437967,
          405920.19439818256,
          406299.3638470989,
          406299.3638470989,
          407310.48237754265,
          410470.2277851793,
          410596.61760148476,
          410723.00741779024,
          411734.125948234,
          412113.29539715033,
          412239.6852134558,
          416410.5491515362,
          418432.78621242364,
          420960.58253853297,
          425763.39555814065,
          428038.41225163906,
          428796.75114947185,
          429555.09004730463,
          432841.22527124675,
          434105.1234343014
         ],
         "yaxis": "y"
        }
       ],
       "layout": {
        "legend": {
         "title": {
          "text": "statusText"
         },
         "tracegroupgap": 0
        },
        "margin": {
         "t": 60
        },
        "template": {
         "data": {
          "bar": [
           {
            "error_x": {
             "color": "#2a3f5f"
            },
            "error_y": {
             "color": "#2a3f5f"
            },
            "marker": {
             "line": {
              "color": "#E5ECF6",
              "width": 0.5
             },
             "pattern": {
              "fillmode": "overlay",
              "size": 10,
              "solidity": 0.2
             }
            },
            "type": "bar"
           }
          ],
          "barpolar": [
           {
            "marker": {
             "line": {
              "color": "#E5ECF6",
              "width": 0.5
             },
             "pattern": {
              "fillmode": "overlay",
              "size": 10,
              "solidity": 0.2
             }
            },
            "type": "barpolar"
           }
          ],
          "carpet": [
           {
            "aaxis": {
             "endlinecolor": "#2a3f5f",
             "gridcolor": "white",
             "linecolor": "white",
             "minorgridcolor": "white",
             "startlinecolor": "#2a3f5f"
            },
            "baxis": {
             "endlinecolor": "#2a3f5f",
             "gridcolor": "white",
             "linecolor": "white",
             "minorgridcolor": "white",
             "startlinecolor": "#2a3f5f"
            },
            "type": "carpet"
           }
          ],
          "choropleth": [
           {
            "colorbar": {
             "outlinewidth": 0,
             "ticks": ""
            },
            "type": "choropleth"
           }
          ],
          "contour": [
           {
            "colorbar": {
             "outlinewidth": 0,
             "ticks": ""
            },
            "colorscale": [
             [
              0,
              "#0d0887"
             ],
             [
              0.1111111111111111,
              "#46039f"
             ],
             [
              0.2222222222222222,
              "#7201a8"
             ],
             [
              0.3333333333333333,
              "#9c179e"
             ],
             [
              0.4444444444444444,
              "#bd3786"
             ],
             [
              0.5555555555555556,
              "#d8576b"
             ],
             [
              0.6666666666666666,
              "#ed7953"
             ],
             [
              0.7777777777777778,
              "#fb9f3a"
             ],
             [
              0.8888888888888888,
              "#fdca26"
             ],
             [
              1,
              "#f0f921"
             ]
            ],
            "type": "contour"
           }
          ],
          "contourcarpet": [
           {
            "colorbar": {
             "outlinewidth": 0,
             "ticks": ""
            },
            "type": "contourcarpet"
           }
          ],
          "heatmap": [
           {
            "colorbar": {
             "outlinewidth": 0,
             "ticks": ""
            },
            "colorscale": [
             [
              0,
              "#0d0887"
             ],
             [
              0.1111111111111111,
              "#46039f"
             ],
             [
              0.2222222222222222,
              "#7201a8"
             ],
             [
              0.3333333333333333,
              "#9c179e"
             ],
             [
              0.4444444444444444,
              "#bd3786"
             ],
             [
              0.5555555555555556,
              "#d8576b"
             ],
             [
              0.6666666666666666,
              "#ed7953"
             ],
             [
              0.7777777777777778,
              "#fb9f3a"
             ],
             [
              0.8888888888888888,
              "#fdca26"
             ],
             [
              1,
              "#f0f921"
             ]
            ],
            "type": "heatmap"
           }
          ],
          "heatmapgl": [
           {
            "colorbar": {
             "outlinewidth": 0,
             "ticks": ""
            },
            "colorscale": [
             [
              0,
              "#0d0887"
             ],
             [
              0.1111111111111111,
              "#46039f"
             ],
             [
              0.2222222222222222,
              "#7201a8"
             ],
             [
              0.3333333333333333,
              "#9c179e"
             ],
             [
              0.4444444444444444,
              "#bd3786"
             ],
             [
              0.5555555555555556,
              "#d8576b"
             ],
             [
              0.6666666666666666,
              "#ed7953"
             ],
             [
              0.7777777777777778,
              "#fb9f3a"
             ],
             [
              0.8888888888888888,
              "#fdca26"
             ],
             [
              1,
              "#f0f921"
             ]
            ],
            "type": "heatmapgl"
           }
          ],
          "histogram": [
           {
            "marker": {
             "pattern": {
              "fillmode": "overlay",
              "size": 10,
              "solidity": 0.2
             }
            },
            "type": "histogram"
           }
          ],
          "histogram2d": [
           {
            "colorbar": {
             "outlinewidth": 0,
             "ticks": ""
            },
            "colorscale": [
             [
              0,
              "#0d0887"
             ],
             [
              0.1111111111111111,
              "#46039f"
             ],
             [
              0.2222222222222222,
              "#7201a8"
             ],
             [
              0.3333333333333333,
              "#9c179e"
             ],
             [
              0.4444444444444444,
              "#bd3786"
             ],
             [
              0.5555555555555556,
              "#d8576b"
             ],
             [
              0.6666666666666666,
              "#ed7953"
             ],
             [
              0.7777777777777778,
              "#fb9f3a"
             ],
             [
              0.8888888888888888,
              "#fdca26"
             ],
             [
              1,
              "#f0f921"
             ]
            ],
            "type": "histogram2d"
           }
          ],
          "histogram2dcontour": [
           {
            "colorbar": {
             "outlinewidth": 0,
             "ticks": ""
            },
            "colorscale": [
             [
              0,
              "#0d0887"
             ],
             [
              0.1111111111111111,
              "#46039f"
             ],
             [
              0.2222222222222222,
              "#7201a8"
             ],
             [
              0.3333333333333333,
              "#9c179e"
             ],
             [
              0.4444444444444444,
              "#bd3786"
             ],
             [
              0.5555555555555556,
              "#d8576b"
             ],
             [
              0.6666666666666666,
              "#ed7953"
             ],
             [
              0.7777777777777778,
              "#fb9f3a"
             ],
             [
              0.8888888888888888,
              "#fdca26"
             ],
             [
              1,
              "#f0f921"
             ]
            ],
            "type": "histogram2dcontour"
           }
          ],
          "mesh3d": [
           {
            "colorbar": {
             "outlinewidth": 0,
             "ticks": ""
            },
            "type": "mesh3d"
           }
          ],
          "parcoords": [
           {
            "line": {
             "colorbar": {
              "outlinewidth": 0,
              "ticks": ""
             }
            },
            "type": "parcoords"
           }
          ],
          "pie": [
           {
            "automargin": true,
            "type": "pie"
           }
          ],
          "scatter": [
           {
            "marker": {
             "colorbar": {
              "outlinewidth": 0,
              "ticks": ""
             }
            },
            "type": "scatter"
           }
          ],
          "scatter3d": [
           {
            "line": {
             "colorbar": {
              "outlinewidth": 0,
              "ticks": ""
             }
            },
            "marker": {
             "colorbar": {
              "outlinewidth": 0,
              "ticks": ""
             }
            },
            "type": "scatter3d"
           }
          ],
          "scattercarpet": [
           {
            "marker": {
             "colorbar": {
              "outlinewidth": 0,
              "ticks": ""
             }
            },
            "type": "scattercarpet"
           }
          ],
          "scattergeo": [
           {
            "marker": {
             "colorbar": {
              "outlinewidth": 0,
              "ticks": ""
             }
            },
            "type": "scattergeo"
           }
          ],
          "scattergl": [
           {
            "marker": {
             "colorbar": {
              "outlinewidth": 0,
              "ticks": ""
             }
            },
            "type": "scattergl"
           }
          ],
          "scattermapbox": [
           {
            "marker": {
             "colorbar": {
              "outlinewidth": 0,
              "ticks": ""
             }
            },
            "type": "scattermapbox"
           }
          ],
          "scatterpolar": [
           {
            "marker": {
             "colorbar": {
              "outlinewidth": 0,
              "ticks": ""
             }
            },
            "type": "scatterpolar"
           }
          ],
          "scatterpolargl": [
           {
            "marker": {
             "colorbar": {
              "outlinewidth": 0,
              "ticks": ""
             }
            },
            "type": "scatterpolargl"
           }
          ],
          "scatterternary": [
           {
            "marker": {
             "colorbar": {
              "outlinewidth": 0,
              "ticks": ""
             }
            },
            "type": "scatterternary"
           }
          ],
          "surface": [
           {
            "colorbar": {
             "outlinewidth": 0,
             "ticks": ""
            },
            "colorscale": [
             [
              0,
              "#0d0887"
             ],
             [
              0.1111111111111111,
              "#46039f"
             ],
             [
              0.2222222222222222,
              "#7201a8"
             ],
             [
              0.3333333333333333,
              "#9c179e"
             ],
             [
              0.4444444444444444,
              "#bd3786"
             ],
             [
              0.5555555555555556,
              "#d8576b"
             ],
             [
              0.6666666666666666,
              "#ed7953"
             ],
             [
              0.7777777777777778,
              "#fb9f3a"
             ],
             [
              0.8888888888888888,
              "#fdca26"
             ],
             [
              1,
              "#f0f921"
             ]
            ],
            "type": "surface"
           }
          ],
          "table": [
           {
            "cells": {
             "fill": {
              "color": "#EBF0F8"
             },
             "line": {
              "color": "white"
             }
            },
            "header": {
             "fill": {
              "color": "#C8D4E3"
             },
             "line": {
              "color": "white"
             }
            },
            "type": "table"
           }
          ]
         },
         "layout": {
          "annotationdefaults": {
           "arrowcolor": "#2a3f5f",
           "arrowhead": 0,
           "arrowwidth": 1
          },
          "autotypenumbers": "strict",
          "coloraxis": {
           "colorbar": {
            "outlinewidth": 0,
            "ticks": ""
           }
          },
          "colorscale": {
           "diverging": [
            [
             0,
             "#8e0152"
            ],
            [
             0.1,
             "#c51b7d"
            ],
            [
             0.2,
             "#de77ae"
            ],
            [
             0.3,
             "#f1b6da"
            ],
            [
             0.4,
             "#fde0ef"
            ],
            [
             0.5,
             "#f7f7f7"
            ],
            [
             0.6,
             "#e6f5d0"
            ],
            [
             0.7,
             "#b8e186"
            ],
            [
             0.8,
             "#7fbc41"
            ],
            [
             0.9,
             "#4d9221"
            ],
            [
             1,
             "#276419"
            ]
           ],
           "sequential": [
            [
             0,
             "#0d0887"
            ],
            [
             0.1111111111111111,
             "#46039f"
            ],
            [
             0.2222222222222222,
             "#7201a8"
            ],
            [
             0.3333333333333333,
             "#9c179e"
            ],
            [
             0.4444444444444444,
             "#bd3786"
            ],
            [
             0.5555555555555556,
             "#d8576b"
            ],
            [
             0.6666666666666666,
             "#ed7953"
            ],
            [
             0.7777777777777778,
             "#fb9f3a"
            ],
            [
             0.8888888888888888,
             "#fdca26"
            ],
            [
             1,
             "#f0f921"
            ]
           ],
           "sequentialminus": [
            [
             0,
             "#0d0887"
            ],
            [
             0.1111111111111111,
             "#46039f"
            ],
            [
             0.2222222222222222,
             "#7201a8"
            ],
            [
             0.3333333333333333,
             "#9c179e"
            ],
            [
             0.4444444444444444,
             "#bd3786"
            ],
            [
             0.5555555555555556,
             "#d8576b"
            ],
            [
             0.6666666666666666,
             "#ed7953"
            ],
            [
             0.7777777777777778,
             "#fb9f3a"
            ],
            [
             0.8888888888888888,
             "#fdca26"
            ],
            [
             1,
             "#f0f921"
            ]
           ]
          },
          "colorway": [
           "#636efa",
           "#EF553B",
           "#00cc96",
           "#ab63fa",
           "#FFA15A",
           "#19d3f3",
           "#FF6692",
           "#B6E880",
           "#FF97FF",
           "#FECB52"
          ],
          "font": {
           "color": "#2a3f5f"
          },
          "geo": {
           "bgcolor": "white",
           "lakecolor": "white",
           "landcolor": "#E5ECF6",
           "showlakes": true,
           "showland": true,
           "subunitcolor": "white"
          },
          "hoverlabel": {
           "align": "left"
          },
          "hovermode": "closest",
          "mapbox": {
           "style": "light"
          },
          "paper_bgcolor": "white",
          "plot_bgcolor": "#E5ECF6",
          "polar": {
           "angularaxis": {
            "gridcolor": "white",
            "linecolor": "white",
            "ticks": ""
           },
           "bgcolor": "#E5ECF6",
           "radialaxis": {
            "gridcolor": "white",
            "linecolor": "white",
            "ticks": ""
           }
          },
          "scene": {
           "xaxis": {
            "backgroundcolor": "#E5ECF6",
            "gridcolor": "white",
            "gridwidth": 2,
            "linecolor": "white",
            "showbackground": true,
            "ticks": "",
            "zerolinecolor": "white"
           },
           "yaxis": {
            "backgroundcolor": "#E5ECF6",
            "gridcolor": "white",
            "gridwidth": 2,
            "linecolor": "white",
            "showbackground": true,
            "ticks": "",
            "zerolinecolor": "white"
           },
           "zaxis": {
            "backgroundcolor": "#E5ECF6",
            "gridcolor": "white",
            "gridwidth": 2,
            "linecolor": "white",
            "showbackground": true,
            "ticks": "",
            "zerolinecolor": "white"
           }
          },
          "shapedefaults": {
           "line": {
            "color": "#2a3f5f"
           }
          },
          "ternary": {
           "aaxis": {
            "gridcolor": "white",
            "linecolor": "white",
            "ticks": ""
           },
           "baxis": {
            "gridcolor": "white",
            "linecolor": "white",
            "ticks": ""
           },
           "bgcolor": "#E5ECF6",
           "caxis": {
            "gridcolor": "white",
            "linecolor": "white",
            "ticks": ""
           }
          },
          "title": {
           "x": 0.05
          },
          "xaxis": {
           "automargin": true,
           "gridcolor": "white",
           "linecolor": "white",
           "ticks": "",
           "title": {
            "standoff": 15
           },
           "zerolinecolor": "white",
           "zerolinewidth": 2
          },
          "yaxis": {
           "automargin": true,
           "gridcolor": "white",
           "linecolor": "white",
           "ticks": "",
           "title": {
            "standoff": 15
           },
           "zerolinecolor": "white",
           "zerolinewidth": 2
          }
         }
        },
        "xaxis": {
         "anchor": "y",
         "domain": [
          0,
          1
         ],
         "title": {
          "text": "area"
         }
        },
        "yaxis": {
         "anchor": "x",
         "domain": [
          0,
          1
         ],
         "title": {
          "text": "price"
         }
        }
       }
      },
      "text/html": [
       "<div>                            <div id=\"8b1b97d8-3a3b-4ecd-b14b-871a9ac0bb0c\" class=\"plotly-graph-div\" style=\"height:525px; width:100%;\"></div>            <script type=\"text/javascript\">                require([\"plotly\"], function(Plotly) {                    window.PLOTLYENV=window.PLOTLYENV || {};                                    if (document.getElementById(\"8b1b97d8-3a3b-4ecd-b14b-871a9ac0bb0c\")) {                    Plotly.newPlot(                        \"8b1b97d8-3a3b-4ecd-b14b-871a9ac0bb0c\",                        [{\"customdata\":[[\"13138 Vineyard Way, Woodbridge, VA 22191\"],[\"2235 Sluice Channel Pl, Woodbridge, VA 22192\"],[\"11578 Hill Meade Ln, Woodbridge, VA 22192\"],[\"12308 Aztec Pl, Woodbridge, VA 22192\"],[\"14093 Fallbrook Ln, Woodbridge, VA 22193\"],[\"1862 Heather Glen Ct, Woodbridge, VA 22191\"],[\"12539 Basque Pl, Woodbridge, VA 22192\"],[\"12838 Tumbling Brook Ln, Woodbridge, VA 22192\"],[\"11800 Critton Cir, Woodbridge, VA 22192\"],[\"3434 Tuckahoe Ct, Dumfries, VA 22026\"],[\"2855 Banks Ct, Dumfries, VA 22026\"],[\"2707 Steele Ct, Dumfries, VA 22026\"],[\"3085 Bridgeton Ct, Woodbridge, VA 22192\"],[\"1531 Fort Sumter Ct, Dumfries, VA 22026\"],[\"14777 Darbydale Ave, Woodbridge, VA 22193\"],[\"16142 Henderson Ln, Dumfries, VA 22025\"],[\"15364 Bronco Way, Woodbridge, VA 22193\"],[\"14381 Berkshire Dr, Woodbridge, VA 22193\"],[\"14827 Anderson Ct, Woodbridge, VA 22193\"],[\"3138 Antrim Cir, Dumfries, VA 22026\"],[\"2089 Bowline Loop, Woodbridge, VA 22192\"],[\"16933 Toms River Loop, Dumfries, VA 22026\"],[\"3515 Belfry Ln, Woodbridge, VA 22192\"],[\"1900 Mariner Ln, Woodbridge, VA 22192\"],[\"11567 Bertram St, Woodbridge, VA 22192\"],[\"14486 Brentwood Ct, Woodbridge, VA 22193\"],[\"3033 Sigel Ct, Dumfries, VA 22026\"],[\"7830 Bellwether Ct, Lorton, VA 22079\"],[\"3329 Wyndale Ct, Woodbridge, VA 22192\"],[\"2436 Kilpatrick Pl, Dumfries, VA 22026\"],[\"1919 Fort Monroe Ct, Dumfries, VA 22026\"],[\"3844 Marquis Pl, Woodbridge, VA 22192\"],[\"12840 Bison Ct, Woodbridge, VA 22192\"],[\"15328 Gatehouse Ter, Woodbridge, VA 22191\"],[\"5206 Quince Ct, Woodbridge, VA 22193\"],[\"18173 Red Mulberry Rd, Dumfries, VA 22026\"],[\"12836 Tumbling Brook Ln, Woodbridge, VA 22192\"],[\"13399 Dogues Ter, Woodbridge, VA 22191\"],[\"14835 Cherrydale Dr, Woodbridge, VA 22193\"],[\"2628 Miranda Ct, Woodbridge, VA 22191\"],[\"5225 Spring Branch Blvd, Dumfries, VA 22025\"],[\"4260 Ashmere Cir, Dumfries, VA 22025\"],[\"15724 Lansdale Pl, Dumfries, VA 22025\"],[\"3443 Brookville Ln, Woodbridge, VA 22192\"],[\"15566 Traverser Ct, Woodbridge, VA 22193\"],[\"15359 Inlet Pl, Dumfries, VA 22025\"],[\"17028 Point Pleasant Ln, Dumfries, VA 22026\"],[\"15355 Inlet Pl, Dumfries, VA 22025\"],[\"5007 Seal Pl, Dumfries, VA 22025\"],[\"13105 Brookside Ct, Woodbridge, VA 22191\"],[\"12223 Allspice Ct, Woodbridge, VA 22192\"],[\"14881 Cherrydale Dr, Woodbridge, VA 22193\"],[\"3080 Bridgeton Ct, Woodbridge, VA 22192\"],[\"2931 Cambridge Dr, Woodbridge, VA 22192\"],[\"3005 Sigel Ct, Dumfries, VA 22026\"],[\"2542 Sedgewick Pl, Dumfries, VA 22026\"],[\"3457 Castle Hill Dr, Woodbridge, VA 22193\"],[\"4196 Ashmere Cir, Dumfries, VA 22025\"],[\"4905 Backwater Ct, Dumfries, VA 22025\"],[\"4901 Saltwater Dr, Dumfries, VA 22025\"],[\"15333 Inlet Pl, Dumfries, VA 22025\"],[\"15023 Catalpa Ct, Woodbridge, VA 22193\"],[\"3519 Castle Hill Dr, Woodbridge, VA 22193\"],[\"14625 Endsley Turn, Woodbridge, VA 22193\"],[\"14806 Emberdale Dr, Woodbridge, VA 22193\"],[\"15001 Cardin Pl, Woodbridge, VA 22193\"],[\"15068 Catbrier Ct, Woodbridge, VA 22193\"],[\"3458 Beale Ct, Woodbridge, VA 22193\"],[\"17250 Garcia Way, Dumfries, VA 22026\"],[\"3433 Belleplain Ct, Dumfries, VA 22026\"],[\"2906 Wetherburn Ct, Woodbridge, VA 22191\"],[\"4667 Prather Pl, Woodbridge, VA 22193\"],[\"3467 Vale Ct, Woodbridge, VA 22192\"],[\"12682 Perchance Ter, Woodbridge, VA 22192\"],[\"14404 Belvedere Dr, Woodbridge, VA 22193\"]],\"hovertemplate\":\"statusText=Townhouse for sale<br>area=%{x}<br>price=%{y}<br>address=%{customdata[0]}<extra></extra>\",\"legendgroup\":\"Townhouse for sale\",\"marker\":{\"color\":\"#636efa\",\"symbol\":\"circle\"},\"mode\":\"markers\",\"name\":\"Townhouse for sale\",\"orientation\":\"v\",\"showlegend\":true,\"x\":[2076.0,2144.0,1960.0,2040.0,2006.0,1897.0,1662.0,1858.0,2056.0,1561.0,1300.0,1320.0,1894.0,1835.0,2132.0,1864.0,2138.0,1548.0,1923.0,2114.0,1755.0,1850.0,1630.0,1866.0,1957.0,1883.0,1396.0,1745.0,1670.0,1320.0,1280.0,1675.0,1670.0,1209.0,1260.0,1780.0,2003.0,2180.0,1278.0,1994.0,1781.0,1462.0,1968.0,1280.0,2007.0,1410.0,1692.0,1800.0,2170.0,1786.0,1744.0,1620.0,1960.0,1600.0,1320.0,1300.0,1620.0,1487.0,1472.0,1452.0,1993.0,1745.0,1472.0,1440.0,1457.0,1472.0,1300.0,1224.0,1995.0,1630.0,1260.0,1120.0,1414.0,1840.0,1719.0],\"xaxis\":\"x\",\"y\":[356900,449900,475000,455000,329900,430000,399499,400000,445000,399000,273999,285000,445000,324800,375990,330000,405000,359000,349000,389900,429900,355000,380000,399900,445000,320000,312200,470000,390000,305000,289000,387000,377900,275000,299000,485000,419900,470000,325000,399990,408777,385000,420000,335000,375000,409900,365000,373000,469000,379900,379900,355000,430000,349900,289500,284999,360000,365000,350000,350000,395977,339900,365000,305000,349990,341900,329900,349900,399900,365000,305000,315000,365000,377000,359900],\"yaxis\":\"y\",\"type\":\"scatter\"},{\"hovertemplate\":\"<b>OLS trendline</b><br>price = 126.39 * area + 158575<br>R<sup>2</sup>=0.491534<br><br>statusText=Townhouse for sale<br>area=%{x}<br>price=%{y} <b>(trend)</b><extra></extra>\",\"legendgroup\":\"Townhouse for sale\",\"marker\":{\"color\":\"#636efa\",\"symbol\":\"circle\"},\"mode\":\"lines\",\"name\":\"Townhouse for sale\",\"showlegend\":false,\"x\":[1120.0,1209.0,1224.0,1260.0,1260.0,1278.0,1280.0,1280.0,1300.0,1300.0,1300.0,1320.0,1320.0,1320.0,1396.0,1410.0,1414.0,1440.0,1452.0,1457.0,1462.0,1472.0,1472.0,1472.0,1487.0,1548.0,1561.0,1600.0,1620.0,1620.0,1630.0,1630.0,1662.0,1670.0,1670.0,1675.0,1692.0,1719.0,1744.0,1745.0,1745.0,1755.0,1780.0,1781.0,1786.0,1800.0,1835.0,1840.0,1850.0,1858.0,1864.0,1866.0,1883.0,1894.0,1897.0,1923.0,1957.0,1960.0,1960.0,1968.0,1993.0,1994.0,1995.0,2003.0,2006.0,2007.0,2040.0,2056.0,2076.0,2114.0,2132.0,2138.0,2144.0,2170.0,2180.0],\"xaxis\":\"x\",\"y\":[300131.9181505076,311380.61180169403,313276.45904627605,317826.4924332728,317826.4924332728,320101.50912677124,320354.28875938215,320354.28875938215,322882.0850854914,322882.0850854914,322882.0850854914,325409.88141160074,325409.88141160074,325409.88141160074,335015.5074508162,336784.9648790927,337290.5241443146,340576.6593682567,342093.33716392226,342725.28624544956,343357.2353269769,344621.1334900316,344621.1334900316,344621.1334900316,346516.9807346136,354226.75952924695,355869.827141218,360799.0299771312,363326.8263032405,363326.8263032405,364590.7244662952,364590.7244662952,368635.1985880701,369646.31711851386,369646.31711851386,370278.26620004117,372426.89307723404,375839.41811748163,378999.16352511826,379125.55334142374,379125.55334142374,380389.45150447846,383549.1969121151,383675.5867284206,384307.5358099479,386076.9932382244,390500.6368089157,391132.585890443,392396.48405349767,393407.6025839414,394165.9414817742,394418.7211143852,396567.34799157805,397957.63597093814,398336.8054198546,401622.9406437967,405920.19439818256,406299.3638470989,406299.3638470989,407310.48237754265,410470.2277851793,410596.61760148476,410723.00741779024,411734.125948234,412113.29539715033,412239.6852134558,416410.5491515362,418432.78621242364,420960.58253853297,425763.39555814065,428038.41225163906,428796.75114947185,429555.09004730463,432841.22527124675,434105.1234343014],\"yaxis\":\"y\",\"type\":\"scatter\"}],                        {\"template\":{\"data\":{\"bar\":[{\"error_x\":{\"color\":\"#2a3f5f\"},\"error_y\":{\"color\":\"#2a3f5f\"},\"marker\":{\"line\":{\"color\":\"#E5ECF6\",\"width\":0.5},\"pattern\":{\"fillmode\":\"overlay\",\"size\":10,\"solidity\":0.2}},\"type\":\"bar\"}],\"barpolar\":[{\"marker\":{\"line\":{\"color\":\"#E5ECF6\",\"width\":0.5},\"pattern\":{\"fillmode\":\"overlay\",\"size\":10,\"solidity\":0.2}},\"type\":\"barpolar\"}],\"carpet\":[{\"aaxis\":{\"endlinecolor\":\"#2a3f5f\",\"gridcolor\":\"white\",\"linecolor\":\"white\",\"minorgridcolor\":\"white\",\"startlinecolor\":\"#2a3f5f\"},\"baxis\":{\"endlinecolor\":\"#2a3f5f\",\"gridcolor\":\"white\",\"linecolor\":\"white\",\"minorgridcolor\":\"white\",\"startlinecolor\":\"#2a3f5f\"},\"type\":\"carpet\"}],\"choropleth\":[{\"colorbar\":{\"outlinewidth\":0,\"ticks\":\"\"},\"type\":\"choropleth\"}],\"contour\":[{\"colorbar\":{\"outlinewidth\":0,\"ticks\":\"\"},\"colorscale\":[[0.0,\"#0d0887\"],[0.1111111111111111,\"#46039f\"],[0.2222222222222222,\"#7201a8\"],[0.3333333333333333,\"#9c179e\"],[0.4444444444444444,\"#bd3786\"],[0.5555555555555556,\"#d8576b\"],[0.6666666666666666,\"#ed7953\"],[0.7777777777777778,\"#fb9f3a\"],[0.8888888888888888,\"#fdca26\"],[1.0,\"#f0f921\"]],\"type\":\"contour\"}],\"contourcarpet\":[{\"colorbar\":{\"outlinewidth\":0,\"ticks\":\"\"},\"type\":\"contourcarpet\"}],\"heatmap\":[{\"colorbar\":{\"outlinewidth\":0,\"ticks\":\"\"},\"colorscale\":[[0.0,\"#0d0887\"],[0.1111111111111111,\"#46039f\"],[0.2222222222222222,\"#7201a8\"],[0.3333333333333333,\"#9c179e\"],[0.4444444444444444,\"#bd3786\"],[0.5555555555555556,\"#d8576b\"],[0.6666666666666666,\"#ed7953\"],[0.7777777777777778,\"#fb9f3a\"],[0.8888888888888888,\"#fdca26\"],[1.0,\"#f0f921\"]],\"type\":\"heatmap\"}],\"heatmapgl\":[{\"colorbar\":{\"outlinewidth\":0,\"ticks\":\"\"},\"colorscale\":[[0.0,\"#0d0887\"],[0.1111111111111111,\"#46039f\"],[0.2222222222222222,\"#7201a8\"],[0.3333333333333333,\"#9c179e\"],[0.4444444444444444,\"#bd3786\"],[0.5555555555555556,\"#d8576b\"],[0.6666666666666666,\"#ed7953\"],[0.7777777777777778,\"#fb9f3a\"],[0.8888888888888888,\"#fdca26\"],[1.0,\"#f0f921\"]],\"type\":\"heatmapgl\"}],\"histogram\":[{\"marker\":{\"pattern\":{\"fillmode\":\"overlay\",\"size\":10,\"solidity\":0.2}},\"type\":\"histogram\"}],\"histogram2d\":[{\"colorbar\":{\"outlinewidth\":0,\"ticks\":\"\"},\"colorscale\":[[0.0,\"#0d0887\"],[0.1111111111111111,\"#46039f\"],[0.2222222222222222,\"#7201a8\"],[0.3333333333333333,\"#9c179e\"],[0.4444444444444444,\"#bd3786\"],[0.5555555555555556,\"#d8576b\"],[0.6666666666666666,\"#ed7953\"],[0.7777777777777778,\"#fb9f3a\"],[0.8888888888888888,\"#fdca26\"],[1.0,\"#f0f921\"]],\"type\":\"histogram2d\"}],\"histogram2dcontour\":[{\"colorbar\":{\"outlinewidth\":0,\"ticks\":\"\"},\"colorscale\":[[0.0,\"#0d0887\"],[0.1111111111111111,\"#46039f\"],[0.2222222222222222,\"#7201a8\"],[0.3333333333333333,\"#9c179e\"],[0.4444444444444444,\"#bd3786\"],[0.5555555555555556,\"#d8576b\"],[0.6666666666666666,\"#ed7953\"],[0.7777777777777778,\"#fb9f3a\"],[0.8888888888888888,\"#fdca26\"],[1.0,\"#f0f921\"]],\"type\":\"histogram2dcontour\"}],\"mesh3d\":[{\"colorbar\":{\"outlinewidth\":0,\"ticks\":\"\"},\"type\":\"mesh3d\"}],\"parcoords\":[{\"line\":{\"colorbar\":{\"outlinewidth\":0,\"ticks\":\"\"}},\"type\":\"parcoords\"}],\"pie\":[{\"automargin\":true,\"type\":\"pie\"}],\"scatter\":[{\"marker\":{\"colorbar\":{\"outlinewidth\":0,\"ticks\":\"\"}},\"type\":\"scatter\"}],\"scatter3d\":[{\"line\":{\"colorbar\":{\"outlinewidth\":0,\"ticks\":\"\"}},\"marker\":{\"colorbar\":{\"outlinewidth\":0,\"ticks\":\"\"}},\"type\":\"scatter3d\"}],\"scattercarpet\":[{\"marker\":{\"colorbar\":{\"outlinewidth\":0,\"ticks\":\"\"}},\"type\":\"scattercarpet\"}],\"scattergeo\":[{\"marker\":{\"colorbar\":{\"outlinewidth\":0,\"ticks\":\"\"}},\"type\":\"scattergeo\"}],\"scattergl\":[{\"marker\":{\"colorbar\":{\"outlinewidth\":0,\"ticks\":\"\"}},\"type\":\"scattergl\"}],\"scattermapbox\":[{\"marker\":{\"colorbar\":{\"outlinewidth\":0,\"ticks\":\"\"}},\"type\":\"scattermapbox\"}],\"scatterpolar\":[{\"marker\":{\"colorbar\":{\"outlinewidth\":0,\"ticks\":\"\"}},\"type\":\"scatterpolar\"}],\"scatterpolargl\":[{\"marker\":{\"colorbar\":{\"outlinewidth\":0,\"ticks\":\"\"}},\"type\":\"scatterpolargl\"}],\"scatterternary\":[{\"marker\":{\"colorbar\":{\"outlinewidth\":0,\"ticks\":\"\"}},\"type\":\"scatterternary\"}],\"surface\":[{\"colorbar\":{\"outlinewidth\":0,\"ticks\":\"\"},\"colorscale\":[[0.0,\"#0d0887\"],[0.1111111111111111,\"#46039f\"],[0.2222222222222222,\"#7201a8\"],[0.3333333333333333,\"#9c179e\"],[0.4444444444444444,\"#bd3786\"],[0.5555555555555556,\"#d8576b\"],[0.6666666666666666,\"#ed7953\"],[0.7777777777777778,\"#fb9f3a\"],[0.8888888888888888,\"#fdca26\"],[1.0,\"#f0f921\"]],\"type\":\"surface\"}],\"table\":[{\"cells\":{\"fill\":{\"color\":\"#EBF0F8\"},\"line\":{\"color\":\"white\"}},\"header\":{\"fill\":{\"color\":\"#C8D4E3\"},\"line\":{\"color\":\"white\"}},\"type\":\"table\"}]},\"layout\":{\"annotationdefaults\":{\"arrowcolor\":\"#2a3f5f\",\"arrowhead\":0,\"arrowwidth\":1},\"autotypenumbers\":\"strict\",\"coloraxis\":{\"colorbar\":{\"outlinewidth\":0,\"ticks\":\"\"}},\"colorscale\":{\"diverging\":[[0,\"#8e0152\"],[0.1,\"#c51b7d\"],[0.2,\"#de77ae\"],[0.3,\"#f1b6da\"],[0.4,\"#fde0ef\"],[0.5,\"#f7f7f7\"],[0.6,\"#e6f5d0\"],[0.7,\"#b8e186\"],[0.8,\"#7fbc41\"],[0.9,\"#4d9221\"],[1,\"#276419\"]],\"sequential\":[[0.0,\"#0d0887\"],[0.1111111111111111,\"#46039f\"],[0.2222222222222222,\"#7201a8\"],[0.3333333333333333,\"#9c179e\"],[0.4444444444444444,\"#bd3786\"],[0.5555555555555556,\"#d8576b\"],[0.6666666666666666,\"#ed7953\"],[0.7777777777777778,\"#fb9f3a\"],[0.8888888888888888,\"#fdca26\"],[1.0,\"#f0f921\"]],\"sequentialminus\":[[0.0,\"#0d0887\"],[0.1111111111111111,\"#46039f\"],[0.2222222222222222,\"#7201a8\"],[0.3333333333333333,\"#9c179e\"],[0.4444444444444444,\"#bd3786\"],[0.5555555555555556,\"#d8576b\"],[0.6666666666666666,\"#ed7953\"],[0.7777777777777778,\"#fb9f3a\"],[0.8888888888888888,\"#fdca26\"],[1.0,\"#f0f921\"]]},\"colorway\":[\"#636efa\",\"#EF553B\",\"#00cc96\",\"#ab63fa\",\"#FFA15A\",\"#19d3f3\",\"#FF6692\",\"#B6E880\",\"#FF97FF\",\"#FECB52\"],\"font\":{\"color\":\"#2a3f5f\"},\"geo\":{\"bgcolor\":\"white\",\"lakecolor\":\"white\",\"landcolor\":\"#E5ECF6\",\"showlakes\":true,\"showland\":true,\"subunitcolor\":\"white\"},\"hoverlabel\":{\"align\":\"left\"},\"hovermode\":\"closest\",\"mapbox\":{\"style\":\"light\"},\"paper_bgcolor\":\"white\",\"plot_bgcolor\":\"#E5ECF6\",\"polar\":{\"angularaxis\":{\"gridcolor\":\"white\",\"linecolor\":\"white\",\"ticks\":\"\"},\"bgcolor\":\"#E5ECF6\",\"radialaxis\":{\"gridcolor\":\"white\",\"linecolor\":\"white\",\"ticks\":\"\"}},\"scene\":{\"xaxis\":{\"backgroundcolor\":\"#E5ECF6\",\"gridcolor\":\"white\",\"gridwidth\":2,\"linecolor\":\"white\",\"showbackground\":true,\"ticks\":\"\",\"zerolinecolor\":\"white\"},\"yaxis\":{\"backgroundcolor\":\"#E5ECF6\",\"gridcolor\":\"white\",\"gridwidth\":2,\"linecolor\":\"white\",\"showbackground\":true,\"ticks\":\"\",\"zerolinecolor\":\"white\"},\"zaxis\":{\"backgroundcolor\":\"#E5ECF6\",\"gridcolor\":\"white\",\"gridwidth\":2,\"linecolor\":\"white\",\"showbackground\":true,\"ticks\":\"\",\"zerolinecolor\":\"white\"}},\"shapedefaults\":{\"line\":{\"color\":\"#2a3f5f\"}},\"ternary\":{\"aaxis\":{\"gridcolor\":\"white\",\"linecolor\":\"white\",\"ticks\":\"\"},\"baxis\":{\"gridcolor\":\"white\",\"linecolor\":\"white\",\"ticks\":\"\"},\"bgcolor\":\"#E5ECF6\",\"caxis\":{\"gridcolor\":\"white\",\"linecolor\":\"white\",\"ticks\":\"\"}},\"title\":{\"x\":0.05},\"xaxis\":{\"automargin\":true,\"gridcolor\":\"white\",\"linecolor\":\"white\",\"ticks\":\"\",\"title\":{\"standoff\":15},\"zerolinecolor\":\"white\",\"zerolinewidth\":2},\"yaxis\":{\"automargin\":true,\"gridcolor\":\"white\",\"linecolor\":\"white\",\"ticks\":\"\",\"title\":{\"standoff\":15},\"zerolinecolor\":\"white\",\"zerolinewidth\":2}}},\"xaxis\":{\"anchor\":\"y\",\"domain\":[0.0,1.0],\"title\":{\"text\":\"area\"}},\"yaxis\":{\"anchor\":\"x\",\"domain\":[0.0,1.0],\"title\":{\"text\":\"price\"}},\"legend\":{\"title\":{\"text\":\"statusText\"},\"tracegroupgap\":0},\"margin\":{\"t\":60}},                        {\"responsive\": true}                    ).then(function(){\n",
       "                            \n",
       "var gd = document.getElementById('8b1b97d8-3a3b-4ecd-b14b-871a9ac0bb0c');\n",
       "var x = new MutationObserver(function (mutations, observer) {{\n",
       "        var display = window.getComputedStyle(gd).display;\n",
       "        if (!display || display === 'none') {{\n",
       "            console.log([gd, 'removed!']);\n",
       "            Plotly.purge(gd);\n",
       "            observer.disconnect();\n",
       "        }}\n",
       "}});\n",
       "\n",
       "// Listen for the removal of the full notebook cells\n",
       "var notebookContainer = gd.closest('#notebook-container');\n",
       "if (notebookContainer) {{\n",
       "    x.observe(notebookContainer, {childList: true});\n",
       "}}\n",
       "\n",
       "// Listen for the clearing of the current output cell\n",
       "var outputEl = gd.closest('.output');\n",
       "if (outputEl) {{\n",
       "    x.observe(outputEl, {childList: true});\n",
       "}}\n",
       "\n",
       "                        })                };                });            </script>        </div>"
      ]
     },
     "metadata": {},
     "output_type": "display_data"
    },
    {
     "name": "stdout",
     "output_type": "stream",
     "text": [
      "           statusText                                     px_fit_results\n",
      "0  Townhouse for sale  <statsmodels.regression.linear_model.Regressio...\n"
     ]
    },
    {
     "data": {
      "text/html": [
       "<table class=\"simpletable\">\n",
       "<caption>OLS Regression Results</caption>\n",
       "<tr>\n",
       "  <th>Dep. Variable:</th>            <td>y</td>        <th>  R-squared:         </th> <td>   0.492</td>\n",
       "</tr>\n",
       "<tr>\n",
       "  <th>Model:</th>                   <td>OLS</td>       <th>  Adj. R-squared:    </th> <td>   0.485</td>\n",
       "</tr>\n",
       "<tr>\n",
       "  <th>Method:</th>             <td>Least Squares</td>  <th>  F-statistic:       </th> <td>   70.57</td>\n",
       "</tr>\n",
       "<tr>\n",
       "  <th>Date:</th>             <td>Thu, 27 Oct 2022</td> <th>  Prob (F-statistic):</th> <td>2.49e-12</td>\n",
       "</tr>\n",
       "<tr>\n",
       "  <th>Time:</th>                 <td>00:37:07</td>     <th>  Log-Likelihood:    </th> <td> -894.90</td>\n",
       "</tr>\n",
       "<tr>\n",
       "  <th>No. Observations:</th>      <td>    75</td>      <th>  AIC:               </th> <td>   1794.</td>\n",
       "</tr>\n",
       "<tr>\n",
       "  <th>Df Residuals:</th>          <td>    73</td>      <th>  BIC:               </th> <td>   1798.</td>\n",
       "</tr>\n",
       "<tr>\n",
       "  <th>Df Model:</th>              <td>     1</td>      <th>                     </th>     <td> </td>   \n",
       "</tr>\n",
       "<tr>\n",
       "  <th>Covariance Type:</th>      <td>nonrobust</td>    <th>                     </th>     <td> </td>   \n",
       "</tr>\n",
       "</table>\n",
       "<table class=\"simpletable\">\n",
       "<tr>\n",
       "    <td></td>       <th>coef</th>     <th>std err</th>      <th>t</th>      <th>P>|t|</th>  <th>[0.025</th>    <th>0.975]</th>  \n",
       "</tr>\n",
       "<tr>\n",
       "  <th>const</th> <td> 1.586e+05</td> <td> 2.58e+04</td> <td>    6.149</td> <td> 0.000</td> <td> 1.07e+05</td> <td>  2.1e+05</td>\n",
       "</tr>\n",
       "<tr>\n",
       "  <th>x1</th>    <td>  126.3898</td> <td>   15.045</td> <td>    8.401</td> <td> 0.000</td> <td>   96.404</td> <td>  156.375</td>\n",
       "</tr>\n",
       "</table>\n",
       "<table class=\"simpletable\">\n",
       "<tr>\n",
       "  <th>Omnibus:</th>       <td> 0.668</td> <th>  Durbin-Watson:     </th> <td>   1.760</td>\n",
       "</tr>\n",
       "<tr>\n",
       "  <th>Prob(Omnibus):</th> <td> 0.716</td> <th>  Jarque-Bera (JB):  </th> <td>   0.320</td>\n",
       "</tr>\n",
       "<tr>\n",
       "  <th>Skew:</th>          <td> 0.147</td> <th>  Prob(JB):          </th> <td>   0.852</td>\n",
       "</tr>\n",
       "<tr>\n",
       "  <th>Kurtosis:</th>      <td> 3.126</td> <th>  Cond. No.          </th> <td>1.03e+04</td>\n",
       "</tr>\n",
       "</table><br/><br/>Notes:<br/>[1] Standard Errors assume that the covariance matrix of the errors is correctly specified.<br/>[2] The condition number is large, 1.03e+04. This might indicate that there are<br/>strong multicollinearity or other numerical problems."
      ],
      "text/plain": [
       "<class 'statsmodels.iolib.summary.Summary'>\n",
       "\"\"\"\n",
       "                            OLS Regression Results                            \n",
       "==============================================================================\n",
       "Dep. Variable:                      y   R-squared:                       0.492\n",
       "Model:                            OLS   Adj. R-squared:                  0.485\n",
       "Method:                 Least Squares   F-statistic:                     70.57\n",
       "Date:                Thu, 27 Oct 2022   Prob (F-statistic):           2.49e-12\n",
       "Time:                        00:37:07   Log-Likelihood:                -894.90\n",
       "No. Observations:                  75   AIC:                             1794.\n",
       "Df Residuals:                      73   BIC:                             1798.\n",
       "Df Model:                           1                                         \n",
       "Covariance Type:            nonrobust                                         \n",
       "==============================================================================\n",
       "                 coef    std err          t      P>|t|      [0.025      0.975]\n",
       "------------------------------------------------------------------------------\n",
       "const       1.586e+05   2.58e+04      6.149      0.000    1.07e+05     2.1e+05\n",
       "x1           126.3898     15.045      8.401      0.000      96.404     156.375\n",
       "==============================================================================\n",
       "Omnibus:                        0.668   Durbin-Watson:                   1.760\n",
       "Prob(Omnibus):                  0.716   Jarque-Bera (JB):                0.320\n",
       "Skew:                           0.147   Prob(JB):                        0.852\n",
       "Kurtosis:                       3.126   Cond. No.                     1.03e+04\n",
       "==============================================================================\n",
       "\n",
       "Notes:\n",
       "[1] Standard Errors assume that the covariance matrix of the errors is correctly specified.\n",
       "[2] The condition number is large, 1.03e+04. This might indicate that there are\n",
       "strong multicollinearity or other numerical problems.\n",
       "\"\"\""
      ]
     },
     "execution_count": 50,
     "metadata": {},
     "output_type": "execute_result"
    }
   ],
   "source": [
    "#plot all lat longs of for sale homes, on scatter, color by type of home status\n",
    "#facet for besds and baths\n",
    "fig = px.scatter(df , y='price', x='area',  color = \"statusText\", trendline=\"ols\", hover_data=['address'])\n",
    "fig.show()\n",
    "\n",
    "results = px.get_trendline_results(fig)\n",
    "print(results)\n",
    "\n",
    "results.px_fit_results.iloc[0].summary()\n"
   ]
  },
  {
   "cell_type": "markdown",
   "id": "ccb45bf7",
   "metadata": {},
   "source": [
    "Sourcing\n",
    "https://plotly.com/python/mapbox-layers/\n",
    "https://pandas.pydata.org/docs/user_guide/index.html#user-guide\n",
    "https://plotly.com/python/builtin-colorscales/\n",
    "https://plotly.com/python/scattermapbox/"
   ]
  }
 ],
 "metadata": {
  "kernelspec": {
   "display_name": "Python 3 (ipykernel)",
   "language": "python",
   "name": "python3"
  },
  "language_info": {
   "codemirror_mode": {
    "name": "ipython",
    "version": 3
   },
   "file_extension": ".py",
   "mimetype": "text/x-python",
   "name": "python",
   "nbconvert_exporter": "python",
   "pygments_lexer": "ipython3",
   "version": "3.9.12"
  }
 },
 "nbformat": 4,
 "nbformat_minor": 5
}
